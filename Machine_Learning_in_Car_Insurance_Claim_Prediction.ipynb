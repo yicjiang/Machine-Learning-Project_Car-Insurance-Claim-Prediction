{
  "cells": [
    {
      "cell_type": "markdown",
      "metadata": {
        "id": "view-in-github",
        "colab_type": "text"
      },
      "source": [
        "<a href=\"https://colab.research.google.com/github/yicjiang/Machine-Learning-Project_Car-Insurance-Claim-Prediction/blob/main/Machine_Learning_in_Car_Insurance_Claim_Prediction.ipynb\" target=\"_parent\"><img src=\"https://colab.research.google.com/assets/colab-badge.svg\" alt=\"Open In Colab\"/></a>"
      ]
    },
    {
      "cell_type": "markdown",
      "metadata": {
        "id": "NvaXiAS37jEH"
      },
      "source": [
        "#BA810 - Final Project"
      ]
    },
    {
      "cell_type": "markdown",
      "metadata": {
        "id": "fkhDIX69mJGp"
      },
      "source": [
        "Source of Data: https://www.kaggle.com/datasets/sagnik1511/car-insurance-data"
      ]
    },
    {
      "cell_type": "markdown",
      "metadata": {
        "id": "L3_6HyYRF0-k"
      },
      "source": [
        "## **Data Exploring**##"
      ]
    },
    {
      "cell_type": "code",
      "execution_count": null,
      "metadata": {
        "id": "AC0b6UoL7tu0"
      },
      "outputs": [],
      "source": [
        "#import package\n",
        "import pandas as pd\n",
        "import numpy as np\n",
        "import matplotlib.pyplot as plt\n",
        "import seaborn as sns \n",
        "\n",
        "import warnings\n",
        "warnings.filterwarnings('ignore')"
      ]
    },
    {
      "cell_type": "code",
      "execution_count": null,
      "metadata": {
        "id": "Z_Mwwa7CtzW_",
        "colab": {
          "base_uri": "https://localhost:8080/"
        },
        "outputId": "c6106519-063c-4fec-aeb2-3d8456bca8d5"
      },
      "outputs": [
        {
          "output_type": "stream",
          "name": "stdout",
          "text": [
            "Mounted at /content/drive\n"
          ]
        }
      ],
      "source": [
        "#mount google drive\n",
        "from google.colab import drive\n",
        "drive.mount('/content/drive')\n",
        "data_folder = '/content/drive/Shareddrives/BA810/'"
      ]
    },
    {
      "cell_type": "code",
      "execution_count": null,
      "metadata": {
        "id": "fKdBNfwej6oR"
      },
      "outputs": [],
      "source": [
        "#set data\n",
        "rawdata = pd.read_csv(data_folder + 'Car_Insurance_Claim.csv')\n",
        "df   = rawdata.astype({'AGE': 'category', \n",
        "                       'GENDER':'category', \n",
        "                       'RACE':'category', \n",
        "                       'DRIVING_EXPERIENCE':'category', \n",
        "                       'EDUCATION':'category',\n",
        "                       'INCOME':'category',\n",
        "                       'VEHICLE_YEAR':'category',\n",
        "                       'VEHICLE_OWNERSHIP':'category',\n",
        "                       'MARRIED':'category',\n",
        "                       'CHILDREN':'category',\n",
        "                       'POSTAL_CODE':'category',\n",
        "                       'ANNUAL_MILEAGE':'category',\n",
        "                       'VEHICLE_TYPE':'category',\n",
        "                       'SPEEDING_VIOLATIONS':'category',\n",
        "                       'DUIS':'category',\n",
        "                       'PAST_ACCIDENTS':'category',\n",
        "                       'OUTCOME':'category',\n",
        "                       })"
      ]
    },
    {
      "cell_type": "code",
      "execution_count": null,
      "metadata": {
        "id": "klxhyMBT6r33",
        "colab": {
          "base_uri": "https://localhost:8080/",
          "height": 821
        },
        "outputId": "00bb76aa-92d3-4970-ecc4-a3dae96ba4fd"
      },
      "outputs": [
        {
          "output_type": "stream",
          "name": "stdout",
          "text": [
            "<class 'pandas.core.frame.DataFrame'>\n",
            "RangeIndex: 10000 entries, 0 to 9999\n",
            "Data columns (total 19 columns):\n",
            " #   Column               Non-Null Count  Dtype   \n",
            "---  ------               --------------  -----   \n",
            " 0   ID                   10000 non-null  int64   \n",
            " 1   AGE                  10000 non-null  category\n",
            " 2   GENDER               10000 non-null  category\n",
            " 3   RACE                 10000 non-null  category\n",
            " 4   DRIVING_EXPERIENCE   10000 non-null  category\n",
            " 5   EDUCATION            10000 non-null  category\n",
            " 6   INCOME               10000 non-null  category\n",
            " 7   CREDIT_SCORE         9018 non-null   float64 \n",
            " 8   VEHICLE_OWNERSHIP    10000 non-null  category\n",
            " 9   VEHICLE_YEAR         10000 non-null  category\n",
            " 10  MARRIED              10000 non-null  category\n",
            " 11  CHILDREN             10000 non-null  category\n",
            " 12  POSTAL_CODE          10000 non-null  category\n",
            " 13  ANNUAL_MILEAGE       9043 non-null   category\n",
            " 14  VEHICLE_TYPE         10000 non-null  category\n",
            " 15  SPEEDING_VIOLATIONS  10000 non-null  category\n",
            " 16  DUIS                 10000 non-null  category\n",
            " 17  PAST_ACCIDENTS       10000 non-null  category\n",
            " 18  OUTCOME              10000 non-null  category\n",
            "dtypes: category(17), float64(1), int64(1)\n",
            "memory usage: 326.7 KB\n"
          ]
        },
        {
          "output_type": "execute_result",
          "data": {
            "text/plain": [
              "       ID    AGE  GENDER      RACE DRIVING_EXPERIENCE    EDUCATION  \\\n",
              "0  569520    65+  female  majority               0-9y  high school   \n",
              "1  750365  16-25    male  majority               0-9y         none   \n",
              "2  199901  16-25  female  majority               0-9y  high school   \n",
              "3  478866  16-25    male  majority               0-9y   university   \n",
              "4  731664  26-39    male  majority             10-19y         none   \n",
              "\n",
              "          INCOME  CREDIT_SCORE VEHICLE_OWNERSHIP VEHICLE_YEAR MARRIED  \\\n",
              "0    upper class      0.629027               1.0   after 2015     0.0   \n",
              "1        poverty      0.357757               0.0  before 2015     0.0   \n",
              "2  working class      0.493146               1.0  before 2015     0.0   \n",
              "3  working class      0.206013               1.0  before 2015     0.0   \n",
              "4  working class      0.388366               1.0  before 2015     0.0   \n",
              "\n",
              "  CHILDREN POSTAL_CODE ANNUAL_MILEAGE VEHICLE_TYPE SPEEDING_VIOLATIONS DUIS  \\\n",
              "0      1.0       10238        12000.0        sedan                   0    0   \n",
              "1      0.0       10238        16000.0        sedan                   0    0   \n",
              "2      0.0       10238        11000.0        sedan                   0    0   \n",
              "3      1.0       32765        11000.0        sedan                   0    0   \n",
              "4      0.0       32765        12000.0        sedan                   2    0   \n",
              "\n",
              "  PAST_ACCIDENTS OUTCOME  \n",
              "0              0     0.0  \n",
              "1              0     1.0  \n",
              "2              0     0.0  \n",
              "3              0     0.0  \n",
              "4              1     1.0  "
            ],
            "text/html": [
              "\n",
              "  <div id=\"df-99d16036-595c-4f03-9300-75effab02fa2\">\n",
              "    <div class=\"colab-df-container\">\n",
              "      <div>\n",
              "<style scoped>\n",
              "    .dataframe tbody tr th:only-of-type {\n",
              "        vertical-align: middle;\n",
              "    }\n",
              "\n",
              "    .dataframe tbody tr th {\n",
              "        vertical-align: top;\n",
              "    }\n",
              "\n",
              "    .dataframe thead th {\n",
              "        text-align: right;\n",
              "    }\n",
              "</style>\n",
              "<table border=\"1\" class=\"dataframe\">\n",
              "  <thead>\n",
              "    <tr style=\"text-align: right;\">\n",
              "      <th></th>\n",
              "      <th>ID</th>\n",
              "      <th>AGE</th>\n",
              "      <th>GENDER</th>\n",
              "      <th>RACE</th>\n",
              "      <th>DRIVING_EXPERIENCE</th>\n",
              "      <th>EDUCATION</th>\n",
              "      <th>INCOME</th>\n",
              "      <th>CREDIT_SCORE</th>\n",
              "      <th>VEHICLE_OWNERSHIP</th>\n",
              "      <th>VEHICLE_YEAR</th>\n",
              "      <th>MARRIED</th>\n",
              "      <th>CHILDREN</th>\n",
              "      <th>POSTAL_CODE</th>\n",
              "      <th>ANNUAL_MILEAGE</th>\n",
              "      <th>VEHICLE_TYPE</th>\n",
              "      <th>SPEEDING_VIOLATIONS</th>\n",
              "      <th>DUIS</th>\n",
              "      <th>PAST_ACCIDENTS</th>\n",
              "      <th>OUTCOME</th>\n",
              "    </tr>\n",
              "  </thead>\n",
              "  <tbody>\n",
              "    <tr>\n",
              "      <th>0</th>\n",
              "      <td>569520</td>\n",
              "      <td>65+</td>\n",
              "      <td>female</td>\n",
              "      <td>majority</td>\n",
              "      <td>0-9y</td>\n",
              "      <td>high school</td>\n",
              "      <td>upper class</td>\n",
              "      <td>0.629027</td>\n",
              "      <td>1.0</td>\n",
              "      <td>after 2015</td>\n",
              "      <td>0.0</td>\n",
              "      <td>1.0</td>\n",
              "      <td>10238</td>\n",
              "      <td>12000.0</td>\n",
              "      <td>sedan</td>\n",
              "      <td>0</td>\n",
              "      <td>0</td>\n",
              "      <td>0</td>\n",
              "      <td>0.0</td>\n",
              "    </tr>\n",
              "    <tr>\n",
              "      <th>1</th>\n",
              "      <td>750365</td>\n",
              "      <td>16-25</td>\n",
              "      <td>male</td>\n",
              "      <td>majority</td>\n",
              "      <td>0-9y</td>\n",
              "      <td>none</td>\n",
              "      <td>poverty</td>\n",
              "      <td>0.357757</td>\n",
              "      <td>0.0</td>\n",
              "      <td>before 2015</td>\n",
              "      <td>0.0</td>\n",
              "      <td>0.0</td>\n",
              "      <td>10238</td>\n",
              "      <td>16000.0</td>\n",
              "      <td>sedan</td>\n",
              "      <td>0</td>\n",
              "      <td>0</td>\n",
              "      <td>0</td>\n",
              "      <td>1.0</td>\n",
              "    </tr>\n",
              "    <tr>\n",
              "      <th>2</th>\n",
              "      <td>199901</td>\n",
              "      <td>16-25</td>\n",
              "      <td>female</td>\n",
              "      <td>majority</td>\n",
              "      <td>0-9y</td>\n",
              "      <td>high school</td>\n",
              "      <td>working class</td>\n",
              "      <td>0.493146</td>\n",
              "      <td>1.0</td>\n",
              "      <td>before 2015</td>\n",
              "      <td>0.0</td>\n",
              "      <td>0.0</td>\n",
              "      <td>10238</td>\n",
              "      <td>11000.0</td>\n",
              "      <td>sedan</td>\n",
              "      <td>0</td>\n",
              "      <td>0</td>\n",
              "      <td>0</td>\n",
              "      <td>0.0</td>\n",
              "    </tr>\n",
              "    <tr>\n",
              "      <th>3</th>\n",
              "      <td>478866</td>\n",
              "      <td>16-25</td>\n",
              "      <td>male</td>\n",
              "      <td>majority</td>\n",
              "      <td>0-9y</td>\n",
              "      <td>university</td>\n",
              "      <td>working class</td>\n",
              "      <td>0.206013</td>\n",
              "      <td>1.0</td>\n",
              "      <td>before 2015</td>\n",
              "      <td>0.0</td>\n",
              "      <td>1.0</td>\n",
              "      <td>32765</td>\n",
              "      <td>11000.0</td>\n",
              "      <td>sedan</td>\n",
              "      <td>0</td>\n",
              "      <td>0</td>\n",
              "      <td>0</td>\n",
              "      <td>0.0</td>\n",
              "    </tr>\n",
              "    <tr>\n",
              "      <th>4</th>\n",
              "      <td>731664</td>\n",
              "      <td>26-39</td>\n",
              "      <td>male</td>\n",
              "      <td>majority</td>\n",
              "      <td>10-19y</td>\n",
              "      <td>none</td>\n",
              "      <td>working class</td>\n",
              "      <td>0.388366</td>\n",
              "      <td>1.0</td>\n",
              "      <td>before 2015</td>\n",
              "      <td>0.0</td>\n",
              "      <td>0.0</td>\n",
              "      <td>32765</td>\n",
              "      <td>12000.0</td>\n",
              "      <td>sedan</td>\n",
              "      <td>2</td>\n",
              "      <td>0</td>\n",
              "      <td>1</td>\n",
              "      <td>1.0</td>\n",
              "    </tr>\n",
              "  </tbody>\n",
              "</table>\n",
              "</div>\n",
              "      <button class=\"colab-df-convert\" onclick=\"convertToInteractive('df-99d16036-595c-4f03-9300-75effab02fa2')\"\n",
              "              title=\"Convert this dataframe to an interactive table.\"\n",
              "              style=\"display:none;\">\n",
              "        \n",
              "  <svg xmlns=\"http://www.w3.org/2000/svg\" height=\"24px\"viewBox=\"0 0 24 24\"\n",
              "       width=\"24px\">\n",
              "    <path d=\"M0 0h24v24H0V0z\" fill=\"none\"/>\n",
              "    <path d=\"M18.56 5.44l.94 2.06.94-2.06 2.06-.94-2.06-.94-.94-2.06-.94 2.06-2.06.94zm-11 1L8.5 8.5l.94-2.06 2.06-.94-2.06-.94L8.5 2.5l-.94 2.06-2.06.94zm10 10l.94 2.06.94-2.06 2.06-.94-2.06-.94-.94-2.06-.94 2.06-2.06.94z\"/><path d=\"M17.41 7.96l-1.37-1.37c-.4-.4-.92-.59-1.43-.59-.52 0-1.04.2-1.43.59L10.3 9.45l-7.72 7.72c-.78.78-.78 2.05 0 2.83L4 21.41c.39.39.9.59 1.41.59.51 0 1.02-.2 1.41-.59l7.78-7.78 2.81-2.81c.8-.78.8-2.07 0-2.86zM5.41 20L4 18.59l7.72-7.72 1.47 1.35L5.41 20z\"/>\n",
              "  </svg>\n",
              "      </button>\n",
              "      \n",
              "  <style>\n",
              "    .colab-df-container {\n",
              "      display:flex;\n",
              "      flex-wrap:wrap;\n",
              "      gap: 12px;\n",
              "    }\n",
              "\n",
              "    .colab-df-convert {\n",
              "      background-color: #E8F0FE;\n",
              "      border: none;\n",
              "      border-radius: 50%;\n",
              "      cursor: pointer;\n",
              "      display: none;\n",
              "      fill: #1967D2;\n",
              "      height: 32px;\n",
              "      padding: 0 0 0 0;\n",
              "      width: 32px;\n",
              "    }\n",
              "\n",
              "    .colab-df-convert:hover {\n",
              "      background-color: #E2EBFA;\n",
              "      box-shadow: 0px 1px 2px rgba(60, 64, 67, 0.3), 0px 1px 3px 1px rgba(60, 64, 67, 0.15);\n",
              "      fill: #174EA6;\n",
              "    }\n",
              "\n",
              "    [theme=dark] .colab-df-convert {\n",
              "      background-color: #3B4455;\n",
              "      fill: #D2E3FC;\n",
              "    }\n",
              "\n",
              "    [theme=dark] .colab-df-convert:hover {\n",
              "      background-color: #434B5C;\n",
              "      box-shadow: 0px 1px 3px 1px rgba(0, 0, 0, 0.15);\n",
              "      filter: drop-shadow(0px 1px 2px rgba(0, 0, 0, 0.3));\n",
              "      fill: #FFFFFF;\n",
              "    }\n",
              "  </style>\n",
              "\n",
              "      <script>\n",
              "        const buttonEl =\n",
              "          document.querySelector('#df-99d16036-595c-4f03-9300-75effab02fa2 button.colab-df-convert');\n",
              "        buttonEl.style.display =\n",
              "          google.colab.kernel.accessAllowed ? 'block' : 'none';\n",
              "\n",
              "        async function convertToInteractive(key) {\n",
              "          const element = document.querySelector('#df-99d16036-595c-4f03-9300-75effab02fa2');\n",
              "          const dataTable =\n",
              "            await google.colab.kernel.invokeFunction('convertToInteractive',\n",
              "                                                     [key], {});\n",
              "          if (!dataTable) return;\n",
              "\n",
              "          const docLinkHtml = 'Like what you see? Visit the ' +\n",
              "            '<a target=\"_blank\" href=https://colab.research.google.com/notebooks/data_table.ipynb>data table notebook</a>'\n",
              "            + ' to learn more about interactive tables.';\n",
              "          element.innerHTML = '';\n",
              "          dataTable['output_type'] = 'display_data';\n",
              "          await google.colab.output.renderOutput(dataTable, element);\n",
              "          const docLink = document.createElement('div');\n",
              "          docLink.innerHTML = docLinkHtml;\n",
              "          element.appendChild(docLink);\n",
              "        }\n",
              "      </script>\n",
              "    </div>\n",
              "  </div>\n",
              "  "
            ]
          },
          "metadata": {},
          "execution_count": 4
        }
      ],
      "source": [
        "df.info()\n",
        "df.head()"
      ]
    },
    {
      "cell_type": "markdown",
      "metadata": {
        "id": "1aPux2EMGJiS"
      },
      "source": [
        "#**Preprocessing Pipeline Building**#"
      ]
    },
    {
      "cell_type": "code",
      "execution_count": null,
      "metadata": {
        "id": "RnZEY-R9xf-z"
      },
      "outputs": [],
      "source": [
        "df.drop('ID', inplace=True, axis=1)"
      ]
    },
    {
      "cell_type": "code",
      "execution_count": null,
      "metadata": {
        "id": "1B21N3M2dRdL",
        "colab": {
          "base_uri": "https://localhost:8080/"
        },
        "outputId": "8acaa59d-1a2c-4747-fce6-055e16398e3f"
      },
      "outputs": [
        {
          "output_type": "execute_result",
          "data": {
            "text/plain": [
              "((8000, 18), (2000, 18))"
            ]
          },
          "metadata": {},
          "execution_count": 6
        }
      ],
      "source": [
        "from sklearn.model_selection import train_test_split\n",
        "train_set, test_set = train_test_split(df, test_size = .20, random_state=16)\n",
        "train_set.shape, test_set.shape"
      ]
    },
    {
      "cell_type": "code",
      "execution_count": null,
      "metadata": {
        "id": "8eceJQ2j9wPU"
      },
      "outputs": [],
      "source": [
        "insurance = train_set.copy()"
      ]
    },
    {
      "cell_type": "code",
      "execution_count": null,
      "metadata": {
        "id": "j9lac3m094iN"
      },
      "outputs": [],
      "source": [
        "insurance = train_set.drop(\"OUTCOME\", axis=1)  # predictors\n",
        "insurance_labels = train_set[\"OUTCOME\"].copy() # target"
      ]
    },
    {
      "cell_type": "code",
      "execution_count": null,
      "metadata": {
        "id": "2dw7MggjhHYO",
        "colab": {
          "base_uri": "https://localhost:8080/"
        },
        "outputId": "111336f7-411e-4873-9a6f-ecdc3f5aed3e"
      },
      "outputs": [
        {
          "output_type": "execute_result",
          "data": {
            "text/plain": [
              "69"
            ]
          },
          "metadata": {},
          "execution_count": 9
        }
      ],
      "source": [
        "insurance[(insurance['CREDIT_SCORE'].isnull() ) & (insurance['ANNUAL_MILEAGE'].isnull())].shape[0]"
      ]
    },
    {
      "cell_type": "markdown",
      "metadata": {
        "id": "orYbT1QH-CwN"
      },
      "source": [
        "Since the number of rows when CREDIT_SCORE and ANNUAL MILEAGE are bothe null is 69 , if we simply dropna, we would have more than 15% observations removed. That will make the dataset baised."
      ]
    },
    {
      "cell_type": "code",
      "execution_count": null,
      "metadata": {
        "id": "36K85Z5JhMdf"
      },
      "outputs": [],
      "source": [
        "#feature scaling using standardscaler\n",
        "from sklearn.preprocessing import StandardScaler\n",
        "df_num = df.select_dtypes(include=[np.number])\n",
        "std_scaler = StandardScaler()\n",
        "df_num_std_scaled = std_scaler.fit_transform(df_num)"
      ]
    },
    {
      "cell_type": "code",
      "execution_count": null,
      "metadata": {
        "id": "jg5xs1YT-IsN"
      },
      "outputs": [],
      "source": [
        "null_rows_idx = insurance[\"CREDIT_SCORE\"].isnull()"
      ]
    },
    {
      "cell_type": "code",
      "execution_count": null,
      "metadata": {
        "id": "dOMsVEkn-Spq",
        "colab": {
          "base_uri": "https://localhost:8080/",
          "height": 206
        },
        "outputId": "2e445b27-ba2a-4bee-91ab-9c1ff5a40dfd"
      },
      "outputs": [
        {
          "output_type": "execute_result",
          "data": {
            "text/plain": [
              "      CREDIT_SCORE\n",
              "624       0.527912\n",
              "862       0.527912\n",
              "5518      0.527912\n",
              "873       0.527912\n",
              "145       0.527912"
            ],
            "text/html": [
              "\n",
              "  <div id=\"df-66b17464-d121-4132-9df8-1feeeed7118a\">\n",
              "    <div class=\"colab-df-container\">\n",
              "      <div>\n",
              "<style scoped>\n",
              "    .dataframe tbody tr th:only-of-type {\n",
              "        vertical-align: middle;\n",
              "    }\n",
              "\n",
              "    .dataframe tbody tr th {\n",
              "        vertical-align: top;\n",
              "    }\n",
              "\n",
              "    .dataframe thead th {\n",
              "        text-align: right;\n",
              "    }\n",
              "</style>\n",
              "<table border=\"1\" class=\"dataframe\">\n",
              "  <thead>\n",
              "    <tr style=\"text-align: right;\">\n",
              "      <th></th>\n",
              "      <th>CREDIT_SCORE</th>\n",
              "    </tr>\n",
              "  </thead>\n",
              "  <tbody>\n",
              "    <tr>\n",
              "      <th>624</th>\n",
              "      <td>0.527912</td>\n",
              "    </tr>\n",
              "    <tr>\n",
              "      <th>862</th>\n",
              "      <td>0.527912</td>\n",
              "    </tr>\n",
              "    <tr>\n",
              "      <th>5518</th>\n",
              "      <td>0.527912</td>\n",
              "    </tr>\n",
              "    <tr>\n",
              "      <th>873</th>\n",
              "      <td>0.527912</td>\n",
              "    </tr>\n",
              "    <tr>\n",
              "      <th>145</th>\n",
              "      <td>0.527912</td>\n",
              "    </tr>\n",
              "  </tbody>\n",
              "</table>\n",
              "</div>\n",
              "      <button class=\"colab-df-convert\" onclick=\"convertToInteractive('df-66b17464-d121-4132-9df8-1feeeed7118a')\"\n",
              "              title=\"Convert this dataframe to an interactive table.\"\n",
              "              style=\"display:none;\">\n",
              "        \n",
              "  <svg xmlns=\"http://www.w3.org/2000/svg\" height=\"24px\"viewBox=\"0 0 24 24\"\n",
              "       width=\"24px\">\n",
              "    <path d=\"M0 0h24v24H0V0z\" fill=\"none\"/>\n",
              "    <path d=\"M18.56 5.44l.94 2.06.94-2.06 2.06-.94-2.06-.94-.94-2.06-.94 2.06-2.06.94zm-11 1L8.5 8.5l.94-2.06 2.06-.94-2.06-.94L8.5 2.5l-.94 2.06-2.06.94zm10 10l.94 2.06.94-2.06 2.06-.94-2.06-.94-.94-2.06-.94 2.06-2.06.94z\"/><path d=\"M17.41 7.96l-1.37-1.37c-.4-.4-.92-.59-1.43-.59-.52 0-1.04.2-1.43.59L10.3 9.45l-7.72 7.72c-.78.78-.78 2.05 0 2.83L4 21.41c.39.39.9.59 1.41.59.51 0 1.02-.2 1.41-.59l7.78-7.78 2.81-2.81c.8-.78.8-2.07 0-2.86zM5.41 20L4 18.59l7.72-7.72 1.47 1.35L5.41 20z\"/>\n",
              "  </svg>\n",
              "      </button>\n",
              "      \n",
              "  <style>\n",
              "    .colab-df-container {\n",
              "      display:flex;\n",
              "      flex-wrap:wrap;\n",
              "      gap: 12px;\n",
              "    }\n",
              "\n",
              "    .colab-df-convert {\n",
              "      background-color: #E8F0FE;\n",
              "      border: none;\n",
              "      border-radius: 50%;\n",
              "      cursor: pointer;\n",
              "      display: none;\n",
              "      fill: #1967D2;\n",
              "      height: 32px;\n",
              "      padding: 0 0 0 0;\n",
              "      width: 32px;\n",
              "    }\n",
              "\n",
              "    .colab-df-convert:hover {\n",
              "      background-color: #E2EBFA;\n",
              "      box-shadow: 0px 1px 2px rgba(60, 64, 67, 0.3), 0px 1px 3px 1px rgba(60, 64, 67, 0.15);\n",
              "      fill: #174EA6;\n",
              "    }\n",
              "\n",
              "    [theme=dark] .colab-df-convert {\n",
              "      background-color: #3B4455;\n",
              "      fill: #D2E3FC;\n",
              "    }\n",
              "\n",
              "    [theme=dark] .colab-df-convert:hover {\n",
              "      background-color: #434B5C;\n",
              "      box-shadow: 0px 1px 3px 1px rgba(0, 0, 0, 0.15);\n",
              "      filter: drop-shadow(0px 1px 2px rgba(0, 0, 0, 0.3));\n",
              "      fill: #FFFFFF;\n",
              "    }\n",
              "  </style>\n",
              "\n",
              "      <script>\n",
              "        const buttonEl =\n",
              "          document.querySelector('#df-66b17464-d121-4132-9df8-1feeeed7118a button.colab-df-convert');\n",
              "        buttonEl.style.display =\n",
              "          google.colab.kernel.accessAllowed ? 'block' : 'none';\n",
              "\n",
              "        async function convertToInteractive(key) {\n",
              "          const element = document.querySelector('#df-66b17464-d121-4132-9df8-1feeeed7118a');\n",
              "          const dataTable =\n",
              "            await google.colab.kernel.invokeFunction('convertToInteractive',\n",
              "                                                     [key], {});\n",
              "          if (!dataTable) return;\n",
              "\n",
              "          const docLinkHtml = 'Like what you see? Visit the ' +\n",
              "            '<a target=\"_blank\" href=https://colab.research.google.com/notebooks/data_table.ipynb>data table notebook</a>'\n",
              "            + ' to learn more about interactive tables.';\n",
              "          element.innerHTML = '';\n",
              "          dataTable['output_type'] = 'display_data';\n",
              "          await google.colab.output.renderOutput(dataTable, element);\n",
              "          const docLink = document.createElement('div');\n",
              "          docLink.innerHTML = docLinkHtml;\n",
              "          element.appendChild(docLink);\n",
              "        }\n",
              "      </script>\n",
              "    </div>\n",
              "  </div>\n",
              "  "
            ]
          },
          "metadata": {},
          "execution_count": 12
        }
      ],
      "source": [
        "from sklearn.impute import SimpleImputer\n",
        "\n",
        "imputer = SimpleImputer(strategy=\"median\") # We choose median since the distribution is roughly normal.\n",
        "insurance_num = insurance.select_dtypes(include=[np.number]) \n",
        "imputer.fit(insurance_num)            \n",
        "X = imputer.transform(insurance_num)  \n",
        "insurance_tr = pd.DataFrame(X, columns=insurance_num.columns,\n",
        "                          index=insurance_num.index)\n",
        "insurance_tr.loc[null_rows_idx].head()"
      ]
    },
    {
      "cell_type": "markdown",
      "metadata": {
        "id": "sbRxxN-f-XcA"
      },
      "source": [
        "Since credit score is our only numerical variable, there is no difference using simple imputer and iterative imputer. Thus, we would just comment out the iterative immputer and left it there for understanding purpose.\n",
        "\n"
      ]
    },
    {
      "cell_type": "code",
      "execution_count": null,
      "metadata": {
        "id": "B0-3WwgohTBi",
        "colab": {
          "base_uri": "https://localhost:8080/",
          "height": 226
        },
        "outputId": "ad470a42-cac2-43cf-e631-6fc33d508cd2"
      },
      "outputs": [
        {
          "output_type": "display_data",
          "data": {
            "text/plain": [
              "<Figure size 576x216 with 2 Axes>"
            ],
            "image/png": "[encoded data removed]"
          },
          "metadata": {
            "needs_background": "light"
          }
        }
      ],
      "source": [
        "from sklearn.preprocessing import StandardScaler\n",
        "\n",
        "std_scaler = StandardScaler()\n",
        "insurance_num_std_scaled = std_scaler.fit_transform(insurance_num)\n",
        "\n",
        "fig, axs = plt.subplots(1, 2, figsize=(8, 3), sharey=True)\n",
        "insurance[\"CREDIT_SCORE\"].hist(ax=axs[0], bins=50)\n",
        "insurance[\"CREDIT_SCORE\"].apply(np.log).hist(ax=axs[1], bins=50)\n",
        "axs[0].set_xlabel(\"CREDIT_SCORE\")\n",
        "axs[1].set_xlabel(\"Log of CREDIT_SCORE\")\n",
        "plt.show()"
      ]
    },
    {
      "cell_type": "code",
      "execution_count": null,
      "metadata": {
        "id": "0qaISOEa_NKT",
        "colab": {
          "base_uri": "https://localhost:8080/"
        },
        "outputId": "cd66a3f5-fd5e-44fc-b6bb-0b408c31bf28"
      },
      "outputs": [
        {
          "output_type": "stream",
          "name": "stdout",
          "text": [
            "NormaltestResult(statistic=122.61213948869167, pvalue=2.3719864449077276e-27) NormaltestResult(statistic=1532.6532584707986, pvalue=0.0)\n"
          ]
        }
      ],
      "source": [
        "from scipy import stats\n",
        "print(stats.normaltest(insurance[\"CREDIT_SCORE\"],nan_policy = 'omit'),\n",
        "      stats.normaltest(insurance[\"CREDIT_SCORE\"].apply(np.log),nan_policy = 'omit'))"
      ]
    },
    {
      "cell_type": "markdown",
      "metadata": {
        "id": "f4_d1cRD_P9t"
      },
      "source": [
        "Even though the original distribution for credit score is highly normalized, we realized that the log transformation would even further decrease its pvalue."
      ]
    },
    {
      "cell_type": "code",
      "execution_count": null,
      "metadata": {
        "id": "Rz-vub-1hky0",
        "colab": {
          "base_uri": "https://localhost:8080/",
          "height": 424
        },
        "outputId": "c71f2ead-8fae-408a-ea69-83b80e5a5510"
      },
      "outputs": [
        {
          "output_type": "execute_result",
          "data": {
            "text/plain": [
              "      CREDIT_SCORE  CREDIT_SCORE\n",
              "4930      0.494067     -0.705084\n",
              "687       0.384761     -0.955132\n",
              "6141      0.453599     -0.790541\n",
              "204       0.450015     -0.798475\n",
              "624            NaN           NaN\n",
              "...            ...           ...\n",
              "635       0.514097     -0.665343\n",
              "1345           NaN           NaN\n",
              "581       0.389381     -0.943196\n",
              "2169      0.714686     -0.335912\n",
              "6825      0.666846     -0.405196\n",
              "\n",
              "[8000 rows x 2 columns]"
            ],
            "text/html": [
              "\n",
              "  <div id=\"df-21e547d5-aed3-474a-8d57-4ff0c93522a9\">\n",
              "    <div class=\"colab-df-container\">\n",
              "      <div>\n",
              "<style scoped>\n",
              "    .dataframe tbody tr th:only-of-type {\n",
              "        vertical-align: middle;\n",
              "    }\n",
              "\n",
              "    .dataframe tbody tr th {\n",
              "        vertical-align: top;\n",
              "    }\n",
              "\n",
              "    .dataframe thead th {\n",
              "        text-align: right;\n",
              "    }\n",
              "</style>\n",
              "<table border=\"1\" class=\"dataframe\">\n",
              "  <thead>\n",
              "    <tr style=\"text-align: right;\">\n",
              "      <th></th>\n",
              "      <th>CREDIT_SCORE</th>\n",
              "      <th>CREDIT_SCORE</th>\n",
              "    </tr>\n",
              "  </thead>\n",
              "  <tbody>\n",
              "    <tr>\n",
              "      <th>4930</th>\n",
              "      <td>0.494067</td>\n",
              "      <td>-0.705084</td>\n",
              "    </tr>\n",
              "    <tr>\n",
              "      <th>687</th>\n",
              "      <td>0.384761</td>\n",
              "      <td>-0.955132</td>\n",
              "    </tr>\n",
              "    <tr>\n",
              "      <th>6141</th>\n",
              "      <td>0.453599</td>\n",
              "      <td>-0.790541</td>\n",
              "    </tr>\n",
              "    <tr>\n",
              "      <th>204</th>\n",
              "      <td>0.450015</td>\n",
              "      <td>-0.798475</td>\n",
              "    </tr>\n",
              "    <tr>\n",
              "      <th>624</th>\n",
              "      <td>NaN</td>\n",
              "      <td>NaN</td>\n",
              "    </tr>\n",
              "    <tr>\n",
              "      <th>...</th>\n",
              "      <td>...</td>\n",
              "      <td>...</td>\n",
              "    </tr>\n",
              "    <tr>\n",
              "      <th>635</th>\n",
              "      <td>0.514097</td>\n",
              "      <td>-0.665343</td>\n",
              "    </tr>\n",
              "    <tr>\n",
              "      <th>1345</th>\n",
              "      <td>NaN</td>\n",
              "      <td>NaN</td>\n",
              "    </tr>\n",
              "    <tr>\n",
              "      <th>581</th>\n",
              "      <td>0.389381</td>\n",
              "      <td>-0.943196</td>\n",
              "    </tr>\n",
              "    <tr>\n",
              "      <th>2169</th>\n",
              "      <td>0.714686</td>\n",
              "      <td>-0.335912</td>\n",
              "    </tr>\n",
              "    <tr>\n",
              "      <th>6825</th>\n",
              "      <td>0.666846</td>\n",
              "      <td>-0.405196</td>\n",
              "    </tr>\n",
              "  </tbody>\n",
              "</table>\n",
              "<p>8000 rows × 2 columns</p>\n",
              "</div>\n",
              "      <button class=\"colab-df-convert\" onclick=\"convertToInteractive('df-21e547d5-aed3-474a-8d57-4ff0c93522a9')\"\n",
              "              title=\"Convert this dataframe to an interactive table.\"\n",
              "              style=\"display:none;\">\n",
              "        \n",
              "  <svg xmlns=\"http://www.w3.org/2000/svg\" height=\"24px\"viewBox=\"0 0 24 24\"\n",
              "       width=\"24px\">\n",
              "    <path d=\"M0 0h24v24H0V0z\" fill=\"none\"/>\n",
              "    <path d=\"M18.56 5.44l.94 2.06.94-2.06 2.06-.94-2.06-.94-.94-2.06-.94 2.06-2.06.94zm-11 1L8.5 8.5l.94-2.06 2.06-.94-2.06-.94L8.5 2.5l-.94 2.06-2.06.94zm10 10l.94 2.06.94-2.06 2.06-.94-2.06-.94-.94-2.06-.94 2.06-2.06.94z\"/><path d=\"M17.41 7.96l-1.37-1.37c-.4-.4-.92-.59-1.43-.59-.52 0-1.04.2-1.43.59L10.3 9.45l-7.72 7.72c-.78.78-.78 2.05 0 2.83L4 21.41c.39.39.9.59 1.41.59.51 0 1.02-.2 1.41-.59l7.78-7.78 2.81-2.81c.8-.78.8-2.07 0-2.86zM5.41 20L4 18.59l7.72-7.72 1.47 1.35L5.41 20z\"/>\n",
              "  </svg>\n",
              "      </button>\n",
              "      \n",
              "  <style>\n",
              "    .colab-df-container {\n",
              "      display:flex;\n",
              "      flex-wrap:wrap;\n",
              "      gap: 12px;\n",
              "    }\n",
              "\n",
              "    .colab-df-convert {\n",
              "      background-color: #E8F0FE;\n",
              "      border: none;\n",
              "      border-radius: 50%;\n",
              "      cursor: pointer;\n",
              "      display: none;\n",
              "      fill: #1967D2;\n",
              "      height: 32px;\n",
              "      padding: 0 0 0 0;\n",
              "      width: 32px;\n",
              "    }\n",
              "\n",
              "    .colab-df-convert:hover {\n",
              "      background-color: #E2EBFA;\n",
              "      box-shadow: 0px 1px 2px rgba(60, 64, 67, 0.3), 0px 1px 3px 1px rgba(60, 64, 67, 0.15);\n",
              "      fill: #174EA6;\n",
              "    }\n",
              "\n",
              "    [theme=dark] .colab-df-convert {\n",
              "      background-color: #3B4455;\n",
              "      fill: #D2E3FC;\n",
              "    }\n",
              "\n",
              "    [theme=dark] .colab-df-convert:hover {\n",
              "      background-color: #434B5C;\n",
              "      box-shadow: 0px 1px 3px 1px rgba(0, 0, 0, 0.15);\n",
              "      filter: drop-shadow(0px 1px 2px rgba(0, 0, 0, 0.3));\n",
              "      fill: #FFFFFF;\n",
              "    }\n",
              "  </style>\n",
              "\n",
              "      <script>\n",
              "        const buttonEl =\n",
              "          document.querySelector('#df-21e547d5-aed3-474a-8d57-4ff0c93522a9 button.colab-df-convert');\n",
              "        buttonEl.style.display =\n",
              "          google.colab.kernel.accessAllowed ? 'block' : 'none';\n",
              "\n",
              "        async function convertToInteractive(key) {\n",
              "          const element = document.querySelector('#df-21e547d5-aed3-474a-8d57-4ff0c93522a9');\n",
              "          const dataTable =\n",
              "            await google.colab.kernel.invokeFunction('convertToInteractive',\n",
              "                                                     [key], {});\n",
              "          if (!dataTable) return;\n",
              "\n",
              "          const docLinkHtml = 'Like what you see? Visit the ' +\n",
              "            '<a target=\"_blank\" href=https://colab.research.google.com/notebooks/data_table.ipynb>data table notebook</a>'\n",
              "            + ' to learn more about interactive tables.';\n",
              "          element.innerHTML = '';\n",
              "          dataTable['output_type'] = 'display_data';\n",
              "          await google.colab.output.renderOutput(dataTable, element);\n",
              "          const docLink = document.createElement('div');\n",
              "          docLink.innerHTML = docLinkHtml;\n",
              "          element.appendChild(docLink);\n",
              "        }\n",
              "      </script>\n",
              "    </div>\n",
              "  </div>\n",
              "  "
            ]
          },
          "metadata": {},
          "execution_count": 15
        }
      ],
      "source": [
        "from sklearn.preprocessing import FunctionTransformer\n",
        "\n",
        "log_transformer = FunctionTransformer(np.log, inverse_func=np.exp)\n",
        "log_pop = log_transformer.transform(insurance[[\"CREDIT_SCORE\"]])\n",
        "pd.concat([insurance[\"CREDIT_SCORE\"], log_pop], axis=1)"
      ]
    },
    {
      "cell_type": "code",
      "execution_count": null,
      "metadata": {
        "id": "9VzthSn9hp0x",
        "colab": {
          "base_uri": "https://localhost:8080/"
        },
        "outputId": "12e4383f-c96b-4b52-d189-72a157556b03"
      },
      "outputs": [
        {
          "output_type": "stream",
          "name": "stdout",
          "text": [
            "Monkey-patching SimpleImputer.get_feature_names_out()\n",
            "Monkey-patching FunctionTransformer.get_feature_names_out()\n"
          ]
        }
      ],
      "source": [
        "from sklearn.pipeline import Pipeline\n",
        "\n",
        "num_pipeline = Pipeline([\n",
        "    (\"impute\", SimpleImputer(strategy=\"median\")),\n",
        "    (\"standardize\", StandardScaler()),\n",
        "])\n",
        "\n",
        "from sklearn.pipeline import make_pipeline\n",
        "\n",
        "num_pipeline = make_pipeline(SimpleImputer(strategy=\"median\"), StandardScaler())\n",
        "\n",
        "insurance_num_prepared = num_pipeline.fit_transform(insurance_num)\n",
        "insurance_num_prepared[:2].round(2)\n",
        "\n",
        "def monkey_patch_get_signature_names_out():\n",
        "    \"\"\"Monkey patch some classes which did not handle get_feature_names_out()\n",
        "       correctly in Scikit-Learn 1.0.*.\"\"\"\n",
        "    from inspect import Signature, signature, Parameter\n",
        "    import pandas as pd\n",
        "    from sklearn.impute import SimpleImputer\n",
        "    from sklearn.pipeline import make_pipeline, Pipeline\n",
        "    from sklearn.preprocessing import FunctionTransformer, StandardScaler\n",
        "\n",
        "    default_get_feature_names_out = StandardScaler.get_feature_names_out\n",
        "\n",
        "    if not hasattr(SimpleImputer, \"get_feature_names_out\"):\n",
        "      print(\"Monkey-patching SimpleImputer.get_feature_names_out()\")\n",
        "      SimpleImputer.get_feature_names_out = default_get_feature_names_out\n",
        "\n",
        "    if not hasattr(FunctionTransformer, \"get_feature_names_out\"):\n",
        "        print(\"Monkey-patching FunctionTransformer.get_feature_names_out()\")\n",
        "        orig_init = FunctionTransformer.__init__\n",
        "        orig_sig = signature(orig_init)\n",
        "\n",
        "        def __init__(*args, feature_names_out=None, **kwargs):\n",
        "            orig_sig.bind(*args, **kwargs)\n",
        "            orig_init(*args, **kwargs)\n",
        "            args[0].feature_names_out = feature_names_out\n",
        "\n",
        "        __init__.__signature__ = Signature(\n",
        "            list(signature(orig_init).parameters.values()) + [\n",
        "                Parameter(\"feature_names_out\", Parameter.KEYWORD_ONLY)])\n",
        "\n",
        "        def get_feature_names_out(self, names=None):\n",
        "            if callable(self.feature_names_out):\n",
        "                return self.feature_names_out(self, names)\n",
        "            assert self.feature_names_out == \"one-to-one\"\n",
        "            return default_get_feature_names_out(self, names)\n",
        "\n",
        "        FunctionTransformer.__init__ = __init__\n",
        "        FunctionTransformer.get_feature_names_out = get_feature_names_out\n",
        "    \n",
        "monkey_patch_get_signature_names_out()\n",
        "\n",
        "df_insurance_num_prepared = pd.DataFrame(\n",
        "    insurance_num_prepared, columns=num_pipeline.get_feature_names_out(),\n",
        "    index=insurance_num.index)"
      ]
    },
    {
      "cell_type": "code",
      "execution_count": null,
      "metadata": {
        "id": "Q_O7TmXfiOI9",
        "colab": {
          "base_uri": "https://localhost:8080/"
        },
        "outputId": "08a60cb0-5e95-4ff3-ceae-dbaf796befdb"
      },
      "outputs": [
        {
          "output_type": "execute_result",
          "data": {
            "text/plain": [
              "Pipeline(steps=[('simpleimputer', SimpleImputer(strategy='median')),\n",
              "                ('standardscaler', StandardScaler())])"
            ]
          },
          "metadata": {},
          "execution_count": 17
        }
      ],
      "source": [
        "num_pipeline\n",
        "num_pipeline.set_params(simpleimputer__strategy=\"median\")"
      ]
    },
    {
      "cell_type": "code",
      "execution_count": null,
      "metadata": {
        "id": "51ALF9DCB9AL"
      },
      "outputs": [],
      "source": [
        "from sklearn.compose import ColumnTransformer\n",
        "from sklearn.preprocessing import OneHotEncoder\n",
        "\n",
        "cat_attribs = ['AGE',\n",
        "               'GENDER', \n",
        "               'RACE', \n",
        "               'DRIVING_EXPERIENCE', \n",
        "               'EDUCATION',\n",
        "               'INCOME',\n",
        "               'VEHICLE_YEAR',\n",
        "               'VEHICLE_OWNERSHIP',\n",
        "               'MARRIED',\n",
        "               'CHILDREN',\n",
        "               'POSTAL_CODE',\n",
        "               'ANNUAL_MILEAGE',\n",
        "               'VEHICLE_TYPE',\n",
        "               'SPEEDING_VIOLATIONS',\n",
        "               'DUIS',\n",
        "               'PAST_ACCIDENTS',\n",
        "]\n",
        "\n",
        "num_attribs = [\"CREDIT_SCORE\"]\n",
        "\n",
        "cat_pipeline = make_pipeline(\n",
        "    SimpleImputer(strategy=\"most_frequent\"),\n",
        "    OneHotEncoder(handle_unknown=\"ignore\"))\n",
        "\n",
        "\n",
        "\n",
        "preprocessing = ColumnTransformer([\n",
        "    (\"num\", num_pipeline, num_attribs),\n",
        "    (\"cat\", cat_pipeline, cat_attribs)\n",
        "])"
      ]
    },
    {
      "cell_type": "code",
      "execution_count": null,
      "metadata": {
        "id": "4mUpEN3iB_kv"
      },
      "outputs": [],
      "source": [
        "from sklearn.compose import make_column_selector, make_column_transformer\n",
        "\n",
        "preprocessing = make_column_transformer(\n",
        "    (num_pipeline, make_column_selector(dtype_include=np.number)),\n",
        "    (cat_pipeline, make_column_selector(dtype_include= 'category')),\n",
        ")"
      ]
    },
    {
      "cell_type": "code",
      "execution_count": null,
      "metadata": {
        "id": "f70Mxf5DCBum",
        "colab": {
          "base_uri": "https://localhost:8080/",
          "height": 152
        },
        "outputId": "d166ad8c-ea64-4cb7-b91c-8263cdb5479c"
      },
      "outputs": [
        {
          "output_type": "execute_result",
          "data": {
            "text/plain": [
              "ColumnTransformer(transformers=[('pipeline-1',\n",
              "                                 Pipeline(steps=[('simpleimputer',\n",
              "                                                  SimpleImputer(strategy='median')),\n",
              "                                                 ('standardscaler',\n",
              "                                                  StandardScaler())]),\n",
              "                                 <sklearn.compose._column_transformer.make_column_selector object at 0x7f06bfc1afd0>),\n",
              "                                ('pipeline-2',\n",
              "                                 Pipeline(steps=[('simpleimputer',\n",
              "                                                  SimpleImputer(strategy='most_frequent')),\n",
              "                                                 ('onehotencoder',\n",
              "                                                  OneHotEncoder(handle_unknown='ignore'))]),\n",
              "                                 <sklearn.compose._column_transformer.make_column_selector object at 0x7f06bfc1a490>)])"
            ],
            "text/html": [
              "<style>#sk-2b7dbde6-9931-4deb-80e0-81c4b97c2d60 {color: black;background-color: white;}#sk-2b7dbde6-9931-4deb-80e0-81c4b97c2d60 pre{padding: 0;}#sk-2b7dbde6-9931-4deb-80e0-81c4b97c2d60 div.sk-toggleable {background-color: white;}#sk-2b7dbde6-9931-4deb-80e0-81c4b97c2d60 label.sk-toggleable__label {cursor: pointer;display: block;width: 100%;margin-bottom: 0;padding: 0.3em;box-sizing: border-box;text-align: center;}#sk-2b7dbde6-9931-4deb-80e0-81c4b97c2d60 label.sk-toggleable__label-arrow:before {content: \"▸\";float: left;margin-right: 0.25em;color: #696969;}#sk-2b7dbde6-9931-4deb-80e0-81c4b97c2d60 label.sk-toggleable__label-arrow:hover:before {color: black;}#sk-2b7dbde6-9931-4deb-80e0-81c4b97c2d60 div.sk-estimator:hover label.sk-toggleable__label-arrow:before {color: black;}#sk-2b7dbde6-9931-4deb-80e0-81c4b97c2d60 div.sk-toggleable__content {max-height: 0;max-width: 0;overflow: hidden;text-align: left;background-color: #f0f8ff;}#sk-2b7dbde6-9931-4deb-80e0-81c4b97c2d60 div.sk-toggleable__content pre {margin: 0.2em;color: black;border-radius: 0.25em;background-color: #f0f8ff;}#sk-2b7dbde6-9931-4deb-80e0-81c4b97c2d60 input.sk-toggleable__control:checked~div.sk-toggleable__content {max-height: 200px;max-width: 100%;overflow: auto;}#sk-2b7dbde6-9931-4deb-80e0-81c4b97c2d60 input.sk-toggleable__control:checked~label.sk-toggleable__label-arrow:before {content: \"▾\";}#sk-2b7dbde6-9931-4deb-80e0-81c4b97c2d60 div.sk-estimator input.sk-toggleable__control:checked~label.sk-toggleable__label {background-color: #d4ebff;}#sk-2b7dbde6-9931-4deb-80e0-81c4b97c2d60 div.sk-label input.sk-toggleable__control:checked~label.sk-toggleable__label {background-color: #d4ebff;}#sk-2b7dbde6-9931-4deb-80e0-81c4b97c2d60 input.sk-hidden--visually {border: 0;clip: rect(1px 1px 1px 1px);clip: rect(1px, 1px, 1px, 1px);height: 1px;margin: -1px;overflow: hidden;padding: 0;position: absolute;width: 1px;}#sk-2b7dbde6-9931-4deb-80e0-81c4b97c2d60 div.sk-estimator {font-family: monospace;background-color: #f0f8ff;border: 1px dotted black;border-radius: 0.25em;box-sizing: border-box;margin-bottom: 0.5em;}#sk-2b7dbde6-9931-4deb-80e0-81c4b97c2d60 div.sk-estimator:hover {background-color: #d4ebff;}#sk-2b7dbde6-9931-4deb-80e0-81c4b97c2d60 div.sk-parallel-item::after {content: \"\";width: 100%;border-bottom: 1px solid gray;flex-grow: 1;}#sk-2b7dbde6-9931-4deb-80e0-81c4b97c2d60 div.sk-label:hover label.sk-toggleable__label {background-color: #d4ebff;}#sk-2b7dbde6-9931-4deb-80e0-81c4b97c2d60 div.sk-serial::before {content: \"\";position: absolute;border-left: 1px solid gray;box-sizing: border-box;top: 2em;bottom: 0;left: 50%;}#sk-2b7dbde6-9931-4deb-80e0-81c4b97c2d60 div.sk-serial {display: flex;flex-direction: column;align-items: center;background-color: white;padding-right: 0.2em;padding-left: 0.2em;}#sk-2b7dbde6-9931-4deb-80e0-81c4b97c2d60 div.sk-item {z-index: 1;}#sk-2b7dbde6-9931-4deb-80e0-81c4b97c2d60 div.sk-parallel {display: flex;align-items: stretch;justify-content: center;background-color: white;}#sk-2b7dbde6-9931-4deb-80e0-81c4b97c2d60 div.sk-parallel::before {content: \"\";position: absolute;border-left: 1px solid gray;box-sizing: border-box;top: 2em;bottom: 0;left: 50%;}#sk-2b7dbde6-9931-4deb-80e0-81c4b97c2d60 div.sk-parallel-item {display: flex;flex-direction: column;position: relative;background-color: white;}#sk-2b7dbde6-9931-4deb-80e0-81c4b97c2d60 div.sk-parallel-item:first-child::after {align-self: flex-end;width: 50%;}#sk-2b7dbde6-9931-4deb-80e0-81c4b97c2d60 div.sk-parallel-item:last-child::after {align-self: flex-start;width: 50%;}#sk-2b7dbde6-9931-4deb-80e0-81c4b97c2d60 div.sk-parallel-item:only-child::after {width: 0;}#sk-2b7dbde6-9931-4deb-80e0-81c4b97c2d60 div.sk-dashed-wrapped {border: 1px dashed gray;margin: 0 0.4em 0.5em 0.4em;box-sizing: border-box;padding-bottom: 0.4em;background-color: white;position: relative;}#sk-2b7dbde6-9931-4deb-80e0-81c4b97c2d60 div.sk-label label {font-family: monospace;font-weight: bold;background-color: white;display: inline-block;line-height: 1.2em;}#sk-2b7dbde6-9931-4deb-80e0-81c4b97c2d60 div.sk-label-container {position: relative;z-index: 2;text-align: center;}#sk-2b7dbde6-9931-4deb-80e0-81c4b97c2d60 div.sk-container {/* jupyter's `normalize.less` sets `[hidden] { display: none; }` but bootstrap.min.css set `[hidden] { display: none !important; }` so we also need the `!important` here to be able to override the default hidden behavior on the sphinx rendered scikit-learn.org. See: https://github.com/scikit-learn/scikit-learn/issues/21755 */display: inline-block !important;position: relative;}#sk-2b7dbde6-9931-4deb-80e0-81c4b97c2d60 div.sk-text-repr-fallback {display: none;}</style><div id=\"sk-2b7dbde6-9931-4deb-80e0-81c4b97c2d60\" class=\"sk-top-container\"><div class=\"sk-text-repr-fallback\"><pre>ColumnTransformer(transformers=[(&#x27;pipeline-1&#x27;,\n",
              "                                 Pipeline(steps=[(&#x27;simpleimputer&#x27;,\n",
              "                                                  SimpleImputer(strategy=&#x27;median&#x27;)),\n",
              "                                                 (&#x27;standardscaler&#x27;,\n",
              "                                                  StandardScaler())]),\n",
              "                                 &lt;sklearn.compose._column_transformer.make_column_selector object at 0x7f06bfc1afd0&gt;),\n",
              "                                (&#x27;pipeline-2&#x27;,\n",
              "                                 Pipeline(steps=[(&#x27;simpleimputer&#x27;,\n",
              "                                                  SimpleImputer(strategy=&#x27;most_frequent&#x27;)),\n",
              "                                                 (&#x27;onehotencoder&#x27;,\n",
              "                                                  OneHotEncoder(handle_unknown=&#x27;ignore&#x27;))]),\n",
              "                                 &lt;sklearn.compose._column_transformer.make_column_selector object at 0x7f06bfc1a490&gt;)])</pre><b>Please rerun this cell to show the HTML repr or trust the notebook.</b></div><div class=\"sk-container\" hidden><div class=\"sk-item sk-dashed-wrapped\"><div class=\"sk-label-container\"><div class=\"sk-label sk-toggleable\"><input class=\"sk-toggleable__control sk-hidden--visually\" id=\"d6703866-ec7f-469a-a4ce-366380c00fd4\" type=\"checkbox\" ><label for=\"d6703866-ec7f-469a-a4ce-366380c00fd4\" class=\"sk-toggleable__label sk-toggleable__label-arrow\">ColumnTransformer</label><div class=\"sk-toggleable__content\"><pre>ColumnTransformer(transformers=[(&#x27;pipeline-1&#x27;,\n",
              "                                 Pipeline(steps=[(&#x27;simpleimputer&#x27;,\n",
              "                                                  SimpleImputer(strategy=&#x27;median&#x27;)),\n",
              "                                                 (&#x27;standardscaler&#x27;,\n",
              "                                                  StandardScaler())]),\n",
              "                                 &lt;sklearn.compose._column_transformer.make_column_selector object at 0x7f06bfc1afd0&gt;),\n",
              "                                (&#x27;pipeline-2&#x27;,\n",
              "                                 Pipeline(steps=[(&#x27;simpleimputer&#x27;,\n",
              "                                                  SimpleImputer(strategy=&#x27;most_frequent&#x27;)),\n",
              "                                                 (&#x27;onehotencoder&#x27;,\n",
              "                                                  OneHotEncoder(handle_unknown=&#x27;ignore&#x27;))]),\n",
              "                                 &lt;sklearn.compose._column_transformer.make_column_selector object at 0x7f06bfc1a490&gt;)])</pre></div></div></div><div class=\"sk-parallel\"><div class=\"sk-parallel-item\"><div class=\"sk-item\"><div class=\"sk-label-container\"><div class=\"sk-label sk-toggleable\"><input class=\"sk-toggleable__control sk-hidden--visually\" id=\"4d956c74-282a-4bb2-9269-a32a40f27198\" type=\"checkbox\" ><label for=\"4d956c74-282a-4bb2-9269-a32a40f27198\" class=\"sk-toggleable__label sk-toggleable__label-arrow\">pipeline-1</label><div class=\"sk-toggleable__content\"><pre>&lt;sklearn.compose._column_transformer.make_column_selector object at 0x7f06bfc1afd0&gt;</pre></div></div></div><div class=\"sk-serial\"><div class=\"sk-item\"><div class=\"sk-serial\"><div class=\"sk-item\"><div class=\"sk-estimator sk-toggleable\"><input class=\"sk-toggleable__control sk-hidden--visually\" id=\"5962929b-bf83-46f3-87bb-bb4a9efa4972\" type=\"checkbox\" ><label for=\"5962929b-bf83-46f3-87bb-bb4a9efa4972\" class=\"sk-toggleable__label sk-toggleable__label-arrow\">SimpleImputer</label><div class=\"sk-toggleable__content\"><pre>SimpleImputer(strategy=&#x27;median&#x27;)</pre></div></div></div><div class=\"sk-item\"><div class=\"sk-estimator sk-toggleable\"><input class=\"sk-toggleable__control sk-hidden--visually\" id=\"744ab1fb-deb3-4a6c-8fd4-b2e0dd0fbc1b\" type=\"checkbox\" ><label for=\"744ab1fb-deb3-4a6c-8fd4-b2e0dd0fbc1b\" class=\"sk-toggleable__label sk-toggleable__label-arrow\">StandardScaler</label><div class=\"sk-toggleable__content\"><pre>StandardScaler()</pre></div></div></div></div></div></div></div></div><div class=\"sk-parallel-item\"><div class=\"sk-item\"><div class=\"sk-label-container\"><div class=\"sk-label sk-toggleable\"><input class=\"sk-toggleable__control sk-hidden--visually\" id=\"c51377bf-d57d-4234-b49d-6fe60e995b28\" type=\"checkbox\" ><label for=\"c51377bf-d57d-4234-b49d-6fe60e995b28\" class=\"sk-toggleable__label sk-toggleable__label-arrow\">pipeline-2</label><div class=\"sk-toggleable__content\"><pre>&lt;sklearn.compose._column_transformer.make_column_selector object at 0x7f06bfc1a490&gt;</pre></div></div></div><div class=\"sk-serial\"><div class=\"sk-item\"><div class=\"sk-serial\"><div class=\"sk-item\"><div class=\"sk-estimator sk-toggleable\"><input class=\"sk-toggleable__control sk-hidden--visually\" id=\"7b75aef4-f8e3-4349-b1ef-1b449f830715\" type=\"checkbox\" ><label for=\"7b75aef4-f8e3-4349-b1ef-1b449f830715\" class=\"sk-toggleable__label sk-toggleable__label-arrow\">SimpleImputer</label><div class=\"sk-toggleable__content\"><pre>SimpleImputer(strategy=&#x27;most_frequent&#x27;)</pre></div></div></div><div class=\"sk-item\"><div class=\"sk-estimator sk-toggleable\"><input class=\"sk-toggleable__control sk-hidden--visually\" id=\"1785c4df-f46e-495b-9530-82f0c28de2a0\" type=\"checkbox\" ><label for=\"1785c4df-f46e-495b-9530-82f0c28de2a0\" class=\"sk-toggleable__label sk-toggleable__label-arrow\">OneHotEncoder</label><div class=\"sk-toggleable__content\"><pre>OneHotEncoder(handle_unknown=&#x27;ignore&#x27;)</pre></div></div></div></div></div></div></div></div></div></div></div></div>"
            ]
          },
          "metadata": {},
          "execution_count": 20
        }
      ],
      "source": [
        "from sklearn import set_config\n",
        "set_config(display='diagram') \n",
        "preprocessing"
      ]
    },
    {
      "cell_type": "code",
      "execution_count": null,
      "metadata": {
        "id": "dcK1JI4eCFMY"
      },
      "outputs": [],
      "source": [
        "insurance_prep = preprocessing.fit_transform(insurance)"
      ]
    },
    {
      "cell_type": "code",
      "execution_count": null,
      "metadata": {
        "id": "XlyC7cPHCHPO",
        "colab": {
          "base_uri": "https://localhost:8080/"
        },
        "outputId": "2358e9ad-c2aa-495a-a38c-0f30d273d5ea"
      },
      "outputs": [
        {
          "output_type": "execute_result",
          "data": {
            "text/plain": [
              "array(['pipeline-1__CREDIT_SCORE', 'pipeline-2__AGE_16-25',\n",
              "       'pipeline-2__AGE_26-39', 'pipeline-2__AGE_40-64',\n",
              "       'pipeline-2__AGE_65+', 'pipeline-2__GENDER_female',\n",
              "       'pipeline-2__GENDER_male', 'pipeline-2__RACE_majority',\n",
              "       'pipeline-2__RACE_minority', 'pipeline-2__DRIVING_EXPERIENCE_0-9y',\n",
              "       'pipeline-2__DRIVING_EXPERIENCE_10-19y',\n",
              "       'pipeline-2__DRIVING_EXPERIENCE_20-29y',\n",
              "       'pipeline-2__DRIVING_EXPERIENCE_30y+',\n",
              "       'pipeline-2__EDUCATION_high school', 'pipeline-2__EDUCATION_none',\n",
              "       'pipeline-2__EDUCATION_university',\n",
              "       'pipeline-2__INCOME_middle class', 'pipeline-2__INCOME_poverty',\n",
              "       'pipeline-2__INCOME_upper class',\n",
              "       'pipeline-2__INCOME_working class',\n",
              "       'pipeline-2__VEHICLE_OWNERSHIP_0.0',\n",
              "       'pipeline-2__VEHICLE_OWNERSHIP_1.0',\n",
              "       'pipeline-2__VEHICLE_YEAR_after 2015',\n",
              "       'pipeline-2__VEHICLE_YEAR_before 2015', 'pipeline-2__MARRIED_0.0',\n",
              "       'pipeline-2__MARRIED_1.0', 'pipeline-2__CHILDREN_0.0',\n",
              "       'pipeline-2__CHILDREN_1.0', 'pipeline-2__POSTAL_CODE_10238',\n",
              "       'pipeline-2__POSTAL_CODE_21217', 'pipeline-2__POSTAL_CODE_32765',\n",
              "       'pipeline-2__POSTAL_CODE_92101',\n",
              "       'pipeline-2__ANNUAL_MILEAGE_2000.0',\n",
              "       'pipeline-2__ANNUAL_MILEAGE_3000.0',\n",
              "       'pipeline-2__ANNUAL_MILEAGE_4000.0',\n",
              "       'pipeline-2__ANNUAL_MILEAGE_5000.0',\n",
              "       'pipeline-2__ANNUAL_MILEAGE_6000.0',\n",
              "       'pipeline-2__ANNUAL_MILEAGE_7000.0',\n",
              "       'pipeline-2__ANNUAL_MILEAGE_8000.0',\n",
              "       'pipeline-2__ANNUAL_MILEAGE_9000.0',\n",
              "       'pipeline-2__ANNUAL_MILEAGE_10000.0',\n",
              "       'pipeline-2__ANNUAL_MILEAGE_11000.0',\n",
              "       'pipeline-2__ANNUAL_MILEAGE_12000.0',\n",
              "       'pipeline-2__ANNUAL_MILEAGE_13000.0',\n",
              "       'pipeline-2__ANNUAL_MILEAGE_14000.0',\n",
              "       'pipeline-2__ANNUAL_MILEAGE_15000.0',\n",
              "       'pipeline-2__ANNUAL_MILEAGE_16000.0',\n",
              "       'pipeline-2__ANNUAL_MILEAGE_17000.0',\n",
              "       'pipeline-2__ANNUAL_MILEAGE_18000.0',\n",
              "       'pipeline-2__ANNUAL_MILEAGE_19000.0',\n",
              "       'pipeline-2__ANNUAL_MILEAGE_20000.0',\n",
              "       'pipeline-2__ANNUAL_MILEAGE_21000.0',\n",
              "       'pipeline-2__ANNUAL_MILEAGE_22000.0',\n",
              "       'pipeline-2__VEHICLE_TYPE_sedan',\n",
              "       'pipeline-2__VEHICLE_TYPE_sports car',\n",
              "       'pipeline-2__SPEEDING_VIOLATIONS_0',\n",
              "       'pipeline-2__SPEEDING_VIOLATIONS_1',\n",
              "       'pipeline-2__SPEEDING_VIOLATIONS_2',\n",
              "       'pipeline-2__SPEEDING_VIOLATIONS_3',\n",
              "       'pipeline-2__SPEEDING_VIOLATIONS_4',\n",
              "       'pipeline-2__SPEEDING_VIOLATIONS_5',\n",
              "       'pipeline-2__SPEEDING_VIOLATIONS_6',\n",
              "       'pipeline-2__SPEEDING_VIOLATIONS_7',\n",
              "       'pipeline-2__SPEEDING_VIOLATIONS_8',\n",
              "       'pipeline-2__SPEEDING_VIOLATIONS_9',\n",
              "       'pipeline-2__SPEEDING_VIOLATIONS_10',\n",
              "       'pipeline-2__SPEEDING_VIOLATIONS_11',\n",
              "       'pipeline-2__SPEEDING_VIOLATIONS_12',\n",
              "       'pipeline-2__SPEEDING_VIOLATIONS_13',\n",
              "       'pipeline-2__SPEEDING_VIOLATIONS_14',\n",
              "       'pipeline-2__SPEEDING_VIOLATIONS_15',\n",
              "       'pipeline-2__SPEEDING_VIOLATIONS_16',\n",
              "       'pipeline-2__SPEEDING_VIOLATIONS_17',\n",
              "       'pipeline-2__SPEEDING_VIOLATIONS_18',\n",
              "       'pipeline-2__SPEEDING_VIOLATIONS_19',\n",
              "       'pipeline-2__SPEEDING_VIOLATIONS_22', 'pipeline-2__DUIS_0',\n",
              "       'pipeline-2__DUIS_1', 'pipeline-2__DUIS_2', 'pipeline-2__DUIS_3',\n",
              "       'pipeline-2__DUIS_4', 'pipeline-2__DUIS_5', 'pipeline-2__DUIS_6',\n",
              "       'pipeline-2__PAST_ACCIDENTS_0', 'pipeline-2__PAST_ACCIDENTS_1',\n",
              "       'pipeline-2__PAST_ACCIDENTS_2', 'pipeline-2__PAST_ACCIDENTS_3',\n",
              "       'pipeline-2__PAST_ACCIDENTS_4', 'pipeline-2__PAST_ACCIDENTS_5',\n",
              "       'pipeline-2__PAST_ACCIDENTS_6', 'pipeline-2__PAST_ACCIDENTS_7',\n",
              "       'pipeline-2__PAST_ACCIDENTS_8', 'pipeline-2__PAST_ACCIDENTS_9',\n",
              "       'pipeline-2__PAST_ACCIDENTS_10', 'pipeline-2__PAST_ACCIDENTS_11',\n",
              "       'pipeline-2__PAST_ACCIDENTS_12', 'pipeline-2__PAST_ACCIDENTS_14',\n",
              "       'pipeline-2__PAST_ACCIDENTS_15'], dtype=object)"
            ]
          },
          "metadata": {},
          "execution_count": 22
        }
      ],
      "source": [
        "preprocessing.get_feature_names_out()"
      ]
    },
    {
      "cell_type": "code",
      "execution_count": null,
      "metadata": {
        "id": "yk93eIbeCSis",
        "colab": {
          "base_uri": "https://localhost:8080/",
          "height": 522
        },
        "outputId": "0e3e9e6f-257d-40f6-e7e0-3574a15acc10"
      },
      "outputs": [
        {
          "output_type": "execute_result",
          "data": {
            "text/plain": [
              "      pipeline-1__CREDIT_SCORE  pipeline-2__AGE_16-25  pipeline-2__AGE_26-39  \\\n",
              "4930                 -0.191588                    0.0                    1.0   \n",
              "687                  -1.031762                    1.0                    0.0   \n",
              "6141                 -0.502641                    1.0                    0.0   \n",
              "204                  -0.530195                    0.0                    1.0   \n",
              "624                   0.068560                    0.0                    1.0   \n",
              "...                        ...                    ...                    ...   \n",
              "635                  -0.037626                    0.0                    1.0   \n",
              "1345                  0.068560                    0.0                    0.0   \n",
              "581                  -0.996251                    1.0                    0.0   \n",
              "2169                  1.504191                    0.0                    0.0   \n",
              "6825                  1.136475                    0.0                    0.0   \n",
              "\n",
              "      pipeline-2__AGE_40-64  pipeline-2__AGE_65+  pipeline-2__GENDER_female  \\\n",
              "4930                    0.0                  0.0                        1.0   \n",
              "687                     0.0                  0.0                        1.0   \n",
              "6141                    0.0                  0.0                        1.0   \n",
              "204                     0.0                  0.0                        1.0   \n",
              "624                     0.0                  0.0                        0.0   \n",
              "...                     ...                  ...                        ...   \n",
              "635                     0.0                  0.0                        1.0   \n",
              "1345                    0.0                  1.0                        0.0   \n",
              "581                     0.0                  0.0                        1.0   \n",
              "2169                    0.0                  1.0                        1.0   \n",
              "6825                    1.0                  0.0                        1.0   \n",
              "\n",
              "      pipeline-2__GENDER_male  pipeline-2__RACE_majority  \\\n",
              "4930                      0.0                        1.0   \n",
              "687                       0.0                        0.0   \n",
              "6141                      0.0                        1.0   \n",
              "204                       0.0                        1.0   \n",
              "624                       1.0                        1.0   \n",
              "...                       ...                        ...   \n",
              "635                       0.0                        1.0   \n",
              "1345                      1.0                        1.0   \n",
              "581                       0.0                        1.0   \n",
              "2169                      0.0                        1.0   \n",
              "6825                      0.0                        1.0   \n",
              "\n",
              "      pipeline-2__RACE_minority  pipeline-2__DRIVING_EXPERIENCE_0-9y  ...  \\\n",
              "4930                        0.0                                  0.0  ...   \n",
              "687                         1.0                                  1.0  ...   \n",
              "6141                        0.0                                  1.0  ...   \n",
              "204                         0.0                                  0.0  ...   \n",
              "624                         0.0                                  1.0  ...   \n",
              "...                         ...                                  ...  ...   \n",
              "635                         0.0                                  0.0  ...   \n",
              "1345                        0.0                                  0.0  ...   \n",
              "581                         0.0                                  1.0  ...   \n",
              "2169                        0.0                                  0.0  ...   \n",
              "6825                        0.0                                  0.0  ...   \n",
              "\n",
              "      pipeline-2__PAST_ACCIDENTS_5  pipeline-2__PAST_ACCIDENTS_6  \\\n",
              "4930                           0.0                           0.0   \n",
              "687                            0.0                           0.0   \n",
              "6141                           0.0                           0.0   \n",
              "204                            0.0                           0.0   \n",
              "624                            0.0                           0.0   \n",
              "...                            ...                           ...   \n",
              "635                            0.0                           0.0   \n",
              "1345                           0.0                           0.0   \n",
              "581                            0.0                           0.0   \n",
              "2169                           0.0                           0.0   \n",
              "6825                           0.0                           0.0   \n",
              "\n",
              "      pipeline-2__PAST_ACCIDENTS_7  pipeline-2__PAST_ACCIDENTS_8  \\\n",
              "4930                           0.0                           0.0   \n",
              "687                            0.0                           0.0   \n",
              "6141                           0.0                           0.0   \n",
              "204                            0.0                           0.0   \n",
              "624                            0.0                           0.0   \n",
              "...                            ...                           ...   \n",
              "635                            0.0                           0.0   \n",
              "1345                           0.0                           0.0   \n",
              "581                            0.0                           0.0   \n",
              "2169                           0.0                           0.0   \n",
              "6825                           0.0                           0.0   \n",
              "\n",
              "      pipeline-2__PAST_ACCIDENTS_9  pipeline-2__PAST_ACCIDENTS_10  \\\n",
              "4930                           0.0                            0.0   \n",
              "687                            0.0                            0.0   \n",
              "6141                           0.0                            0.0   \n",
              "204                            0.0                            0.0   \n",
              "624                            0.0                            0.0   \n",
              "...                            ...                            ...   \n",
              "635                            0.0                            0.0   \n",
              "1345                           0.0                            0.0   \n",
              "581                            0.0                            0.0   \n",
              "2169                           0.0                            0.0   \n",
              "6825                           0.0                            0.0   \n",
              "\n",
              "      pipeline-2__PAST_ACCIDENTS_11  pipeline-2__PAST_ACCIDENTS_12  \\\n",
              "4930                            0.0                            0.0   \n",
              "687                             0.0                            0.0   \n",
              "6141                            0.0                            0.0   \n",
              "204                             0.0                            0.0   \n",
              "624                             0.0                            0.0   \n",
              "...                             ...                            ...   \n",
              "635                             0.0                            0.0   \n",
              "1345                            0.0                            0.0   \n",
              "581                             0.0                            0.0   \n",
              "2169                            0.0                            0.0   \n",
              "6825                            0.0                            0.0   \n",
              "\n",
              "      pipeline-2__PAST_ACCIDENTS_14  pipeline-2__PAST_ACCIDENTS_15  \n",
              "4930                            0.0                            0.0  \n",
              "687                             0.0                            0.0  \n",
              "6141                            0.0                            0.0  \n",
              "204                             0.0                            0.0  \n",
              "624                             0.0                            0.0  \n",
              "...                             ...                            ...  \n",
              "635                             0.0                            0.0  \n",
              "1345                            0.0                            0.0  \n",
              "581                             0.0                            0.0  \n",
              "2169                            0.0                            0.0  \n",
              "6825                            0.0                            0.0  \n",
              "\n",
              "[8000 rows x 98 columns]"
            ],
            "text/html": [
              "\n",
              "  <div id=\"df-833f16ac-d23a-4eca-b7cd-7a4e1346e32e\">\n",
              "    <div class=\"colab-df-container\">\n",
              "      <div>\n",
              "<style scoped>\n",
              "    .dataframe tbody tr th:only-of-type {\n",
              "        vertical-align: middle;\n",
              "    }\n",
              "\n",
              "    .dataframe tbody tr th {\n",
              "        vertical-align: top;\n",
              "    }\n",
              "\n",
              "    .dataframe thead th {\n",
              "        text-align: right;\n",
              "    }\n",
              "</style>\n",
              "<table border=\"1\" class=\"dataframe\">\n",
              "  <thead>\n",
              "    <tr style=\"text-align: right;\">\n",
              "      <th></th>\n",
              "      <th>pipeline-1__CREDIT_SCORE</th>\n",
              "      <th>pipeline-2__AGE_16-25</th>\n",
              "      <th>pipeline-2__AGE_26-39</th>\n",
              "      <th>pipeline-2__AGE_40-64</th>\n",
              "      <th>pipeline-2__AGE_65+</th>\n",
              "      <th>pipeline-2__GENDER_female</th>\n",
              "      <th>pipeline-2__GENDER_male</th>\n",
              "      <th>pipeline-2__RACE_majority</th>\n",
              "      <th>pipeline-2__RACE_minority</th>\n",
              "      <th>pipeline-2__DRIVING_EXPERIENCE_0-9y</th>\n",
              "      <th>...</th>\n",
              "      <th>pipeline-2__PAST_ACCIDENTS_5</th>\n",
              "      <th>pipeline-2__PAST_ACCIDENTS_6</th>\n",
              "      <th>pipeline-2__PAST_ACCIDENTS_7</th>\n",
              "      <th>pipeline-2__PAST_ACCIDENTS_8</th>\n",
              "      <th>pipeline-2__PAST_ACCIDENTS_9</th>\n",
              "      <th>pipeline-2__PAST_ACCIDENTS_10</th>\n",
              "      <th>pipeline-2__PAST_ACCIDENTS_11</th>\n",
              "      <th>pipeline-2__PAST_ACCIDENTS_12</th>\n",
              "      <th>pipeline-2__PAST_ACCIDENTS_14</th>\n",
              "      <th>pipeline-2__PAST_ACCIDENTS_15</th>\n",
              "    </tr>\n",
              "  </thead>\n",
              "  <tbody>\n",
              "    <tr>\n",
              "      <th>4930</th>\n",
              "      <td>-0.191588</td>\n",
              "      <td>0.0</td>\n",
              "      <td>1.0</td>\n",
              "      <td>0.0</td>\n",
              "      <td>0.0</td>\n",
              "      <td>1.0</td>\n",
              "      <td>0.0</td>\n",
              "      <td>1.0</td>\n",
              "      <td>0.0</td>\n",
              "      <td>0.0</td>\n",
              "      <td>...</td>\n",
              "      <td>0.0</td>\n",
              "      <td>0.0</td>\n",
              "      <td>0.0</td>\n",
              "      <td>0.0</td>\n",
              "      <td>0.0</td>\n",
              "      <td>0.0</td>\n",
              "      <td>0.0</td>\n",
              "      <td>0.0</td>\n",
              "      <td>0.0</td>\n",
              "      <td>0.0</td>\n",
              "    </tr>\n",
              "    <tr>\n",
              "      <th>687</th>\n",
              "      <td>-1.031762</td>\n",
              "      <td>1.0</td>\n",
              "      <td>0.0</td>\n",
              "      <td>0.0</td>\n",
              "      <td>0.0</td>\n",
              "      <td>1.0</td>\n",
              "      <td>0.0</td>\n",
              "      <td>0.0</td>\n",
              "      <td>1.0</td>\n",
              "      <td>1.0</td>\n",
              "      <td>...</td>\n",
              "      <td>0.0</td>\n",
              "      <td>0.0</td>\n",
              "      <td>0.0</td>\n",
              "      <td>0.0</td>\n",
              "      <td>0.0</td>\n",
              "      <td>0.0</td>\n",
              "      <td>0.0</td>\n",
              "      <td>0.0</td>\n",
              "      <td>0.0</td>\n",
              "      <td>0.0</td>\n",
              "    </tr>\n",
              "    <tr>\n",
              "      <th>6141</th>\n",
              "      <td>-0.502641</td>\n",
              "      <td>1.0</td>\n",
              "      <td>0.0</td>\n",
              "      <td>0.0</td>\n",
              "      <td>0.0</td>\n",
              "      <td>1.0</td>\n",
              "      <td>0.0</td>\n",
              "      <td>1.0</td>\n",
              "      <td>0.0</td>\n",
              "      <td>1.0</td>\n",
              "      <td>...</td>\n",
              "      <td>0.0</td>\n",
              "      <td>0.0</td>\n",
              "      <td>0.0</td>\n",
              "      <td>0.0</td>\n",
              "      <td>0.0</td>\n",
              "      <td>0.0</td>\n",
              "      <td>0.0</td>\n",
              "      <td>0.0</td>\n",
              "      <td>0.0</td>\n",
              "      <td>0.0</td>\n",
              "    </tr>\n",
              "    <tr>\n",
              "      <th>204</th>\n",
              "      <td>-0.530195</td>\n",
              "      <td>0.0</td>\n",
              "      <td>1.0</td>\n",
              "      <td>0.0</td>\n",
              "      <td>0.0</td>\n",
              "      <td>1.0</td>\n",
              "      <td>0.0</td>\n",
              "      <td>1.0</td>\n",
              "      <td>0.0</td>\n",
              "      <td>0.0</td>\n",
              "      <td>...</td>\n",
              "      <td>0.0</td>\n",
              "      <td>0.0</td>\n",
              "      <td>0.0</td>\n",
              "      <td>0.0</td>\n",
              "      <td>0.0</td>\n",
              "      <td>0.0</td>\n",
              "      <td>0.0</td>\n",
              "      <td>0.0</td>\n",
              "      <td>0.0</td>\n",
              "      <td>0.0</td>\n",
              "    </tr>\n",
              "    <tr>\n",
              "      <th>624</th>\n",
              "      <td>0.068560</td>\n",
              "      <td>0.0</td>\n",
              "      <td>1.0</td>\n",
              "      <td>0.0</td>\n",
              "      <td>0.0</td>\n",
              "      <td>0.0</td>\n",
              "      <td>1.0</td>\n",
              "      <td>1.0</td>\n",
              "      <td>0.0</td>\n",
              "      <td>1.0</td>\n",
              "      <td>...</td>\n",
              "      <td>0.0</td>\n",
              "      <td>0.0</td>\n",
              "      <td>0.0</td>\n",
              "      <td>0.0</td>\n",
              "      <td>0.0</td>\n",
              "      <td>0.0</td>\n",
              "      <td>0.0</td>\n",
              "      <td>0.0</td>\n",
              "      <td>0.0</td>\n",
              "      <td>0.0</td>\n",
              "    </tr>\n",
              "    <tr>\n",
              "      <th>...</th>\n",
              "      <td>...</td>\n",
              "      <td>...</td>\n",
              "      <td>...</td>\n",
              "      <td>...</td>\n",
              "      <td>...</td>\n",
              "      <td>...</td>\n",
              "      <td>...</td>\n",
              "      <td>...</td>\n",
              "      <td>...</td>\n",
              "      <td>...</td>\n",
              "      <td>...</td>\n",
              "      <td>...</td>\n",
              "      <td>...</td>\n",
              "      <td>...</td>\n",
              "      <td>...</td>\n",
              "      <td>...</td>\n",
              "      <td>...</td>\n",
              "      <td>...</td>\n",
              "      <td>...</td>\n",
              "      <td>...</td>\n",
              "      <td>...</td>\n",
              "    </tr>\n",
              "    <tr>\n",
              "      <th>635</th>\n",
              "      <td>-0.037626</td>\n",
              "      <td>0.0</td>\n",
              "      <td>1.0</td>\n",
              "      <td>0.0</td>\n",
              "      <td>0.0</td>\n",
              "      <td>1.0</td>\n",
              "      <td>0.0</td>\n",
              "      <td>1.0</td>\n",
              "      <td>0.0</td>\n",
              "      <td>0.0</td>\n",
              "      <td>...</td>\n",
              "      <td>0.0</td>\n",
              "      <td>0.0</td>\n",
              "      <td>0.0</td>\n",
              "      <td>0.0</td>\n",
              "      <td>0.0</td>\n",
              "      <td>0.0</td>\n",
              "      <td>0.0</td>\n",
              "      <td>0.0</td>\n",
              "      <td>0.0</td>\n",
              "      <td>0.0</td>\n",
              "    </tr>\n",
              "    <tr>\n",
              "      <th>1345</th>\n",
              "      <td>0.068560</td>\n",
              "      <td>0.0</td>\n",
              "      <td>0.0</td>\n",
              "      <td>0.0</td>\n",
              "      <td>1.0</td>\n",
              "      <td>0.0</td>\n",
              "      <td>1.0</td>\n",
              "      <td>1.0</td>\n",
              "      <td>0.0</td>\n",
              "      <td>0.0</td>\n",
              "      <td>...</td>\n",
              "      <td>0.0</td>\n",
              "      <td>0.0</td>\n",
              "      <td>0.0</td>\n",
              "      <td>0.0</td>\n",
              "      <td>0.0</td>\n",
              "      <td>0.0</td>\n",
              "      <td>0.0</td>\n",
              "      <td>0.0</td>\n",
              "      <td>0.0</td>\n",
              "      <td>0.0</td>\n",
              "    </tr>\n",
              "    <tr>\n",
              "      <th>581</th>\n",
              "      <td>-0.996251</td>\n",
              "      <td>1.0</td>\n",
              "      <td>0.0</td>\n",
              "      <td>0.0</td>\n",
              "      <td>0.0</td>\n",
              "      <td>1.0</td>\n",
              "      <td>0.0</td>\n",
              "      <td>1.0</td>\n",
              "      <td>0.0</td>\n",
              "      <td>1.0</td>\n",
              "      <td>...</td>\n",
              "      <td>0.0</td>\n",
              "      <td>0.0</td>\n",
              "      <td>0.0</td>\n",
              "      <td>0.0</td>\n",
              "      <td>0.0</td>\n",
              "      <td>0.0</td>\n",
              "      <td>0.0</td>\n",
              "      <td>0.0</td>\n",
              "      <td>0.0</td>\n",
              "      <td>0.0</td>\n",
              "    </tr>\n",
              "    <tr>\n",
              "      <th>2169</th>\n",
              "      <td>1.504191</td>\n",
              "      <td>0.0</td>\n",
              "      <td>0.0</td>\n",
              "      <td>0.0</td>\n",
              "      <td>1.0</td>\n",
              "      <td>1.0</td>\n",
              "      <td>0.0</td>\n",
              "      <td>1.0</td>\n",
              "      <td>0.0</td>\n",
              "      <td>0.0</td>\n",
              "      <td>...</td>\n",
              "      <td>0.0</td>\n",
              "      <td>0.0</td>\n",
              "      <td>0.0</td>\n",
              "      <td>0.0</td>\n",
              "      <td>0.0</td>\n",
              "      <td>0.0</td>\n",
              "      <td>0.0</td>\n",
              "      <td>0.0</td>\n",
              "      <td>0.0</td>\n",
              "      <td>0.0</td>\n",
              "    </tr>\n",
              "    <tr>\n",
              "      <th>6825</th>\n",
              "      <td>1.136475</td>\n",
              "      <td>0.0</td>\n",
              "      <td>0.0</td>\n",
              "      <td>1.0</td>\n",
              "      <td>0.0</td>\n",
              "      <td>1.0</td>\n",
              "      <td>0.0</td>\n",
              "      <td>1.0</td>\n",
              "      <td>0.0</td>\n",
              "      <td>0.0</td>\n",
              "      <td>...</td>\n",
              "      <td>0.0</td>\n",
              "      <td>0.0</td>\n",
              "      <td>0.0</td>\n",
              "      <td>0.0</td>\n",
              "      <td>0.0</td>\n",
              "      <td>0.0</td>\n",
              "      <td>0.0</td>\n",
              "      <td>0.0</td>\n",
              "      <td>0.0</td>\n",
              "      <td>0.0</td>\n",
              "    </tr>\n",
              "  </tbody>\n",
              "</table>\n",
              "<p>8000 rows × 98 columns</p>\n",
              "</div>\n",
              "      <button class=\"colab-df-convert\" onclick=\"convertToInteractive('df-833f16ac-d23a-4eca-b7cd-7a4e1346e32e')\"\n",
              "              title=\"Convert this dataframe to an interactive table.\"\n",
              "              style=\"display:none;\">\n",
              "        \n",
              "  <svg xmlns=\"http://www.w3.org/2000/svg\" height=\"24px\"viewBox=\"0 0 24 24\"\n",
              "       width=\"24px\">\n",
              "    <path d=\"M0 0h24v24H0V0z\" fill=\"none\"/>\n",
              "    <path d=\"M18.56 5.44l.94 2.06.94-2.06 2.06-.94-2.06-.94-.94-2.06-.94 2.06-2.06.94zm-11 1L8.5 8.5l.94-2.06 2.06-.94-2.06-.94L8.5 2.5l-.94 2.06-2.06.94zm10 10l.94 2.06.94-2.06 2.06-.94-2.06-.94-.94-2.06-.94 2.06-2.06.94z\"/><path d=\"M17.41 7.96l-1.37-1.37c-.4-.4-.92-.59-1.43-.59-.52 0-1.04.2-1.43.59L10.3 9.45l-7.72 7.72c-.78.78-.78 2.05 0 2.83L4 21.41c.39.39.9.59 1.41.59.51 0 1.02-.2 1.41-.59l7.78-7.78 2.81-2.81c.8-.78.8-2.07 0-2.86zM5.41 20L4 18.59l7.72-7.72 1.47 1.35L5.41 20z\"/>\n",
              "  </svg>\n",
              "      </button>\n",
              "      \n",
              "  <style>\n",
              "    .colab-df-container {\n",
              "      display:flex;\n",
              "      flex-wrap:wrap;\n",
              "      gap: 12px;\n",
              "    }\n",
              "\n",
              "    .colab-df-convert {\n",
              "      background-color: #E8F0FE;\n",
              "      border: none;\n",
              "      border-radius: 50%;\n",
              "      cursor: pointer;\n",
              "      display: none;\n",
              "      fill: #1967D2;\n",
              "      height: 32px;\n",
              "      padding: 0 0 0 0;\n",
              "      width: 32px;\n",
              "    }\n",
              "\n",
              "    .colab-df-convert:hover {\n",
              "      background-color: #E2EBFA;\n",
              "      box-shadow: 0px 1px 2px rgba(60, 64, 67, 0.3), 0px 1px 3px 1px rgba(60, 64, 67, 0.15);\n",
              "      fill: #174EA6;\n",
              "    }\n",
              "\n",
              "    [theme=dark] .colab-df-convert {\n",
              "      background-color: #3B4455;\n",
              "      fill: #D2E3FC;\n",
              "    }\n",
              "\n",
              "    [theme=dark] .colab-df-convert:hover {\n",
              "      background-color: #434B5C;\n",
              "      box-shadow: 0px 1px 3px 1px rgba(0, 0, 0, 0.15);\n",
              "      filter: drop-shadow(0px 1px 2px rgba(0, 0, 0, 0.3));\n",
              "      fill: #FFFFFF;\n",
              "    }\n",
              "  </style>\n",
              "\n",
              "      <script>\n",
              "        const buttonEl =\n",
              "          document.querySelector('#df-833f16ac-d23a-4eca-b7cd-7a4e1346e32e button.colab-df-convert');\n",
              "        buttonEl.style.display =\n",
              "          google.colab.kernel.accessAllowed ? 'block' : 'none';\n",
              "\n",
              "        async function convertToInteractive(key) {\n",
              "          const element = document.querySelector('#df-833f16ac-d23a-4eca-b7cd-7a4e1346e32e');\n",
              "          const dataTable =\n",
              "            await google.colab.kernel.invokeFunction('convertToInteractive',\n",
              "                                                     [key], {});\n",
              "          if (!dataTable) return;\n",
              "\n",
              "          const docLinkHtml = 'Like what you see? Visit the ' +\n",
              "            '<a target=\"_blank\" href=https://colab.research.google.com/notebooks/data_table.ipynb>data table notebook</a>'\n",
              "            + ' to learn more about interactive tables.';\n",
              "          element.innerHTML = '';\n",
              "          dataTable['output_type'] = 'display_data';\n",
              "          await google.colab.output.renderOutput(dataTable, element);\n",
              "          const docLink = document.createElement('div');\n",
              "          docLink.innerHTML = docLinkHtml;\n",
              "          element.appendChild(docLink);\n",
              "        }\n",
              "      </script>\n",
              "    </div>\n",
              "  </div>\n",
              "  "
            ]
          },
          "metadata": {},
          "execution_count": 23
        }
      ],
      "source": [
        "pd.DataFrame(insurance_prep.toarray())\n",
        "df_prepared_fr = pd.DataFrame(pd.DataFrame(insurance_prep.toarray()))\n",
        "df_prepared_fr.columns = columns=preprocessing.get_feature_names_out()\n",
        "df_prepared_fr.index = insurance.index\n",
        "df_prepared_fr"
      ]
    },
    {
      "cell_type": "markdown",
      "metadata": {
        "id": "8MX9joOSL9TM"
      },
      "source": [
        "#**Train Test Split**"
      ]
    },
    {
      "cell_type": "code",
      "execution_count": null,
      "metadata": {
        "id": "mroDBJ6KTnUz",
        "colab": {
          "base_uri": "https://localhost:8080/"
        },
        "outputId": "28f03ba2-da8d-414e-cd4a-25477b4d6196"
      },
      "outputs": [
        {
          "output_type": "stream",
          "name": "stdout",
          "text": [
            "        AGE  GENDER      RACE DRIVING_EXPERIENCE    EDUCATION         INCOME  \\\n",
            "4930  26-39  female  majority             10-19y  high school  working class   \n",
            "687   16-25  female  minority               0-9y         none        poverty   \n",
            "6141  16-25  female  majority               0-9y         none        poverty   \n",
            "204   26-39  female  majority             10-19y   university   middle class   \n",
            "624   26-39    male  majority               0-9y  high school   middle class   \n",
            "\n",
            "      CREDIT_SCORE VEHICLE_OWNERSHIP VEHICLE_YEAR MARRIED CHILDREN  \\\n",
            "4930      0.494067               0.0  before 2015     0.0      1.0   \n",
            "687       0.384761               0.0  before 2015     0.0      0.0   \n",
            "6141      0.453599               0.0  before 2015     1.0      0.0   \n",
            "204       0.450015               1.0  before 2015     0.0      1.0   \n",
            "624            NaN               1.0  before 2015     0.0      1.0   \n",
            "\n",
            "     POSTAL_CODE ANNUAL_MILEAGE VEHICLE_TYPE SPEEDING_VIOLATIONS DUIS  \\\n",
            "4930       92101        10000.0        sedan                   2    1   \n",
            "687        10238        16000.0   sports car                   0    0   \n",
            "6141       10238            NaN        sedan                   0    0   \n",
            "204        10238        13000.0        sedan                   1    0   \n",
            "624        10238         9000.0        sedan                   0    0   \n",
            "\n",
            "     PAST_ACCIDENTS  \n",
            "4930              0  \n",
            "687               0  \n",
            "6141              0  \n",
            "204               1  \n",
            "624               0  \n"
          ]
        }
      ],
      "source": [
        "train_set.head()\n",
        "df_X = train_set.drop('OUTCOME', axis=1)\n",
        "df_y = train_set['OUTCOME']\n",
        "print(df_X.head())\n",
        "\n",
        "X_train = preprocessing.fit_transform(df_X)\n",
        "y_train = df_y.values\n",
        "X_test = preprocessing.transform(test_set)\n",
        "y_test = test_set[\"OUTCOME\"]\n"
      ]
    },
    {
      "cell_type": "code",
      "execution_count": null,
      "metadata": {
        "id": "flZQKpi0K59t"
      },
      "outputs": [],
      "source": [
        "cv_mean = pd.DataFrame(columns = ['Model','Score'])\n",
        "acc = pd.DataFrame(columns = ['Model','Accuracy_Score','Balanced_Accuracy_Score'])"
      ]
    },
    {
      "cell_type": "markdown",
      "metadata": {
        "id": "obY3cjYqMZd4"
      },
      "source": [
        "#**Random Forest Classifier**"
      ]
    },
    {
      "cell_type": "code",
      "execution_count": null,
      "metadata": {
        "id": "GsjL7lE-WHl_",
        "colab": {
          "base_uri": "https://localhost:8080/"
        },
        "outputId": "7f44edea-32fd-4c4f-b806-69e9d6248662"
      },
      "outputs": [
        {
          "output_type": "execute_result",
          "data": {
            "text/plain": [
              "0.797"
            ]
          },
          "metadata": {},
          "execution_count": 26
        }
      ],
      "source": [
        "from sklearn.ensemble import RandomForestClassifier\n",
        "from sklearn.model_selection import cross_val_score\n",
        "\n",
        "rf_pipe = make_pipeline(preprocessing, RandomForestClassifier(n_estimators=100, random_state=42))\n",
        "rf_scores = cross_val_score(rf_pipe, df_X, df_y, cv=10, scoring='balanced_accuracy')\n",
        "cv_mean = cv_mean.append({'Model' : 'RandomForest_Default', 'Score' : rf_scores.mean().round(3)},ignore_index = True)\n",
        "rf_scores.mean().round(3)\n"
      ]
    },
    {
      "cell_type": "markdown",
      "metadata": {
        "id": "_qvVDR_m8A44"
      },
      "source": [
        "## Grid Search"
      ]
    },
    {
      "cell_type": "code",
      "execution_count": null,
      "metadata": {
        "colab": {
          "base_uri": "https://localhost:8080/"
        },
        "id": "bSBjWgplWVU0",
        "outputId": "23b468d8-6097-471e-d7b3-a86faf70cf18"
      },
      "outputs": [
        {
          "output_type": "execute_result",
          "data": {
            "text/plain": [
              "    mean_fit_time  std_fit_time  mean_score_time  std_score_time  \\\n",
              "16       1.758725      0.018705         0.069321        0.001331   \n",
              "17       1.790272      0.024892         0.073744        0.002746   \n",
              "15       1.767532      0.039155         0.072510        0.002479   \n",
              "26       5.091020      0.045693         0.079934        0.000048   \n",
              "25       5.545500      0.043576         0.080257        0.001429   \n",
              "\n",
              "   param_random_forest__max_depth param_random_forest__max_features  \\\n",
              "16                              5                              None   \n",
              "17                              5                              None   \n",
              "15                              5                              None   \n",
              "26                             10                              None   \n",
              "25                             10                              None   \n",
              "\n",
              "   param_random_forest__min_samples_leaf  \\\n",
              "16                                     5   \n",
              "17                                    10   \n",
              "15                                     2   \n",
              "26                                    10   \n",
              "25                                     5   \n",
              "\n",
              "                                               params  split0_test_score  \\\n",
              "16  {'random_forest__max_depth': 5, 'random_forest...           0.827927   \n",
              "17  {'random_forest__max_depth': 5, 'random_forest...           0.826444   \n",
              "15  {'random_forest__max_depth': 5, 'random_forest...           0.827050   \n",
              "26  {'random_forest__max_depth': 10, 'random_fores...           0.821108   \n",
              "25  {'random_forest__max_depth': 10, 'random_fores...           0.819019   \n",
              "\n",
              "    split1_test_score  split2_test_score  mean_test_score  std_test_score  \\\n",
              "16           0.813899           0.823112         0.821646        0.005820   \n",
              "17           0.813836           0.823718         0.821332        0.005416   \n",
              "15           0.812479           0.823112         0.820880        0.006154   \n",
              "26           0.816765           0.817174         0.818349        0.001958   \n",
              "25           0.816765           0.815690         0.817158        0.001387   \n",
              "\n",
              "    rank_test_score  \n",
              "16                1  \n",
              "17                2  \n",
              "15                3  \n",
              "26                4  \n",
              "25                5  "
            ],
            "text/html": [
              "\n",
              "  <div id=\"df-c2c47510-7e8c-4e54-9f49-b5e929d29b26\">\n",
              "    <div class=\"colab-df-container\">\n",
              "      <div>\n",
              "<style scoped>\n",
              "    .dataframe tbody tr th:only-of-type {\n",
              "        vertical-align: middle;\n",
              "    }\n",
              "\n",
              "    .dataframe tbody tr th {\n",
              "        vertical-align: top;\n",
              "    }\n",
              "\n",
              "    .dataframe thead th {\n",
              "        text-align: right;\n",
              "    }\n",
              "</style>\n",
              "<table border=\"1\" class=\"dataframe\">\n",
              "  <thead>\n",
              "    <tr style=\"text-align: right;\">\n",
              "      <th></th>\n",
              "      <th>mean_fit_time</th>\n",
              "      <th>std_fit_time</th>\n",
              "      <th>mean_score_time</th>\n",
              "      <th>std_score_time</th>\n",
              "      <th>param_random_forest__max_depth</th>\n",
              "      <th>param_random_forest__max_features</th>\n",
              "      <th>param_random_forest__min_samples_leaf</th>\n",
              "      <th>params</th>\n",
              "      <th>split0_test_score</th>\n",
              "      <th>split1_test_score</th>\n",
              "      <th>split2_test_score</th>\n",
              "      <th>mean_test_score</th>\n",
              "      <th>std_test_score</th>\n",
              "      <th>rank_test_score</th>\n",
              "    </tr>\n",
              "  </thead>\n",
              "  <tbody>\n",
              "    <tr>\n",
              "      <th>16</th>\n",
              "      <td>1.758725</td>\n",
              "      <td>0.018705</td>\n",
              "      <td>0.069321</td>\n",
              "      <td>0.001331</td>\n",
              "      <td>5</td>\n",
              "      <td>None</td>\n",
              "      <td>5</td>\n",
              "      <td>{'random_forest__max_depth': 5, 'random_forest...</td>\n",
              "      <td>0.827927</td>\n",
              "      <td>0.813899</td>\n",
              "      <td>0.823112</td>\n",
              "      <td>0.821646</td>\n",
              "      <td>0.005820</td>\n",
              "      <td>1</td>\n",
              "    </tr>\n",
              "    <tr>\n",
              "      <th>17</th>\n",
              "      <td>1.790272</td>\n",
              "      <td>0.024892</td>\n",
              "      <td>0.073744</td>\n",
              "      <td>0.002746</td>\n",
              "      <td>5</td>\n",
              "      <td>None</td>\n",
              "      <td>10</td>\n",
              "      <td>{'random_forest__max_depth': 5, 'random_forest...</td>\n",
              "      <td>0.826444</td>\n",
              "      <td>0.813836</td>\n",
              "      <td>0.823718</td>\n",
              "      <td>0.821332</td>\n",
              "      <td>0.005416</td>\n",
              "      <td>2</td>\n",
              "    </tr>\n",
              "    <tr>\n",
              "      <th>15</th>\n",
              "      <td>1.767532</td>\n",
              "      <td>0.039155</td>\n",
              "      <td>0.072510</td>\n",
              "      <td>0.002479</td>\n",
              "      <td>5</td>\n",
              "      <td>None</td>\n",
              "      <td>2</td>\n",
              "      <td>{'random_forest__max_depth': 5, 'random_forest...</td>\n",
              "      <td>0.827050</td>\n",
              "      <td>0.812479</td>\n",
              "      <td>0.823112</td>\n",
              "      <td>0.820880</td>\n",
              "      <td>0.006154</td>\n",
              "      <td>3</td>\n",
              "    </tr>\n",
              "    <tr>\n",
              "      <th>26</th>\n",
              "      <td>5.091020</td>\n",
              "      <td>0.045693</td>\n",
              "      <td>0.079934</td>\n",
              "      <td>0.000048</td>\n",
              "      <td>10</td>\n",
              "      <td>None</td>\n",
              "      <td>10</td>\n",
              "      <td>{'random_forest__max_depth': 10, 'random_fores...</td>\n",
              "      <td>0.821108</td>\n",
              "      <td>0.816765</td>\n",
              "      <td>0.817174</td>\n",
              "      <td>0.818349</td>\n",
              "      <td>0.001958</td>\n",
              "      <td>4</td>\n",
              "    </tr>\n",
              "    <tr>\n",
              "      <th>25</th>\n",
              "      <td>5.545500</td>\n",
              "      <td>0.043576</td>\n",
              "      <td>0.080257</td>\n",
              "      <td>0.001429</td>\n",
              "      <td>10</td>\n",
              "      <td>None</td>\n",
              "      <td>5</td>\n",
              "      <td>{'random_forest__max_depth': 10, 'random_fores...</td>\n",
              "      <td>0.819019</td>\n",
              "      <td>0.816765</td>\n",
              "      <td>0.815690</td>\n",
              "      <td>0.817158</td>\n",
              "      <td>0.001387</td>\n",
              "      <td>5</td>\n",
              "    </tr>\n",
              "  </tbody>\n",
              "</table>\n",
              "</div>\n",
              "      <button class=\"colab-df-convert\" onclick=\"convertToInteractive('df-c2c47510-7e8c-4e54-9f49-b5e929d29b26')\"\n",
              "              title=\"Convert this dataframe to an interactive table.\"\n",
              "              style=\"display:none;\">\n",
              "        \n",
              "  <svg xmlns=\"http://www.w3.org/2000/svg\" height=\"24px\"viewBox=\"0 0 24 24\"\n",
              "       width=\"24px\">\n",
              "    <path d=\"M0 0h24v24H0V0z\" fill=\"none\"/>\n",
              "    <path d=\"M18.56 5.44l.94 2.06.94-2.06 2.06-.94-2.06-.94-.94-2.06-.94 2.06-2.06.94zm-11 1L8.5 8.5l.94-2.06 2.06-.94-2.06-.94L8.5 2.5l-.94 2.06-2.06.94zm10 10l.94 2.06.94-2.06 2.06-.94-2.06-.94-.94-2.06-.94 2.06-2.06.94z\"/><path d=\"M17.41 7.96l-1.37-1.37c-.4-.4-.92-.59-1.43-.59-.52 0-1.04.2-1.43.59L10.3 9.45l-7.72 7.72c-.78.78-.78 2.05 0 2.83L4 21.41c.39.39.9.59 1.41.59.51 0 1.02-.2 1.41-.59l7.78-7.78 2.81-2.81c.8-.78.8-2.07 0-2.86zM5.41 20L4 18.59l7.72-7.72 1.47 1.35L5.41 20z\"/>\n",
              "  </svg>\n",
              "      </button>\n",
              "      \n",
              "  <style>\n",
              "    .colab-df-container {\n",
              "      display:flex;\n",
              "      flex-wrap:wrap;\n",
              "      gap: 12px;\n",
              "    }\n",
              "\n",
              "    .colab-df-convert {\n",
              "      background-color: #E8F0FE;\n",
              "      border: none;\n",
              "      border-radius: 50%;\n",
              "      cursor: pointer;\n",
              "      display: none;\n",
              "      fill: #1967D2;\n",
              "      height: 32px;\n",
              "      padding: 0 0 0 0;\n",
              "      width: 32px;\n",
              "    }\n",
              "\n",
              "    .colab-df-convert:hover {\n",
              "      background-color: #E2EBFA;\n",
              "      box-shadow: 0px 1px 2px rgba(60, 64, 67, 0.3), 0px 1px 3px 1px rgba(60, 64, 67, 0.15);\n",
              "      fill: #174EA6;\n",
              "    }\n",
              "\n",
              "    [theme=dark] .colab-df-convert {\n",
              "      background-color: #3B4455;\n",
              "      fill: #D2E3FC;\n",
              "    }\n",
              "\n",
              "    [theme=dark] .colab-df-convert:hover {\n",
              "      background-color: #434B5C;\n",
              "      box-shadow: 0px 1px 3px 1px rgba(0, 0, 0, 0.15);\n",
              "      filter: drop-shadow(0px 1px 2px rgba(0, 0, 0, 0.3));\n",
              "      fill: #FFFFFF;\n",
              "    }\n",
              "  </style>\n",
              "\n",
              "      <script>\n",
              "        const buttonEl =\n",
              "          document.querySelector('#df-c2c47510-7e8c-4e54-9f49-b5e929d29b26 button.colab-df-convert');\n",
              "        buttonEl.style.display =\n",
              "          google.colab.kernel.accessAllowed ? 'block' : 'none';\n",
              "\n",
              "        async function convertToInteractive(key) {\n",
              "          const element = document.querySelector('#df-c2c47510-7e8c-4e54-9f49-b5e929d29b26');\n",
              "          const dataTable =\n",
              "            await google.colab.kernel.invokeFunction('convertToInteractive',\n",
              "                                                     [key], {});\n",
              "          if (!dataTable) return;\n",
              "\n",
              "          const docLinkHtml = 'Like what you see? Visit the ' +\n",
              "            '<a target=\"_blank\" href=https://colab.research.google.com/notebooks/data_table.ipynb>data table notebook</a>'\n",
              "            + ' to learn more about interactive tables.';\n",
              "          element.innerHTML = '';\n",
              "          dataTable['output_type'] = 'display_data';\n",
              "          await google.colab.output.renderOutput(dataTable, element);\n",
              "          const docLink = document.createElement('div');\n",
              "          docLink.innerHTML = docLinkHtml;\n",
              "          element.appendChild(docLink);\n",
              "        }\n",
              "      </script>\n",
              "    </div>\n",
              "  </div>\n",
              "  "
            ]
          },
          "metadata": {},
          "execution_count": 27
        }
      ],
      "source": [
        "from sklearn.model_selection import GridSearchCV\n",
        "\n",
        "full_pipeline = Pipeline([\n",
        "    (\"preprocessing\", preprocessing),\n",
        "    (\"random_forest\", RandomForestClassifier(n_estimators=100, random_state=42)),\n",
        "])\n",
        "param_grid = [ \n",
        "    {'random_forest__max_depth': [2, 5, 10], \n",
        "    'random_forest__min_samples_leaf': [2, 5, 10], \n",
        "    'random_forest__max_features': [\"sqrt\", \"log2\", None]}, \n",
        "    ]\n",
        "grid_search = GridSearchCV(full_pipeline, param_grid, cv=3, scoring='balanced_accuracy')\n",
        "grid_search.fit(df_X, df_y)\n",
        "\n",
        "grid_search.best_estimator_\n",
        "cv_res = pd.DataFrame(grid_search.cv_results_)\n",
        "cv_res.sort_values(by=\"mean_test_score\", ascending=False, inplace=True)\n",
        "cv_res.head()"
      ]
    },
    {
      "cell_type": "markdown",
      "metadata": {
        "id": "5C80ZiDC8Js7"
      },
      "source": [
        "## Halving Grid Search##"
      ]
    },
    {
      "cell_type": "code",
      "execution_count": null,
      "metadata": {
        "colab": {
          "base_uri": "https://localhost:8080/"
        },
        "id": "ZWTfc8rjWZuv",
        "outputId": "95aeedf3-44ea-4ab3-dadc-13b9b9ae57ad"
      },
      "outputs": [
        {
          "output_type": "stream",
          "name": "stdout",
          "text": [
            "The parameter grid : \n",
            "[{'random_forest__max_depth': [2, 5, 10], 'random_forest__min_samples_leaf': [2, 5, 10], 'random_forest__max_features': ['sqrt', 'log2', None]}]\n",
            "The best parameters are  {'random_forest__max_depth': 5, 'random_forest__max_features': None, 'random_forest__min_samples_leaf': 2}\n"
          ]
        },
        {
          "output_type": "execute_result",
          "data": {
            "text/plain": [
              "    iter  n_resources param_random_forest__max_depth  \\\n",
              "39     3         7992                              5   \n",
              "38     2         2664                              5   \n",
              "36     2         2664                              5   \n",
              "37     2         2664                             10   \n",
              "29     1          888                              5   \n",
              "34     1          888                             10   \n",
              "\n",
              "   param_random_forest__max_features param_random_forest__min_samples_leaf  \\\n",
              "39                              None                                     2   \n",
              "38                              None                                     2   \n",
              "36                              None                                     5   \n",
              "37                              sqrt                                     2   \n",
              "29                              None                                     2   \n",
              "34                              sqrt                                     2   \n",
              "\n",
              "    mean_test_score  \n",
              "39         0.821875  \n",
              "38         0.814220  \n",
              "36         0.811596  \n",
              "37         0.787202  \n",
              "29         0.764028  \n",
              "34         0.761634  "
            ],
            "text/html": [
              "\n",
              "  <div id=\"df-d98f45c8-b866-4238-b2ba-62d90128293b\">\n",
              "    <div class=\"colab-df-container\">\n",
              "      <div>\n",
              "<style scoped>\n",
              "    .dataframe tbody tr th:only-of-type {\n",
              "        vertical-align: middle;\n",
              "    }\n",
              "\n",
              "    .dataframe tbody tr th {\n",
              "        vertical-align: top;\n",
              "    }\n",
              "\n",
              "    .dataframe thead th {\n",
              "        text-align: right;\n",
              "    }\n",
              "</style>\n",
              "<table border=\"1\" class=\"dataframe\">\n",
              "  <thead>\n",
              "    <tr style=\"text-align: right;\">\n",
              "      <th></th>\n",
              "      <th>iter</th>\n",
              "      <th>n_resources</th>\n",
              "      <th>param_random_forest__max_depth</th>\n",
              "      <th>param_random_forest__max_features</th>\n",
              "      <th>param_random_forest__min_samples_leaf</th>\n",
              "      <th>mean_test_score</th>\n",
              "    </tr>\n",
              "  </thead>\n",
              "  <tbody>\n",
              "    <tr>\n",
              "      <th>39</th>\n",
              "      <td>3</td>\n",
              "      <td>7992</td>\n",
              "      <td>5</td>\n",
              "      <td>None</td>\n",
              "      <td>2</td>\n",
              "      <td>0.821875</td>\n",
              "    </tr>\n",
              "    <tr>\n",
              "      <th>38</th>\n",
              "      <td>2</td>\n",
              "      <td>2664</td>\n",
              "      <td>5</td>\n",
              "      <td>None</td>\n",
              "      <td>2</td>\n",
              "      <td>0.814220</td>\n",
              "    </tr>\n",
              "    <tr>\n",
              "      <th>36</th>\n",
              "      <td>2</td>\n",
              "      <td>2664</td>\n",
              "      <td>5</td>\n",
              "      <td>None</td>\n",
              "      <td>5</td>\n",
              "      <td>0.811596</td>\n",
              "    </tr>\n",
              "    <tr>\n",
              "      <th>37</th>\n",
              "      <td>2</td>\n",
              "      <td>2664</td>\n",
              "      <td>10</td>\n",
              "      <td>sqrt</td>\n",
              "      <td>2</td>\n",
              "      <td>0.787202</td>\n",
              "    </tr>\n",
              "    <tr>\n",
              "      <th>29</th>\n",
              "      <td>1</td>\n",
              "      <td>888</td>\n",
              "      <td>5</td>\n",
              "      <td>None</td>\n",
              "      <td>2</td>\n",
              "      <td>0.764028</td>\n",
              "    </tr>\n",
              "    <tr>\n",
              "      <th>34</th>\n",
              "      <td>1</td>\n",
              "      <td>888</td>\n",
              "      <td>10</td>\n",
              "      <td>sqrt</td>\n",
              "      <td>2</td>\n",
              "      <td>0.761634</td>\n",
              "    </tr>\n",
              "  </tbody>\n",
              "</table>\n",
              "</div>\n",
              "      <button class=\"colab-df-convert\" onclick=\"convertToInteractive('df-d98f45c8-b866-4238-b2ba-62d90128293b')\"\n",
              "              title=\"Convert this dataframe to an interactive table.\"\n",
              "              style=\"display:none;\">\n",
              "        \n",
              "  <svg xmlns=\"http://www.w3.org/2000/svg\" height=\"24px\"viewBox=\"0 0 24 24\"\n",
              "       width=\"24px\">\n",
              "    <path d=\"M0 0h24v24H0V0z\" fill=\"none\"/>\n",
              "    <path d=\"M18.56 5.44l.94 2.06.94-2.06 2.06-.94-2.06-.94-.94-2.06-.94 2.06-2.06.94zm-11 1L8.5 8.5l.94-2.06 2.06-.94-2.06-.94L8.5 2.5l-.94 2.06-2.06.94zm10 10l.94 2.06.94-2.06 2.06-.94-2.06-.94-.94-2.06-.94 2.06-2.06.94z\"/><path d=\"M17.41 7.96l-1.37-1.37c-.4-.4-.92-.59-1.43-.59-.52 0-1.04.2-1.43.59L10.3 9.45l-7.72 7.72c-.78.78-.78 2.05 0 2.83L4 21.41c.39.39.9.59 1.41.59.51 0 1.02-.2 1.41-.59l7.78-7.78 2.81-2.81c.8-.78.8-2.07 0-2.86zM5.41 20L4 18.59l7.72-7.72 1.47 1.35L5.41 20z\"/>\n",
              "  </svg>\n",
              "      </button>\n",
              "      \n",
              "  <style>\n",
              "    .colab-df-container {\n",
              "      display:flex;\n",
              "      flex-wrap:wrap;\n",
              "      gap: 12px;\n",
              "    }\n",
              "\n",
              "    .colab-df-convert {\n",
              "      background-color: #E8F0FE;\n",
              "      border: none;\n",
              "      border-radius: 50%;\n",
              "      cursor: pointer;\n",
              "      display: none;\n",
              "      fill: #1967D2;\n",
              "      height: 32px;\n",
              "      padding: 0 0 0 0;\n",
              "      width: 32px;\n",
              "    }\n",
              "\n",
              "    .colab-df-convert:hover {\n",
              "      background-color: #E2EBFA;\n",
              "      box-shadow: 0px 1px 2px rgba(60, 64, 67, 0.3), 0px 1px 3px 1px rgba(60, 64, 67, 0.15);\n",
              "      fill: #174EA6;\n",
              "    }\n",
              "\n",
              "    [theme=dark] .colab-df-convert {\n",
              "      background-color: #3B4455;\n",
              "      fill: #D2E3FC;\n",
              "    }\n",
              "\n",
              "    [theme=dark] .colab-df-convert:hover {\n",
              "      background-color: #434B5C;\n",
              "      box-shadow: 0px 1px 3px 1px rgba(0, 0, 0, 0.15);\n",
              "      filter: drop-shadow(0px 1px 2px rgba(0, 0, 0, 0.3));\n",
              "      fill: #FFFFFF;\n",
              "    }\n",
              "  </style>\n",
              "\n",
              "      <script>\n",
              "        const buttonEl =\n",
              "          document.querySelector('#df-d98f45c8-b866-4238-b2ba-62d90128293b button.colab-df-convert');\n",
              "        buttonEl.style.display =\n",
              "          google.colab.kernel.accessAllowed ? 'block' : 'none';\n",
              "\n",
              "        async function convertToInteractive(key) {\n",
              "          const element = document.querySelector('#df-d98f45c8-b866-4238-b2ba-62d90128293b');\n",
              "          const dataTable =\n",
              "            await google.colab.kernel.invokeFunction('convertToInteractive',\n",
              "                                                     [key], {});\n",
              "          if (!dataTable) return;\n",
              "\n",
              "          const docLinkHtml = 'Like what you see? Visit the ' +\n",
              "            '<a target=\"_blank\" href=https://colab.research.google.com/notebooks/data_table.ipynb>data table notebook</a>'\n",
              "            + ' to learn more about interactive tables.';\n",
              "          element.innerHTML = '';\n",
              "          dataTable['output_type'] = 'display_data';\n",
              "          await google.colab.output.renderOutput(dataTable, element);\n",
              "          const docLink = document.createElement('div');\n",
              "          docLink.innerHTML = docLinkHtml;\n",
              "          element.appendChild(docLink);\n",
              "        }\n",
              "      </script>\n",
              "    </div>\n",
              "  </div>\n",
              "  "
            ]
          },
          "metadata": {},
          "execution_count": 28
        }
      ],
      "source": [
        "from sklearn.experimental import enable_halving_search_cv\n",
        "from sklearn.model_selection import HalvingGridSearchCV\n",
        "\n",
        "param_grid = [ \n",
        "    {'random_forest__max_depth': [2, 5, 10], \n",
        "    'random_forest__min_samples_leaf': [2, 5, 10], \n",
        "    'random_forest__max_features': [\"sqrt\", \"log2\", None]}, \n",
        "    ]\n",
        "\n",
        "print('The parameter grid : ')\n",
        "print(param_grid)\n",
        "\n",
        "\n",
        "halving_grid_search = HalvingGridSearchCV(full_pipeline, param_grid, cv=3, \n",
        "                                    min_resources='exhaust', \n",
        "                                    scoring='balanced_accuracy')\n",
        "halving_grid_search.fit(df_X, df_y)\n",
        "print('The best parameters are ', halving_grid_search.best_params_)\n",
        "\n",
        "halving_grid_cv_res = pd.DataFrame(halving_grid_search.cv_results_)  \n",
        "\n",
        "halving_grid_cv_res.sort_values(by=['iter', 'mean_test_score'], ascending=False, inplace=True)\n",
        "\n",
        "halving_grid_cv_res.filter(regex = '(iter|^param_|mean_test_score|n_resources)', axis=1).head(6)"
      ]
    },
    {
      "cell_type": "markdown",
      "metadata": {
        "id": "txjPY6lODJBu"
      },
      "source": [
        "## Parameter Selection ##"
      ]
    },
    {
      "cell_type": "markdown",
      "metadata": {
        "id": "eukb8Wx_Db67"
      },
      "source": [
        "###Top RFC Grid Search Parameters"
      ]
    },
    {
      "cell_type": "code",
      "execution_count": null,
      "metadata": {
        "colab": {
          "base_uri": "https://localhost:8080/"
        },
        "id": "5tny4vbp3GPs",
        "outputId": "40c2e8ce-30c6-4b5e-c655-0fcc7030391c"
      },
      "outputs": [
        {
          "output_type": "execute_result",
          "data": {
            "text/plain": [
              "RandomForestClassifier(max_depth=5, max_features=None, min_samples_leaf=5,\n",
              "                       random_state=42)"
            ],
            "text/html": [
              "<style>#sk-a789b4d0-5870-4042-92d3-b0780e422c9d {color: black;background-color: white;}#sk-a789b4d0-5870-4042-92d3-b0780e422c9d pre{padding: 0;}#sk-a789b4d0-5870-4042-92d3-b0780e422c9d div.sk-toggleable {background-color: white;}#sk-a789b4d0-5870-4042-92d3-b0780e422c9d label.sk-toggleable__label {cursor: pointer;display: block;width: 100%;margin-bottom: 0;padding: 0.3em;box-sizing: border-box;text-align: center;}#sk-a789b4d0-5870-4042-92d3-b0780e422c9d label.sk-toggleable__label-arrow:before {content: \"▸\";float: left;margin-right: 0.25em;color: #696969;}#sk-a789b4d0-5870-4042-92d3-b0780e422c9d label.sk-toggleable__label-arrow:hover:before {color: black;}#sk-a789b4d0-5870-4042-92d3-b0780e422c9d div.sk-estimator:hover label.sk-toggleable__label-arrow:before {color: black;}#sk-a789b4d0-5870-4042-92d3-b0780e422c9d div.sk-toggleable__content {max-height: 0;max-width: 0;overflow: hidden;text-align: left;background-color: #f0f8ff;}#sk-a789b4d0-5870-4042-92d3-b0780e422c9d div.sk-toggleable__content pre {margin: 0.2em;color: black;border-radius: 0.25em;background-color: #f0f8ff;}#sk-a789b4d0-5870-4042-92d3-b0780e422c9d input.sk-toggleable__control:checked~div.sk-toggleable__content {max-height: 200px;max-width: 100%;overflow: auto;}#sk-a789b4d0-5870-4042-92d3-b0780e422c9d input.sk-toggleable__control:checked~label.sk-toggleable__label-arrow:before {content: \"▾\";}#sk-a789b4d0-5870-4042-92d3-b0780e422c9d div.sk-estimator input.sk-toggleable__control:checked~label.sk-toggleable__label {background-color: #d4ebff;}#sk-a789b4d0-5870-4042-92d3-b0780e422c9d div.sk-label input.sk-toggleable__control:checked~label.sk-toggleable__label {background-color: #d4ebff;}#sk-a789b4d0-5870-4042-92d3-b0780e422c9d input.sk-hidden--visually {border: 0;clip: rect(1px 1px 1px 1px);clip: rect(1px, 1px, 1px, 1px);height: 1px;margin: -1px;overflow: hidden;padding: 0;position: absolute;width: 1px;}#sk-a789b4d0-5870-4042-92d3-b0780e422c9d div.sk-estimator {font-family: monospace;background-color: #f0f8ff;border: 1px dotted black;border-radius: 0.25em;box-sizing: border-box;margin-bottom: 0.5em;}#sk-a789b4d0-5870-4042-92d3-b0780e422c9d div.sk-estimator:hover {background-color: #d4ebff;}#sk-a789b4d0-5870-4042-92d3-b0780e422c9d div.sk-parallel-item::after {content: \"\";width: 100%;border-bottom: 1px solid gray;flex-grow: 1;}#sk-a789b4d0-5870-4042-92d3-b0780e422c9d div.sk-label:hover label.sk-toggleable__label {background-color: #d4ebff;}#sk-a789b4d0-5870-4042-92d3-b0780e422c9d div.sk-serial::before {content: \"\";position: absolute;border-left: 1px solid gray;box-sizing: border-box;top: 2em;bottom: 0;left: 50%;}#sk-a789b4d0-5870-4042-92d3-b0780e422c9d div.sk-serial {display: flex;flex-direction: column;align-items: center;background-color: white;padding-right: 0.2em;padding-left: 0.2em;}#sk-a789b4d0-5870-4042-92d3-b0780e422c9d div.sk-item {z-index: 1;}#sk-a789b4d0-5870-4042-92d3-b0780e422c9d div.sk-parallel {display: flex;align-items: stretch;justify-content: center;background-color: white;}#sk-a789b4d0-5870-4042-92d3-b0780e422c9d div.sk-parallel::before {content: \"\";position: absolute;border-left: 1px solid gray;box-sizing: border-box;top: 2em;bottom: 0;left: 50%;}#sk-a789b4d0-5870-4042-92d3-b0780e422c9d div.sk-parallel-item {display: flex;flex-direction: column;position: relative;background-color: white;}#sk-a789b4d0-5870-4042-92d3-b0780e422c9d div.sk-parallel-item:first-child::after {align-self: flex-end;width: 50%;}#sk-a789b4d0-5870-4042-92d3-b0780e422c9d div.sk-parallel-item:last-child::after {align-self: flex-start;width: 50%;}#sk-a789b4d0-5870-4042-92d3-b0780e422c9d div.sk-parallel-item:only-child::after {width: 0;}#sk-a789b4d0-5870-4042-92d3-b0780e422c9d div.sk-dashed-wrapped {border: 1px dashed gray;margin: 0 0.4em 0.5em 0.4em;box-sizing: border-box;padding-bottom: 0.4em;background-color: white;position: relative;}#sk-a789b4d0-5870-4042-92d3-b0780e422c9d div.sk-label label {font-family: monospace;font-weight: bold;background-color: white;display: inline-block;line-height: 1.2em;}#sk-a789b4d0-5870-4042-92d3-b0780e422c9d div.sk-label-container {position: relative;z-index: 2;text-align: center;}#sk-a789b4d0-5870-4042-92d3-b0780e422c9d div.sk-container {/* jupyter's `normalize.less` sets `[hidden] { display: none; }` but bootstrap.min.css set `[hidden] { display: none !important; }` so we also need the `!important` here to be able to override the default hidden behavior on the sphinx rendered scikit-learn.org. See: https://github.com/scikit-learn/scikit-learn/issues/21755 */display: inline-block !important;position: relative;}#sk-a789b4d0-5870-4042-92d3-b0780e422c9d div.sk-text-repr-fallback {display: none;}</style><div id=\"sk-a789b4d0-5870-4042-92d3-b0780e422c9d\" class=\"sk-top-container\"><div class=\"sk-text-repr-fallback\"><pre>RandomForestClassifier(max_depth=5, max_features=None, min_samples_leaf=5,\n",
              "                       random_state=42)</pre><b>Please rerun this cell to show the HTML repr or trust the notebook.</b></div><div class=\"sk-container\" hidden><div class=\"sk-item\"><div class=\"sk-estimator sk-toggleable\"><input class=\"sk-toggleable__control sk-hidden--visually\" id=\"da9e8c4a-8806-4b79-876c-87141c6e4da5\" type=\"checkbox\" checked><label for=\"da9e8c4a-8806-4b79-876c-87141c6e4da5\" class=\"sk-toggleable__label sk-toggleable__label-arrow\">RandomForestClassifier</label><div class=\"sk-toggleable__content\"><pre>RandomForestClassifier(max_depth=5, max_features=None, min_samples_leaf=5,\n",
              "                       random_state=42)</pre></div></div></div></div></div>"
            ]
          },
          "metadata": {},
          "execution_count": 29
        }
      ],
      "source": [
        "forest_clf_g = RandomForestClassifier(max_depth= 5, min_samples_leaf = 5,max_features = None, n_estimators=100, random_state=42)\n",
        "forest_clf_g.fit(X_train, y_train)"
      ]
    },
    {
      "cell_type": "code",
      "execution_count": null,
      "metadata": {
        "colab": {
          "base_uri": "https://localhost:8080/"
        },
        "id": "tNS1j7e64qWZ",
        "outputId": "22a43070-eca4-4d80-b879-a69248949ff0"
      },
      "outputs": [
        {
          "output_type": "stream",
          "name": "stdout",
          "text": [
            "Accuracy score is:  0.8405\n",
            "balanced accuracy score is:  0.813\n"
          ]
        }
      ],
      "source": [
        "from sklearn.metrics import accuracy_score, balanced_accuracy_score\n",
        "y_pred = forest_clf_g.predict(X_test)\n",
        "\n",
        "acc = acc.append({'Model' : 'RandomForest_Grid_Search', \n",
        "                  'Accuracy_Score' : accuracy_score(test_set[\"OUTCOME\"], y_pred), \n",
        "                  'Balanced_Accuracy_Score':balanced_accuracy_score(test_set[\"OUTCOME\"], y_pred).round(4)},\n",
        "                  ignore_index = True)\n",
        "\n",
        "print('Accuracy score is: ',accuracy_score(test_set[\"OUTCOME\"], y_pred))\n",
        "print('balanced accuracy score is: ',balanced_accuracy_score(test_set[\"OUTCOME\"], y_pred).round(4))\n"
      ]
    },
    {
      "cell_type": "code",
      "execution_count": null,
      "metadata": {
        "colab": {
          "base_uri": "https://localhost:8080/"
        },
        "id": "h8AEJWGL41Xa",
        "outputId": "e99700d3-073d-43b2-972a-3bdc1733e95c"
      },
      "outputs": [
        {
          "output_type": "execute_result",
          "data": {
            "text/plain": [
              "0.822"
            ]
          },
          "metadata": {},
          "execution_count": 31
        }
      ],
      "source": [
        "#cross validation score\n",
        "from sklearn.model_selection import cross_val_score\n",
        "forest_scores = cross_val_score(forest_clf_g, X_train, y_train, cv=10, scoring='balanced_accuracy')\n",
        "\n",
        "cv_mean = cv_mean.append({'Model' : 'RandomForest_Grid_Search', 'Score' : forest_scores.mean().round(3)},ignore_index = True)\n",
        "\n",
        "forest_scores.mean().round(3)"
      ]
    },
    {
      "cell_type": "markdown",
      "metadata": {
        "id": "wHX913vkDl-P"
      },
      "source": [
        "### Top RFC Halving Grid Search Parameters"
      ]
    },
    {
      "cell_type": "code",
      "execution_count": null,
      "metadata": {
        "colab": {
          "base_uri": "https://localhost:8080/"
        },
        "id": "WUru2Vr95mBI",
        "outputId": "d22fdbd3-ea2e-47d6-d918-a43739c752d5"
      },
      "outputs": [
        {
          "output_type": "execute_result",
          "data": {
            "text/plain": [
              "RandomForestClassifier(max_depth=10, max_features=None, min_samples_leaf=5,\n",
              "                       random_state=42)"
            ],
            "text/html": [
              "<style>#sk-20530ec3-cc87-4d87-9046-c739376d3cfc {color: black;background-color: white;}#sk-20530ec3-cc87-4d87-9046-c739376d3cfc pre{padding: 0;}#sk-20530ec3-cc87-4d87-9046-c739376d3cfc div.sk-toggleable {background-color: white;}#sk-20530ec3-cc87-4d87-9046-c739376d3cfc label.sk-toggleable__label {cursor: pointer;display: block;width: 100%;margin-bottom: 0;padding: 0.3em;box-sizing: border-box;text-align: center;}#sk-20530ec3-cc87-4d87-9046-c739376d3cfc label.sk-toggleable__label-arrow:before {content: \"▸\";float: left;margin-right: 0.25em;color: #696969;}#sk-20530ec3-cc87-4d87-9046-c739376d3cfc label.sk-toggleable__label-arrow:hover:before {color: black;}#sk-20530ec3-cc87-4d87-9046-c739376d3cfc div.sk-estimator:hover label.sk-toggleable__label-arrow:before {color: black;}#sk-20530ec3-cc87-4d87-9046-c739376d3cfc div.sk-toggleable__content {max-height: 0;max-width: 0;overflow: hidden;text-align: left;background-color: #f0f8ff;}#sk-20530ec3-cc87-4d87-9046-c739376d3cfc div.sk-toggleable__content pre {margin: 0.2em;color: black;border-radius: 0.25em;background-color: #f0f8ff;}#sk-20530ec3-cc87-4d87-9046-c739376d3cfc input.sk-toggleable__control:checked~div.sk-toggleable__content {max-height: 200px;max-width: 100%;overflow: auto;}#sk-20530ec3-cc87-4d87-9046-c739376d3cfc input.sk-toggleable__control:checked~label.sk-toggleable__label-arrow:before {content: \"▾\";}#sk-20530ec3-cc87-4d87-9046-c739376d3cfc div.sk-estimator input.sk-toggleable__control:checked~label.sk-toggleable__label {background-color: #d4ebff;}#sk-20530ec3-cc87-4d87-9046-c739376d3cfc div.sk-label input.sk-toggleable__control:checked~label.sk-toggleable__label {background-color: #d4ebff;}#sk-20530ec3-cc87-4d87-9046-c739376d3cfc input.sk-hidden--visually {border: 0;clip: rect(1px 1px 1px 1px);clip: rect(1px, 1px, 1px, 1px);height: 1px;margin: -1px;overflow: hidden;padding: 0;position: absolute;width: 1px;}#sk-20530ec3-cc87-4d87-9046-c739376d3cfc div.sk-estimator {font-family: monospace;background-color: #f0f8ff;border: 1px dotted black;border-radius: 0.25em;box-sizing: border-box;margin-bottom: 0.5em;}#sk-20530ec3-cc87-4d87-9046-c739376d3cfc div.sk-estimator:hover {background-color: #d4ebff;}#sk-20530ec3-cc87-4d87-9046-c739376d3cfc div.sk-parallel-item::after {content: \"\";width: 100%;border-bottom: 1px solid gray;flex-grow: 1;}#sk-20530ec3-cc87-4d87-9046-c739376d3cfc div.sk-label:hover label.sk-toggleable__label {background-color: #d4ebff;}#sk-20530ec3-cc87-4d87-9046-c739376d3cfc div.sk-serial::before {content: \"\";position: absolute;border-left: 1px solid gray;box-sizing: border-box;top: 2em;bottom: 0;left: 50%;}#sk-20530ec3-cc87-4d87-9046-c739376d3cfc div.sk-serial {display: flex;flex-direction: column;align-items: center;background-color: white;padding-right: 0.2em;padding-left: 0.2em;}#sk-20530ec3-cc87-4d87-9046-c739376d3cfc div.sk-item {z-index: 1;}#sk-20530ec3-cc87-4d87-9046-c739376d3cfc div.sk-parallel {display: flex;align-items: stretch;justify-content: center;background-color: white;}#sk-20530ec3-cc87-4d87-9046-c739376d3cfc div.sk-parallel::before {content: \"\";position: absolute;border-left: 1px solid gray;box-sizing: border-box;top: 2em;bottom: 0;left: 50%;}#sk-20530ec3-cc87-4d87-9046-c739376d3cfc div.sk-parallel-item {display: flex;flex-direction: column;position: relative;background-color: white;}#sk-20530ec3-cc87-4d87-9046-c739376d3cfc div.sk-parallel-item:first-child::after {align-self: flex-end;width: 50%;}#sk-20530ec3-cc87-4d87-9046-c739376d3cfc div.sk-parallel-item:last-child::after {align-self: flex-start;width: 50%;}#sk-20530ec3-cc87-4d87-9046-c739376d3cfc div.sk-parallel-item:only-child::after {width: 0;}#sk-20530ec3-cc87-4d87-9046-c739376d3cfc div.sk-dashed-wrapped {border: 1px dashed gray;margin: 0 0.4em 0.5em 0.4em;box-sizing: border-box;padding-bottom: 0.4em;background-color: white;position: relative;}#sk-20530ec3-cc87-4d87-9046-c739376d3cfc div.sk-label label {font-family: monospace;font-weight: bold;background-color: white;display: inline-block;line-height: 1.2em;}#sk-20530ec3-cc87-4d87-9046-c739376d3cfc div.sk-label-container {position: relative;z-index: 2;text-align: center;}#sk-20530ec3-cc87-4d87-9046-c739376d3cfc div.sk-container {/* jupyter's `normalize.less` sets `[hidden] { display: none; }` but bootstrap.min.css set `[hidden] { display: none !important; }` so we also need the `!important` here to be able to override the default hidden behavior on the sphinx rendered scikit-learn.org. See: https://github.com/scikit-learn/scikit-learn/issues/21755 */display: inline-block !important;position: relative;}#sk-20530ec3-cc87-4d87-9046-c739376d3cfc div.sk-text-repr-fallback {display: none;}</style><div id=\"sk-20530ec3-cc87-4d87-9046-c739376d3cfc\" class=\"sk-top-container\"><div class=\"sk-text-repr-fallback\"><pre>RandomForestClassifier(max_depth=10, max_features=None, min_samples_leaf=5,\n",
              "                       random_state=42)</pre><b>Please rerun this cell to show the HTML repr or trust the notebook.</b></div><div class=\"sk-container\" hidden><div class=\"sk-item\"><div class=\"sk-estimator sk-toggleable\"><input class=\"sk-toggleable__control sk-hidden--visually\" id=\"43b09b11-fc84-41e1-b374-9d9932e69f63\" type=\"checkbox\" checked><label for=\"43b09b11-fc84-41e1-b374-9d9932e69f63\" class=\"sk-toggleable__label sk-toggleable__label-arrow\">RandomForestClassifier</label><div class=\"sk-toggleable__content\"><pre>RandomForestClassifier(max_depth=10, max_features=None, min_samples_leaf=5,\n",
              "                       random_state=42)</pre></div></div></div></div></div>"
            ]
          },
          "metadata": {},
          "execution_count": 32
        }
      ],
      "source": [
        "forest_clf_h = RandomForestClassifier(max_depth= 10, min_samples_leaf = 5,max_features = None, n_estimators=100, random_state=42)\n",
        "forest_clf_h.fit(X_train, y_train)"
      ]
    },
    {
      "cell_type": "code",
      "execution_count": null,
      "metadata": {
        "colab": {
          "base_uri": "https://localhost:8080/"
        },
        "id": "sDGi7Z7r5mBJ",
        "outputId": "93376207-da96-407d-b038-4d874390fa6a"
      },
      "outputs": [
        {
          "output_type": "stream",
          "name": "stdout",
          "text": [
            "Accuracy score is:  0.838\n",
            "balanced accuracy score is:  0.8096\n"
          ]
        }
      ],
      "source": [
        "from sklearn.metrics import accuracy_score, balanced_accuracy_score\n",
        "y_pred = forest_clf_h.predict(X_test)\n",
        "\n",
        "acc = acc.append({'Model' : 'RandomForest_Halving_Search', \n",
        "                  'Accuracy_Score' : accuracy_score(test_set[\"OUTCOME\"], y_pred), \n",
        "                  'Balanced_Accuracy_Score':balanced_accuracy_score(test_set[\"OUTCOME\"], y_pred).round(4)},\n",
        "                  ignore_index = True)\n",
        "\n",
        "print('Accuracy score is: ',accuracy_score(test_set[\"OUTCOME\"], y_pred))\n",
        "print('balanced accuracy score is: ',balanced_accuracy_score(test_set[\"OUTCOME\"], y_pred).round(4))"
      ]
    },
    {
      "cell_type": "code",
      "execution_count": null,
      "metadata": {
        "colab": {
          "base_uri": "https://localhost:8080/"
        },
        "id": "cS5vImey5mBJ",
        "outputId": "ed26e1f1-f143-42d9-bdd1-cc02163b5c0f"
      },
      "outputs": [
        {
          "output_type": "execute_result",
          "data": {
            "text/plain": [
              "0.82"
            ]
          },
          "metadata": {},
          "execution_count": 34
        }
      ],
      "source": [
        "#cross validation score\n",
        "from sklearn.model_selection import cross_val_score\n",
        "forest_scores = cross_val_score(forest_clf_h, X_train, y_train, cv=10, scoring='balanced_accuracy')\n",
        "\n",
        "cv_mean = cv_mean.append({'Model' : 'RandomForest_Halving_Search', 'Score' : forest_scores.mean().round(3)},ignore_index = True)\n",
        "\n",
        "forest_scores.mean().round(3)"
      ]
    },
    {
      "cell_type": "code",
      "execution_count": null,
      "metadata": {
        "colab": {
          "base_uri": "https://localhost:8080/"
        },
        "id": "GKXFuzlrQaAe",
        "outputId": "393be720-e899-43f7-8ba9-db0c8670f0cd"
      },
      "outputs": [
        {
          "output_type": "execute_result",
          "data": {
            "text/plain": [
              "                         Model  Score\n",
              "0         RandomForest_Default  0.797\n",
              "1     RandomForest_Grid_Search  0.822\n",
              "2  RandomForest_Halving_Search  0.820"
            ],
            "text/html": [
              "\n",
              "  <div id=\"df-386f667d-b77e-4b94-b8e4-6ff47eb9a88d\">\n",
              "    <div class=\"colab-df-container\">\n",
              "      <div>\n",
              "<style scoped>\n",
              "    .dataframe tbody tr th:only-of-type {\n",
              "        vertical-align: middle;\n",
              "    }\n",
              "\n",
              "    .dataframe tbody tr th {\n",
              "        vertical-align: top;\n",
              "    }\n",
              "\n",
              "    .dataframe thead th {\n",
              "        text-align: right;\n",
              "    }\n",
              "</style>\n",
              "<table border=\"1\" class=\"dataframe\">\n",
              "  <thead>\n",
              "    <tr style=\"text-align: right;\">\n",
              "      <th></th>\n",
              "      <th>Model</th>\n",
              "      <th>Score</th>\n",
              "    </tr>\n",
              "  </thead>\n",
              "  <tbody>\n",
              "    <tr>\n",
              "      <th>0</th>\n",
              "      <td>RandomForest_Default</td>\n",
              "      <td>0.797</td>\n",
              "    </tr>\n",
              "    <tr>\n",
              "      <th>1</th>\n",
              "      <td>RandomForest_Grid_Search</td>\n",
              "      <td>0.822</td>\n",
              "    </tr>\n",
              "    <tr>\n",
              "      <th>2</th>\n",
              "      <td>RandomForest_Halving_Search</td>\n",
              "      <td>0.820</td>\n",
              "    </tr>\n",
              "  </tbody>\n",
              "</table>\n",
              "</div>\n",
              "      <button class=\"colab-df-convert\" onclick=\"convertToInteractive('df-386f667d-b77e-4b94-b8e4-6ff47eb9a88d')\"\n",
              "              title=\"Convert this dataframe to an interactive table.\"\n",
              "              style=\"display:none;\">\n",
              "        \n",
              "  <svg xmlns=\"http://www.w3.org/2000/svg\" height=\"24px\"viewBox=\"0 0 24 24\"\n",
              "       width=\"24px\">\n",
              "    <path d=\"M0 0h24v24H0V0z\" fill=\"none\"/>\n",
              "    <path d=\"M18.56 5.44l.94 2.06.94-2.06 2.06-.94-2.06-.94-.94-2.06-.94 2.06-2.06.94zm-11 1L8.5 8.5l.94-2.06 2.06-.94-2.06-.94L8.5 2.5l-.94 2.06-2.06.94zm10 10l.94 2.06.94-2.06 2.06-.94-2.06-.94-.94-2.06-.94 2.06-2.06.94z\"/><path d=\"M17.41 7.96l-1.37-1.37c-.4-.4-.92-.59-1.43-.59-.52 0-1.04.2-1.43.59L10.3 9.45l-7.72 7.72c-.78.78-.78 2.05 0 2.83L4 21.41c.39.39.9.59 1.41.59.51 0 1.02-.2 1.41-.59l7.78-7.78 2.81-2.81c.8-.78.8-2.07 0-2.86zM5.41 20L4 18.59l7.72-7.72 1.47 1.35L5.41 20z\"/>\n",
              "  </svg>\n",
              "      </button>\n",
              "      \n",
              "  <style>\n",
              "    .colab-df-container {\n",
              "      display:flex;\n",
              "      flex-wrap:wrap;\n",
              "      gap: 12px;\n",
              "    }\n",
              "\n",
              "    .colab-df-convert {\n",
              "      background-color: #E8F0FE;\n",
              "      border: none;\n",
              "      border-radius: 50%;\n",
              "      cursor: pointer;\n",
              "      display: none;\n",
              "      fill: #1967D2;\n",
              "      height: 32px;\n",
              "      padding: 0 0 0 0;\n",
              "      width: 32px;\n",
              "    }\n",
              "\n",
              "    .colab-df-convert:hover {\n",
              "      background-color: #E2EBFA;\n",
              "      box-shadow: 0px 1px 2px rgba(60, 64, 67, 0.3), 0px 1px 3px 1px rgba(60, 64, 67, 0.15);\n",
              "      fill: #174EA6;\n",
              "    }\n",
              "\n",
              "    [theme=dark] .colab-df-convert {\n",
              "      background-color: #3B4455;\n",
              "      fill: #D2E3FC;\n",
              "    }\n",
              "\n",
              "    [theme=dark] .colab-df-convert:hover {\n",
              "      background-color: #434B5C;\n",
              "      box-shadow: 0px 1px 3px 1px rgba(0, 0, 0, 0.15);\n",
              "      filter: drop-shadow(0px 1px 2px rgba(0, 0, 0, 0.3));\n",
              "      fill: #FFFFFF;\n",
              "    }\n",
              "  </style>\n",
              "\n",
              "      <script>\n",
              "        const buttonEl =\n",
              "          document.querySelector('#df-386f667d-b77e-4b94-b8e4-6ff47eb9a88d button.colab-df-convert');\n",
              "        buttonEl.style.display =\n",
              "          google.colab.kernel.accessAllowed ? 'block' : 'none';\n",
              "\n",
              "        async function convertToInteractive(key) {\n",
              "          const element = document.querySelector('#df-386f667d-b77e-4b94-b8e4-6ff47eb9a88d');\n",
              "          const dataTable =\n",
              "            await google.colab.kernel.invokeFunction('convertToInteractive',\n",
              "                                                     [key], {});\n",
              "          if (!dataTable) return;\n",
              "\n",
              "          const docLinkHtml = 'Like what you see? Visit the ' +\n",
              "            '<a target=\"_blank\" href=https://colab.research.google.com/notebooks/data_table.ipynb>data table notebook</a>'\n",
              "            + ' to learn more about interactive tables.';\n",
              "          element.innerHTML = '';\n",
              "          dataTable['output_type'] = 'display_data';\n",
              "          await google.colab.output.renderOutput(dataTable, element);\n",
              "          const docLink = document.createElement('div');\n",
              "          docLink.innerHTML = docLinkHtml;\n",
              "          element.appendChild(docLink);\n",
              "        }\n",
              "      </script>\n",
              "    </div>\n",
              "  </div>\n",
              "  "
            ]
          },
          "metadata": {},
          "execution_count": 35
        }
      ],
      "source": [
        "cv_mean"
      ]
    },
    {
      "cell_type": "code",
      "execution_count": null,
      "metadata": {
        "colab": {
          "base_uri": "https://localhost:8080/"
        },
        "id": "1PmP7L65Qcr9",
        "outputId": "50f394fe-6a9d-4877-fa7b-dbf84100dcbd"
      },
      "outputs": [
        {
          "output_type": "execute_result",
          "data": {
            "text/plain": [
              "                         Model  Accuracy_Score  Balanced_Accuracy_Score\n",
              "0     RandomForest_Grid_Search          0.8405                   0.8130\n",
              "1  RandomForest_Halving_Search          0.8380                   0.8096"
            ],
            "text/html": [
              "\n",
              "  <div id=\"df-c995fb4d-956a-484e-bfd8-274340f2d4f0\">\n",
              "    <div class=\"colab-df-container\">\n",
              "      <div>\n",
              "<style scoped>\n",
              "    .dataframe tbody tr th:only-of-type {\n",
              "        vertical-align: middle;\n",
              "    }\n",
              "\n",
              "    .dataframe tbody tr th {\n",
              "        vertical-align: top;\n",
              "    }\n",
              "\n",
              "    .dataframe thead th {\n",
              "        text-align: right;\n",
              "    }\n",
              "</style>\n",
              "<table border=\"1\" class=\"dataframe\">\n",
              "  <thead>\n",
              "    <tr style=\"text-align: right;\">\n",
              "      <th></th>\n",
              "      <th>Model</th>\n",
              "      <th>Accuracy_Score</th>\n",
              "      <th>Balanced_Accuracy_Score</th>\n",
              "    </tr>\n",
              "  </thead>\n",
              "  <tbody>\n",
              "    <tr>\n",
              "      <th>0</th>\n",
              "      <td>RandomForest_Grid_Search</td>\n",
              "      <td>0.8405</td>\n",
              "      <td>0.8130</td>\n",
              "    </tr>\n",
              "    <tr>\n",
              "      <th>1</th>\n",
              "      <td>RandomForest_Halving_Search</td>\n",
              "      <td>0.8380</td>\n",
              "      <td>0.8096</td>\n",
              "    </tr>\n",
              "  </tbody>\n",
              "</table>\n",
              "</div>\n",
              "      <button class=\"colab-df-convert\" onclick=\"convertToInteractive('df-c995fb4d-956a-484e-bfd8-274340f2d4f0')\"\n",
              "              title=\"Convert this dataframe to an interactive table.\"\n",
              "              style=\"display:none;\">\n",
              "        \n",
              "  <svg xmlns=\"http://www.w3.org/2000/svg\" height=\"24px\"viewBox=\"0 0 24 24\"\n",
              "       width=\"24px\">\n",
              "    <path d=\"M0 0h24v24H0V0z\" fill=\"none\"/>\n",
              "    <path d=\"M18.56 5.44l.94 2.06.94-2.06 2.06-.94-2.06-.94-.94-2.06-.94 2.06-2.06.94zm-11 1L8.5 8.5l.94-2.06 2.06-.94-2.06-.94L8.5 2.5l-.94 2.06-2.06.94zm10 10l.94 2.06.94-2.06 2.06-.94-2.06-.94-.94-2.06-.94 2.06-2.06.94z\"/><path d=\"M17.41 7.96l-1.37-1.37c-.4-.4-.92-.59-1.43-.59-.52 0-1.04.2-1.43.59L10.3 9.45l-7.72 7.72c-.78.78-.78 2.05 0 2.83L4 21.41c.39.39.9.59 1.41.59.51 0 1.02-.2 1.41-.59l7.78-7.78 2.81-2.81c.8-.78.8-2.07 0-2.86zM5.41 20L4 18.59l7.72-7.72 1.47 1.35L5.41 20z\"/>\n",
              "  </svg>\n",
              "      </button>\n",
              "      \n",
              "  <style>\n",
              "    .colab-df-container {\n",
              "      display:flex;\n",
              "      flex-wrap:wrap;\n",
              "      gap: 12px;\n",
              "    }\n",
              "\n",
              "    .colab-df-convert {\n",
              "      background-color: #E8F0FE;\n",
              "      border: none;\n",
              "      border-radius: 50%;\n",
              "      cursor: pointer;\n",
              "      display: none;\n",
              "      fill: #1967D2;\n",
              "      height: 32px;\n",
              "      padding: 0 0 0 0;\n",
              "      width: 32px;\n",
              "    }\n",
              "\n",
              "    .colab-df-convert:hover {\n",
              "      background-color: #E2EBFA;\n",
              "      box-shadow: 0px 1px 2px rgba(60, 64, 67, 0.3), 0px 1px 3px 1px rgba(60, 64, 67, 0.15);\n",
              "      fill: #174EA6;\n",
              "    }\n",
              "\n",
              "    [theme=dark] .colab-df-convert {\n",
              "      background-color: #3B4455;\n",
              "      fill: #D2E3FC;\n",
              "    }\n",
              "\n",
              "    [theme=dark] .colab-df-convert:hover {\n",
              "      background-color: #434B5C;\n",
              "      box-shadow: 0px 1px 3px 1px rgba(0, 0, 0, 0.15);\n",
              "      filter: drop-shadow(0px 1px 2px rgba(0, 0, 0, 0.3));\n",
              "      fill: #FFFFFF;\n",
              "    }\n",
              "  </style>\n",
              "\n",
              "      <script>\n",
              "        const buttonEl =\n",
              "          document.querySelector('#df-c995fb4d-956a-484e-bfd8-274340f2d4f0 button.colab-df-convert');\n",
              "        buttonEl.style.display =\n",
              "          google.colab.kernel.accessAllowed ? 'block' : 'none';\n",
              "\n",
              "        async function convertToInteractive(key) {\n",
              "          const element = document.querySelector('#df-c995fb4d-956a-484e-bfd8-274340f2d4f0');\n",
              "          const dataTable =\n",
              "            await google.colab.kernel.invokeFunction('convertToInteractive',\n",
              "                                                     [key], {});\n",
              "          if (!dataTable) return;\n",
              "\n",
              "          const docLinkHtml = 'Like what you see? Visit the ' +\n",
              "            '<a target=\"_blank\" href=https://colab.research.google.com/notebooks/data_table.ipynb>data table notebook</a>'\n",
              "            + ' to learn more about interactive tables.';\n",
              "          element.innerHTML = '';\n",
              "          dataTable['output_type'] = 'display_data';\n",
              "          await google.colab.output.renderOutput(dataTable, element);\n",
              "          const docLink = document.createElement('div');\n",
              "          docLink.innerHTML = docLinkHtml;\n",
              "          element.appendChild(docLink);\n",
              "        }\n",
              "      </script>\n",
              "    </div>\n",
              "  </div>\n",
              "  "
            ]
          },
          "metadata": {},
          "execution_count": 36
        }
      ],
      "source": [
        "acc"
      ]
    },
    {
      "cell_type": "markdown",
      "metadata": {
        "id": "qwJT3OW2MNr2"
      },
      "source": [
        "#**Logistic Regression**"
      ]
    },
    {
      "cell_type": "code",
      "execution_count": null,
      "metadata": {
        "colab": {
          "base_uri": "https://localhost:8080/"
        },
        "id": "5cD0yD1YWClC",
        "outputId": "78db9938-d29f-4ae7-b721-aa5e4f720049"
      },
      "outputs": [
        {
          "output_type": "execute_result",
          "data": {
            "text/plain": [
              "0.821"
            ]
          },
          "metadata": {},
          "execution_count": 37
        }
      ],
      "source": [
        "from sklearn.linear_model import LogisticRegression\n",
        "from sklearn.model_selection import cross_val_score\n",
        "from sklearn.pipeline import make_pipeline\n",
        "lr_pipe = make_pipeline(preprocessing, LogisticRegression())\n",
        "lr_scores = cross_val_score(lr_pipe, df_X, df_y, cv=10, scoring='balanced_accuracy')\n",
        "\n",
        "cv_mean = cv_mean.append({'Model' : 'LogisticReg_Default', 'Score' : lr_scores.mean().round(3)},ignore_index = True)\n",
        "\n",
        "lr_scores.mean().round(3)"
      ]
    },
    {
      "cell_type": "markdown",
      "metadata": {
        "id": "9Rrc7Pqi9417"
      },
      "source": [
        "## Grid Search ##"
      ]
    },
    {
      "cell_type": "code",
      "execution_count": null,
      "metadata": {
        "colab": {
          "base_uri": "https://localhost:8080/"
        },
        "id": "VxPBPD1BsycP",
        "outputId": "22ad8cb1-e162-4d24-b844-37771b98f82b"
      },
      "outputs": [
        {
          "output_type": "stream",
          "name": "stdout",
          "text": [
            "The best parameters are  {'logistic__C': 10000.0, 'pca__n_components': 60}\n"
          ]
        },
        {
          "output_type": "execute_result",
          "data": {
            "text/plain": [
              "    mean_fit_time  std_fit_time  mean_score_time  std_score_time  \\\n",
              "19       0.296566      0.053737         0.008015        0.001356   \n",
              "14       0.350601      0.031207         0.008995        0.001049   \n",
              "9        0.280974      0.013828         0.008890        0.000759   \n",
              "13       0.226130      0.010122         0.008329        0.000125   \n",
              "18       0.233317      0.014335         0.008830        0.000903   \n",
              "\n",
              "   param_logistic__C param_pca__n_components  \\\n",
              "19           10000.0                      60   \n",
              "14         21.544347                      60   \n",
              "9           0.046416                      60   \n",
              "13         21.544347                      45   \n",
              "18           10000.0                      45   \n",
              "\n",
              "                                               params  split0_test_score  \\\n",
              "19  {'logistic__C': 10000.0, 'pca__n_components': 60}           0.839375   \n",
              "14  {'logistic__C': 21.54434690031882, 'pca__n_com...           0.836250   \n",
              "9   {'logistic__C': 0.046415888336127774, 'pca__n_...           0.835000   \n",
              "13  {'logistic__C': 21.54434690031882, 'pca__n_com...           0.831875   \n",
              "18  {'logistic__C': 10000.0, 'pca__n_components': 45}           0.824375   \n",
              "\n",
              "    split1_test_score  split2_test_score  split3_test_score  \\\n",
              "19           0.847500           0.836250           0.861875   \n",
              "14           0.844375           0.833125           0.865625   \n",
              "9            0.841250           0.835625           0.856875   \n",
              "13           0.837500           0.830625           0.857500   \n",
              "18           0.837500           0.830625           0.861875   \n",
              "\n",
              "    split4_test_score  mean_test_score  std_test_score  rank_test_score  \n",
              "19           0.838125         0.844625        0.009442                1  \n",
              "14           0.840000         0.843875        0.011507                2  \n",
              "9            0.836875         0.841125        0.008172                3  \n",
              "13           0.833750         0.838250        0.009901                4  \n",
              "18           0.833125         0.837500        0.012906                5  "
            ],
            "text/html": [
              "\n",
              "  <div id=\"df-2a1e335a-1a87-4944-8913-8f195b03852f\">\n",
              "    <div class=\"colab-df-container\">\n",
              "      <div>\n",
              "<style scoped>\n",
              "    .dataframe tbody tr th:only-of-type {\n",
              "        vertical-align: middle;\n",
              "    }\n",
              "\n",
              "    .dataframe tbody tr th {\n",
              "        vertical-align: top;\n",
              "    }\n",
              "\n",
              "    .dataframe thead th {\n",
              "        text-align: right;\n",
              "    }\n",
              "</style>\n",
              "<table border=\"1\" class=\"dataframe\">\n",
              "  <thead>\n",
              "    <tr style=\"text-align: right;\">\n",
              "      <th></th>\n",
              "      <th>mean_fit_time</th>\n",
              "      <th>std_fit_time</th>\n",
              "      <th>mean_score_time</th>\n",
              "      <th>std_score_time</th>\n",
              "      <th>param_logistic__C</th>\n",
              "      <th>param_pca__n_components</th>\n",
              "      <th>params</th>\n",
              "      <th>split0_test_score</th>\n",
              "      <th>split1_test_score</th>\n",
              "      <th>split2_test_score</th>\n",
              "      <th>split3_test_score</th>\n",
              "      <th>split4_test_score</th>\n",
              "      <th>mean_test_score</th>\n",
              "      <th>std_test_score</th>\n",
              "      <th>rank_test_score</th>\n",
              "    </tr>\n",
              "  </thead>\n",
              "  <tbody>\n",
              "    <tr>\n",
              "      <th>19</th>\n",
              "      <td>0.296566</td>\n",
              "      <td>0.053737</td>\n",
              "      <td>0.008015</td>\n",
              "      <td>0.001356</td>\n",
              "      <td>10000.0</td>\n",
              "      <td>60</td>\n",
              "      <td>{'logistic__C': 10000.0, 'pca__n_components': 60}</td>\n",
              "      <td>0.839375</td>\n",
              "      <td>0.847500</td>\n",
              "      <td>0.836250</td>\n",
              "      <td>0.861875</td>\n",
              "      <td>0.838125</td>\n",
              "      <td>0.844625</td>\n",
              "      <td>0.009442</td>\n",
              "      <td>1</td>\n",
              "    </tr>\n",
              "    <tr>\n",
              "      <th>14</th>\n",
              "      <td>0.350601</td>\n",
              "      <td>0.031207</td>\n",
              "      <td>0.008995</td>\n",
              "      <td>0.001049</td>\n",
              "      <td>21.544347</td>\n",
              "      <td>60</td>\n",
              "      <td>{'logistic__C': 21.54434690031882, 'pca__n_com...</td>\n",
              "      <td>0.836250</td>\n",
              "      <td>0.844375</td>\n",
              "      <td>0.833125</td>\n",
              "      <td>0.865625</td>\n",
              "      <td>0.840000</td>\n",
              "      <td>0.843875</td>\n",
              "      <td>0.011507</td>\n",
              "      <td>2</td>\n",
              "    </tr>\n",
              "    <tr>\n",
              "      <th>9</th>\n",
              "      <td>0.280974</td>\n",
              "      <td>0.013828</td>\n",
              "      <td>0.008890</td>\n",
              "      <td>0.000759</td>\n",
              "      <td>0.046416</td>\n",
              "      <td>60</td>\n",
              "      <td>{'logistic__C': 0.046415888336127774, 'pca__n_...</td>\n",
              "      <td>0.835000</td>\n",
              "      <td>0.841250</td>\n",
              "      <td>0.835625</td>\n",
              "      <td>0.856875</td>\n",
              "      <td>0.836875</td>\n",
              "      <td>0.841125</td>\n",
              "      <td>0.008172</td>\n",
              "      <td>3</td>\n",
              "    </tr>\n",
              "    <tr>\n",
              "      <th>13</th>\n",
              "      <td>0.226130</td>\n",
              "      <td>0.010122</td>\n",
              "      <td>0.008329</td>\n",
              "      <td>0.000125</td>\n",
              "      <td>21.544347</td>\n",
              "      <td>45</td>\n",
              "      <td>{'logistic__C': 21.54434690031882, 'pca__n_com...</td>\n",
              "      <td>0.831875</td>\n",
              "      <td>0.837500</td>\n",
              "      <td>0.830625</td>\n",
              "      <td>0.857500</td>\n",
              "      <td>0.833750</td>\n",
              "      <td>0.838250</td>\n",
              "      <td>0.009901</td>\n",
              "      <td>4</td>\n",
              "    </tr>\n",
              "    <tr>\n",
              "      <th>18</th>\n",
              "      <td>0.233317</td>\n",
              "      <td>0.014335</td>\n",
              "      <td>0.008830</td>\n",
              "      <td>0.000903</td>\n",
              "      <td>10000.0</td>\n",
              "      <td>45</td>\n",
              "      <td>{'logistic__C': 10000.0, 'pca__n_components': 45}</td>\n",
              "      <td>0.824375</td>\n",
              "      <td>0.837500</td>\n",
              "      <td>0.830625</td>\n",
              "      <td>0.861875</td>\n",
              "      <td>0.833125</td>\n",
              "      <td>0.837500</td>\n",
              "      <td>0.012906</td>\n",
              "      <td>5</td>\n",
              "    </tr>\n",
              "  </tbody>\n",
              "</table>\n",
              "</div>\n",
              "      <button class=\"colab-df-convert\" onclick=\"convertToInteractive('df-2a1e335a-1a87-4944-8913-8f195b03852f')\"\n",
              "              title=\"Convert this dataframe to an interactive table.\"\n",
              "              style=\"display:none;\">\n",
              "        \n",
              "  <svg xmlns=\"http://www.w3.org/2000/svg\" height=\"24px\"viewBox=\"0 0 24 24\"\n",
              "       width=\"24px\">\n",
              "    <path d=\"M0 0h24v24H0V0z\" fill=\"none\"/>\n",
              "    <path d=\"M18.56 5.44l.94 2.06.94-2.06 2.06-.94-2.06-.94-.94-2.06-.94 2.06-2.06.94zm-11 1L8.5 8.5l.94-2.06 2.06-.94-2.06-.94L8.5 2.5l-.94 2.06-2.06.94zm10 10l.94 2.06.94-2.06 2.06-.94-2.06-.94-.94-2.06-.94 2.06-2.06.94z\"/><path d=\"M17.41 7.96l-1.37-1.37c-.4-.4-.92-.59-1.43-.59-.52 0-1.04.2-1.43.59L10.3 9.45l-7.72 7.72c-.78.78-.78 2.05 0 2.83L4 21.41c.39.39.9.59 1.41.59.51 0 1.02-.2 1.41-.59l7.78-7.78 2.81-2.81c.8-.78.8-2.07 0-2.86zM5.41 20L4 18.59l7.72-7.72 1.47 1.35L5.41 20z\"/>\n",
              "  </svg>\n",
              "      </button>\n",
              "      \n",
              "  <style>\n",
              "    .colab-df-container {\n",
              "      display:flex;\n",
              "      flex-wrap:wrap;\n",
              "      gap: 12px;\n",
              "    }\n",
              "\n",
              "    .colab-df-convert {\n",
              "      background-color: #E8F0FE;\n",
              "      border: none;\n",
              "      border-radius: 50%;\n",
              "      cursor: pointer;\n",
              "      display: none;\n",
              "      fill: #1967D2;\n",
              "      height: 32px;\n",
              "      padding: 0 0 0 0;\n",
              "      width: 32px;\n",
              "    }\n",
              "\n",
              "    .colab-df-convert:hover {\n",
              "      background-color: #E2EBFA;\n",
              "      box-shadow: 0px 1px 2px rgba(60, 64, 67, 0.3), 0px 1px 3px 1px rgba(60, 64, 67, 0.15);\n",
              "      fill: #174EA6;\n",
              "    }\n",
              "\n",
              "    [theme=dark] .colab-df-convert {\n",
              "      background-color: #3B4455;\n",
              "      fill: #D2E3FC;\n",
              "    }\n",
              "\n",
              "    [theme=dark] .colab-df-convert:hover {\n",
              "      background-color: #434B5C;\n",
              "      box-shadow: 0px 1px 3px 1px rgba(0, 0, 0, 0.15);\n",
              "      filter: drop-shadow(0px 1px 2px rgba(0, 0, 0, 0.3));\n",
              "      fill: #FFFFFF;\n",
              "    }\n",
              "  </style>\n",
              "\n",
              "      <script>\n",
              "        const buttonEl =\n",
              "          document.querySelector('#df-2a1e335a-1a87-4944-8913-8f195b03852f button.colab-df-convert');\n",
              "        buttonEl.style.display =\n",
              "          google.colab.kernel.accessAllowed ? 'block' : 'none';\n",
              "\n",
              "        async function convertToInteractive(key) {\n",
              "          const element = document.querySelector('#df-2a1e335a-1a87-4944-8913-8f195b03852f');\n",
              "          const dataTable =\n",
              "            await google.colab.kernel.invokeFunction('convertToInteractive',\n",
              "                                                     [key], {});\n",
              "          if (!dataTable) return;\n",
              "\n",
              "          const docLinkHtml = 'Like what you see? Visit the ' +\n",
              "            '<a target=\"_blank\" href=https://colab.research.google.com/notebooks/data_table.ipynb>data table notebook</a>'\n",
              "            + ' to learn more about interactive tables.';\n",
              "          element.innerHTML = '';\n",
              "          dataTable['output_type'] = 'display_data';\n",
              "          await google.colab.output.renderOutput(dataTable, element);\n",
              "          const docLink = document.createElement('div');\n",
              "          docLink.innerHTML = docLinkHtml;\n",
              "          element.appendChild(docLink);\n",
              "        }\n",
              "      </script>\n",
              "    </div>\n",
              "  </div>\n",
              "  "
            ]
          },
          "metadata": {},
          "execution_count": 38
        }
      ],
      "source": [
        "from sklearn.decomposition import PCA\n",
        "from sklearn.linear_model import LogisticRegression\n",
        "from sklearn.pipeline import Pipeline\n",
        "from sklearn.model_selection import GridSearchCV\n",
        "from sklearn.preprocessing import StandardScaler\n",
        "\n",
        "pca = PCA()\n",
        "#Standard Scaler \n",
        "scaler = StandardScaler()\n",
        "\n",
        "logistic = LogisticRegression(max_iter=10000, tol=0.1)\n",
        "pipe = Pipeline(steps=[(\"scaler\", scaler), (\"pca\", pca), (\"logistic\", logistic)])\n",
        "\n",
        "param_grid = {\n",
        "    \"pca__n_components\": [5, 15, 30, 45, 60],\n",
        "    \"logistic__C\": np.logspace(-4, 4, 4),\n",
        "}\n",
        "grid_search = GridSearchCV(pipe, param_grid, n_jobs=2)\n",
        "grid_search.fit(df_prepared_fr, insurance_labels)\n",
        "print('The best parameters are ', grid_search.best_params_)\n",
        "\n",
        "grid_search.best_estimator_\n",
        "cv_res = pd.DataFrame(grid_search.cv_results_)\n",
        "cv_res.sort_values(by=\"mean_test_score\", ascending=False, inplace=True)\n",
        "cv_res.head()\n"
      ]
    },
    {
      "cell_type": "markdown",
      "metadata": {
        "id": "44pdT4c69-m_"
      },
      "source": [
        "## Halving Grid Search ##"
      ]
    },
    {
      "cell_type": "code",
      "execution_count": null,
      "metadata": {
        "colab": {
          "base_uri": "https://localhost:8080/"
        },
        "id": "tBe9pq8XEK1U",
        "outputId": "c2afb4cc-e597-4a6a-ada6-4bab2e7cb702"
      },
      "outputs": [
        {
          "output_type": "stream",
          "name": "stdout",
          "text": [
            "The best parameters are  {'logistic__C': 21.54434690031882, 'pca__n_components': 60}\n"
          ]
        },
        {
          "output_type": "execute_result",
          "data": {
            "text/plain": [
              "    iter  n_resources param_logistic__C param_pca__n_components  \\\n",
              "29     2         7992         21.544347                      60   \n",
              "28     2         7992           10000.0                      60   \n",
              "27     2         7992           10000.0                      30   \n",
              "20     1         2664         21.544347                      60   \n",
              "24     1         2664           10000.0                      60   \n",
              "\n",
              "    mean_test_score  \n",
              "29         0.803662  \n",
              "28         0.801303  \n",
              "27         0.788014  \n",
              "20         0.811657  \n",
              "24         0.810138  "
            ],
            "text/html": [
              "\n",
              "  <div id=\"df-f1ba90dd-a1ae-4a1f-8ed3-d7a745b63037\">\n",
              "    <div class=\"colab-df-container\">\n",
              "      <div>\n",
              "<style scoped>\n",
              "    .dataframe tbody tr th:only-of-type {\n",
              "        vertical-align: middle;\n",
              "    }\n",
              "\n",
              "    .dataframe tbody tr th {\n",
              "        vertical-align: top;\n",
              "    }\n",
              "\n",
              "    .dataframe thead th {\n",
              "        text-align: right;\n",
              "    }\n",
              "</style>\n",
              "<table border=\"1\" class=\"dataframe\">\n",
              "  <thead>\n",
              "    <tr style=\"text-align: right;\">\n",
              "      <th></th>\n",
              "      <th>iter</th>\n",
              "      <th>n_resources</th>\n",
              "      <th>param_logistic__C</th>\n",
              "      <th>param_pca__n_components</th>\n",
              "      <th>mean_test_score</th>\n",
              "    </tr>\n",
              "  </thead>\n",
              "  <tbody>\n",
              "    <tr>\n",
              "      <th>29</th>\n",
              "      <td>2</td>\n",
              "      <td>7992</td>\n",
              "      <td>21.544347</td>\n",
              "      <td>60</td>\n",
              "      <td>0.803662</td>\n",
              "    </tr>\n",
              "    <tr>\n",
              "      <th>28</th>\n",
              "      <td>2</td>\n",
              "      <td>7992</td>\n",
              "      <td>10000.0</td>\n",
              "      <td>60</td>\n",
              "      <td>0.801303</td>\n",
              "    </tr>\n",
              "    <tr>\n",
              "      <th>27</th>\n",
              "      <td>2</td>\n",
              "      <td>7992</td>\n",
              "      <td>10000.0</td>\n",
              "      <td>30</td>\n",
              "      <td>0.788014</td>\n",
              "    </tr>\n",
              "    <tr>\n",
              "      <th>20</th>\n",
              "      <td>1</td>\n",
              "      <td>2664</td>\n",
              "      <td>21.544347</td>\n",
              "      <td>60</td>\n",
              "      <td>0.811657</td>\n",
              "    </tr>\n",
              "    <tr>\n",
              "      <th>24</th>\n",
              "      <td>1</td>\n",
              "      <td>2664</td>\n",
              "      <td>10000.0</td>\n",
              "      <td>60</td>\n",
              "      <td>0.810138</td>\n",
              "    </tr>\n",
              "  </tbody>\n",
              "</table>\n",
              "</div>\n",
              "      <button class=\"colab-df-convert\" onclick=\"convertToInteractive('df-f1ba90dd-a1ae-4a1f-8ed3-d7a745b63037')\"\n",
              "              title=\"Convert this dataframe to an interactive table.\"\n",
              "              style=\"display:none;\">\n",
              "        \n",
              "  <svg xmlns=\"http://www.w3.org/2000/svg\" height=\"24px\"viewBox=\"0 0 24 24\"\n",
              "       width=\"24px\">\n",
              "    <path d=\"M0 0h24v24H0V0z\" fill=\"none\"/>\n",
              "    <path d=\"M18.56 5.44l.94 2.06.94-2.06 2.06-.94-2.06-.94-.94-2.06-.94 2.06-2.06.94zm-11 1L8.5 8.5l.94-2.06 2.06-.94-2.06-.94L8.5 2.5l-.94 2.06-2.06.94zm10 10l.94 2.06.94-2.06 2.06-.94-2.06-.94-.94-2.06-.94 2.06-2.06.94z\"/><path d=\"M17.41 7.96l-1.37-1.37c-.4-.4-.92-.59-1.43-.59-.52 0-1.04.2-1.43.59L10.3 9.45l-7.72 7.72c-.78.78-.78 2.05 0 2.83L4 21.41c.39.39.9.59 1.41.59.51 0 1.02-.2 1.41-.59l7.78-7.78 2.81-2.81c.8-.78.8-2.07 0-2.86zM5.41 20L4 18.59l7.72-7.72 1.47 1.35L5.41 20z\"/>\n",
              "  </svg>\n",
              "      </button>\n",
              "      \n",
              "  <style>\n",
              "    .colab-df-container {\n",
              "      display:flex;\n",
              "      flex-wrap:wrap;\n",
              "      gap: 12px;\n",
              "    }\n",
              "\n",
              "    .colab-df-convert {\n",
              "      background-color: #E8F0FE;\n",
              "      border: none;\n",
              "      border-radius: 50%;\n",
              "      cursor: pointer;\n",
              "      display: none;\n",
              "      fill: #1967D2;\n",
              "      height: 32px;\n",
              "      padding: 0 0 0 0;\n",
              "      width: 32px;\n",
              "    }\n",
              "\n",
              "    .colab-df-convert:hover {\n",
              "      background-color: #E2EBFA;\n",
              "      box-shadow: 0px 1px 2px rgba(60, 64, 67, 0.3), 0px 1px 3px 1px rgba(60, 64, 67, 0.15);\n",
              "      fill: #174EA6;\n",
              "    }\n",
              "\n",
              "    [theme=dark] .colab-df-convert {\n",
              "      background-color: #3B4455;\n",
              "      fill: #D2E3FC;\n",
              "    }\n",
              "\n",
              "    [theme=dark] .colab-df-convert:hover {\n",
              "      background-color: #434B5C;\n",
              "      box-shadow: 0px 1px 3px 1px rgba(0, 0, 0, 0.15);\n",
              "      filter: drop-shadow(0px 1px 2px rgba(0, 0, 0, 0.3));\n",
              "      fill: #FFFFFF;\n",
              "    }\n",
              "  </style>\n",
              "\n",
              "      <script>\n",
              "        const buttonEl =\n",
              "          document.querySelector('#df-f1ba90dd-a1ae-4a1f-8ed3-d7a745b63037 button.colab-df-convert');\n",
              "        buttonEl.style.display =\n",
              "          google.colab.kernel.accessAllowed ? 'block' : 'none';\n",
              "\n",
              "        async function convertToInteractive(key) {\n",
              "          const element = document.querySelector('#df-f1ba90dd-a1ae-4a1f-8ed3-d7a745b63037');\n",
              "          const dataTable =\n",
              "            await google.colab.kernel.invokeFunction('convertToInteractive',\n",
              "                                                     [key], {});\n",
              "          if (!dataTable) return;\n",
              "\n",
              "          const docLinkHtml = 'Like what you see? Visit the ' +\n",
              "            '<a target=\"_blank\" href=https://colab.research.google.com/notebooks/data_table.ipynb>data table notebook</a>'\n",
              "            + ' to learn more about interactive tables.';\n",
              "          element.innerHTML = '';\n",
              "          dataTable['output_type'] = 'display_data';\n",
              "          await google.colab.output.renderOutput(dataTable, element);\n",
              "          const docLink = document.createElement('div');\n",
              "          docLink.innerHTML = docLinkHtml;\n",
              "          element.appendChild(docLink);\n",
              "        }\n",
              "      </script>\n",
              "    </div>\n",
              "  </div>\n",
              "  "
            ]
          },
          "metadata": {},
          "execution_count": 39
        }
      ],
      "source": [
        "from sklearn.decomposition import PCA\n",
        "from sklearn.pipeline import Pipeline\n",
        "from sklearn.experimental import enable_halving_search_cv\n",
        "from sklearn.model_selection import HalvingGridSearchCV\n",
        "\n",
        "pca = PCA()\n",
        "#Standard Scaler \n",
        "scaler = StandardScaler()\n",
        "\n",
        "logistic = LogisticRegression(max_iter=10000, tol=0.1)\n",
        "pipe = Pipeline(steps=[(\"scaler\", scaler), (\"pca\", pca), (\"logistic\", logistic)])\n",
        "param_grid = {\n",
        "    \"pca__n_components\": [5, 15, 30, 45, 60],\n",
        "    \"logistic__C\": np.logspace(-4, 4, 4),\n",
        "}\n",
        "\n",
        "halving_grid_search = HalvingGridSearchCV(pipe, param_grid, cv=3, \n",
        "                                    min_resources='exhaust', \n",
        "                                    scoring='balanced_accuracy')\n",
        "halving_grid_search.fit(df_prepared_fr, df_y)\n",
        "print('The best parameters are ', halving_grid_search.best_params_)\n",
        "\n",
        "halving_grid_cv_res = pd.DataFrame(halving_grid_search.cv_results_)  \n",
        "\n",
        "halving_grid_cv_res.sort_values(by=['iter', 'mean_test_score'], ascending=False, inplace=True)\n",
        "\n",
        "halving_grid_cv_res.filter(regex = '(iter|^param_|mean_test_score|n_resources)', axis=1).head()\n"
      ]
    },
    {
      "cell_type": "markdown",
      "metadata": {
        "id": "4TSp973YDATP"
      },
      "source": [
        "## Parameter Selection##"
      ]
    },
    {
      "cell_type": "markdown",
      "metadata": {
        "id": "wLAryEGOPb3T"
      },
      "source": [
        "The results of grid search and halving grid search are the same."
      ]
    },
    {
      "cell_type": "code",
      "execution_count": null,
      "metadata": {
        "colab": {
          "base_uri": "https://localhost:8080/"
        },
        "id": "oxnIS_a0Ao_J",
        "outputId": "909ea51e-b539-42a5-f50d-432f3d8368f7"
      },
      "outputs": [
        {
          "output_type": "execute_result",
          "data": {
            "text/plain": [
              "Pipeline(steps=[('scaler', StandardScaler(with_mean=False)),\n",
              "                ('pca', PCA(n_components=60)),\n",
              "                ('logistic', LogisticRegression(max_iter=10000, tol=0.1))])"
            ],
            "text/html": [
              "<style>#sk-93141fde-fc50-4c5c-8368-6d211eef0a45 {color: black;background-color: white;}#sk-93141fde-fc50-4c5c-8368-6d211eef0a45 pre{padding: 0;}#sk-93141fde-fc50-4c5c-8368-6d211eef0a45 div.sk-toggleable {background-color: white;}#sk-93141fde-fc50-4c5c-8368-6d211eef0a45 label.sk-toggleable__label {cursor: pointer;display: block;width: 100%;margin-bottom: 0;padding: 0.3em;box-sizing: border-box;text-align: center;}#sk-93141fde-fc50-4c5c-8368-6d211eef0a45 label.sk-toggleable__label-arrow:before {content: \"▸\";float: left;margin-right: 0.25em;color: #696969;}#sk-93141fde-fc50-4c5c-8368-6d211eef0a45 label.sk-toggleable__label-arrow:hover:before {color: black;}#sk-93141fde-fc50-4c5c-8368-6d211eef0a45 div.sk-estimator:hover label.sk-toggleable__label-arrow:before {color: black;}#sk-93141fde-fc50-4c5c-8368-6d211eef0a45 div.sk-toggleable__content {max-height: 0;max-width: 0;overflow: hidden;text-align: left;background-color: #f0f8ff;}#sk-93141fde-fc50-4c5c-8368-6d211eef0a45 div.sk-toggleable__content pre {margin: 0.2em;color: black;border-radius: 0.25em;background-color: #f0f8ff;}#sk-93141fde-fc50-4c5c-8368-6d211eef0a45 input.sk-toggleable__control:checked~div.sk-toggleable__content {max-height: 200px;max-width: 100%;overflow: auto;}#sk-93141fde-fc50-4c5c-8368-6d211eef0a45 input.sk-toggleable__control:checked~label.sk-toggleable__label-arrow:before {content: \"▾\";}#sk-93141fde-fc50-4c5c-8368-6d211eef0a45 div.sk-estimator input.sk-toggleable__control:checked~label.sk-toggleable__label {background-color: #d4ebff;}#sk-93141fde-fc50-4c5c-8368-6d211eef0a45 div.sk-label input.sk-toggleable__control:checked~label.sk-toggleable__label {background-color: #d4ebff;}#sk-93141fde-fc50-4c5c-8368-6d211eef0a45 input.sk-hidden--visually {border: 0;clip: rect(1px 1px 1px 1px);clip: rect(1px, 1px, 1px, 1px);height: 1px;margin: -1px;overflow: hidden;padding: 0;position: absolute;width: 1px;}#sk-93141fde-fc50-4c5c-8368-6d211eef0a45 div.sk-estimator {font-family: monospace;background-color: #f0f8ff;border: 1px dotted black;border-radius: 0.25em;box-sizing: border-box;margin-bottom: 0.5em;}#sk-93141fde-fc50-4c5c-8368-6d211eef0a45 div.sk-estimator:hover {background-color: #d4ebff;}#sk-93141fde-fc50-4c5c-8368-6d211eef0a45 div.sk-parallel-item::after {content: \"\";width: 100%;border-bottom: 1px solid gray;flex-grow: 1;}#sk-93141fde-fc50-4c5c-8368-6d211eef0a45 div.sk-label:hover label.sk-toggleable__label {background-color: #d4ebff;}#sk-93141fde-fc50-4c5c-8368-6d211eef0a45 div.sk-serial::before {content: \"\";position: absolute;border-left: 1px solid gray;box-sizing: border-box;top: 2em;bottom: 0;left: 50%;}#sk-93141fde-fc50-4c5c-8368-6d211eef0a45 div.sk-serial {display: flex;flex-direction: column;align-items: center;background-color: white;padding-right: 0.2em;padding-left: 0.2em;}#sk-93141fde-fc50-4c5c-8368-6d211eef0a45 div.sk-item {z-index: 1;}#sk-93141fde-fc50-4c5c-8368-6d211eef0a45 div.sk-parallel {display: flex;align-items: stretch;justify-content: center;background-color: white;}#sk-93141fde-fc50-4c5c-8368-6d211eef0a45 div.sk-parallel::before {content: \"\";position: absolute;border-left: 1px solid gray;box-sizing: border-box;top: 2em;bottom: 0;left: 50%;}#sk-93141fde-fc50-4c5c-8368-6d211eef0a45 div.sk-parallel-item {display: flex;flex-direction: column;position: relative;background-color: white;}#sk-93141fde-fc50-4c5c-8368-6d211eef0a45 div.sk-parallel-item:first-child::after {align-self: flex-end;width: 50%;}#sk-93141fde-fc50-4c5c-8368-6d211eef0a45 div.sk-parallel-item:last-child::after {align-self: flex-start;width: 50%;}#sk-93141fde-fc50-4c5c-8368-6d211eef0a45 div.sk-parallel-item:only-child::after {width: 0;}#sk-93141fde-fc50-4c5c-8368-6d211eef0a45 div.sk-dashed-wrapped {border: 1px dashed gray;margin: 0 0.4em 0.5em 0.4em;box-sizing: border-box;padding-bottom: 0.4em;background-color: white;position: relative;}#sk-93141fde-fc50-4c5c-8368-6d211eef0a45 div.sk-label label {font-family: monospace;font-weight: bold;background-color: white;display: inline-block;line-height: 1.2em;}#sk-93141fde-fc50-4c5c-8368-6d211eef0a45 div.sk-label-container {position: relative;z-index: 2;text-align: center;}#sk-93141fde-fc50-4c5c-8368-6d211eef0a45 div.sk-container {/* jupyter's `normalize.less` sets `[hidden] { display: none; }` but bootstrap.min.css set `[hidden] { display: none !important; }` so we also need the `!important` here to be able to override the default hidden behavior on the sphinx rendered scikit-learn.org. See: https://github.com/scikit-learn/scikit-learn/issues/21755 */display: inline-block !important;position: relative;}#sk-93141fde-fc50-4c5c-8368-6d211eef0a45 div.sk-text-repr-fallback {display: none;}</style><div id=\"sk-93141fde-fc50-4c5c-8368-6d211eef0a45\" class=\"sk-top-container\"><div class=\"sk-text-repr-fallback\"><pre>Pipeline(steps=[(&#x27;scaler&#x27;, StandardScaler(with_mean=False)),\n",
              "                (&#x27;pca&#x27;, PCA(n_components=60)),\n",
              "                (&#x27;logistic&#x27;, LogisticRegression(max_iter=10000, tol=0.1))])</pre><b>Please rerun this cell to show the HTML repr or trust the notebook.</b></div><div class=\"sk-container\" hidden><div class=\"sk-item sk-dashed-wrapped\"><div class=\"sk-label-container\"><div class=\"sk-label sk-toggleable\"><input class=\"sk-toggleable__control sk-hidden--visually\" id=\"ed0897be-151e-4d44-bf2f-546b53cc09c5\" type=\"checkbox\" ><label for=\"ed0897be-151e-4d44-bf2f-546b53cc09c5\" class=\"sk-toggleable__label sk-toggleable__label-arrow\">Pipeline</label><div class=\"sk-toggleable__content\"><pre>Pipeline(steps=[(&#x27;scaler&#x27;, StandardScaler(with_mean=False)),\n",
              "                (&#x27;pca&#x27;, PCA(n_components=60)),\n",
              "                (&#x27;logistic&#x27;, LogisticRegression(max_iter=10000, tol=0.1))])</pre></div></div></div><div class=\"sk-serial\"><div class=\"sk-item\"><div class=\"sk-estimator sk-toggleable\"><input class=\"sk-toggleable__control sk-hidden--visually\" id=\"ce9ece05-d36b-46ae-90b2-59b29193ab15\" type=\"checkbox\" ><label for=\"ce9ece05-d36b-46ae-90b2-59b29193ab15\" class=\"sk-toggleable__label sk-toggleable__label-arrow\">StandardScaler</label><div class=\"sk-toggleable__content\"><pre>StandardScaler(with_mean=False)</pre></div></div></div><div class=\"sk-item\"><div class=\"sk-estimator sk-toggleable\"><input class=\"sk-toggleable__control sk-hidden--visually\" id=\"0f188794-130f-46e5-9cbe-a79a2e345d1b\" type=\"checkbox\" ><label for=\"0f188794-130f-46e5-9cbe-a79a2e345d1b\" class=\"sk-toggleable__label sk-toggleable__label-arrow\">PCA</label><div class=\"sk-toggleable__content\"><pre>PCA(n_components=60)</pre></div></div></div><div class=\"sk-item\"><div class=\"sk-estimator sk-toggleable\"><input class=\"sk-toggleable__control sk-hidden--visually\" id=\"e3a9582e-d2dc-4f28-9046-668905e2ec26\" type=\"checkbox\" ><label for=\"e3a9582e-d2dc-4f28-9046-668905e2ec26\" class=\"sk-toggleable__label sk-toggleable__label-arrow\">LogisticRegression</label><div class=\"sk-toggleable__content\"><pre>LogisticRegression(max_iter=10000, tol=0.1)</pre></div></div></div></div></div></div></div>"
            ]
          },
          "metadata": {},
          "execution_count": 40
        }
      ],
      "source": [
        "scaler = StandardScaler(with_mean=False)\n",
        "log_g = LogisticRegression(C = 10000, max_iter=10000, tol=0.1)\n",
        "pca = PCA(n_components = 60)\n",
        "log_pipe = Pipeline(steps=[(\"scaler\", scaler), (\"pca\", pca), (\"logistic\", logistic)])\n",
        "log_pipe.fit(X_train.toarray(), y_train)"
      ]
    },
    {
      "cell_type": "code",
      "execution_count": null,
      "metadata": {
        "colab": {
          "base_uri": "https://localhost:8080/"
        },
        "id": "-aajcihWIHhF",
        "outputId": "3bad01aa-8a88-4fcb-b311-0f978a3eb482"
      },
      "outputs": [
        {
          "output_type": "stream",
          "name": "stdout",
          "text": [
            "Accuracy score is:  0.825\n",
            "balanced accuracy score is:  0.791\n"
          ]
        }
      ],
      "source": [
        "y_pred = log_pipe.predict(X_test.toarray())\n",
        "\n",
        "acc = acc.append({'Model' : 'LogisticReg_Halving&Grid', \n",
        "                  'Accuracy_Score' : accuracy_score(test_set[\"OUTCOME\"], y_pred), \n",
        "                  'Balanced_Accuracy_Score':balanced_accuracy_score(test_set[\"OUTCOME\"], y_pred).round(4)},\n",
        "                  ignore_index = True)\n",
        "\n",
        "print('Accuracy score is: ',accuracy_score(test_set[\"OUTCOME\"], y_pred))\n",
        "print('balanced accuracy score is: ',balanced_accuracy_score(test_set[\"OUTCOME\"], y_pred).round(4))"
      ]
    },
    {
      "cell_type": "code",
      "execution_count": null,
      "metadata": {
        "colab": {
          "base_uri": "https://localhost:8080/"
        },
        "id": "d68-euApITmE",
        "outputId": "d067fdf1-9a7c-4644-bf06-9c9bba48fb28"
      },
      "outputs": [
        {
          "output_type": "execute_result",
          "data": {
            "text/plain": [
              "0.805"
            ]
          },
          "metadata": {},
          "execution_count": 42
        }
      ],
      "source": [
        "#cross validation score\n",
        "from sklearn.model_selection import cross_val_score\n",
        "log_scores = cross_val_score(log_pipe, X_train.toarray(), y_train, cv=10, scoring='balanced_accuracy')\n",
        "\n",
        "cv_mean = cv_mean.append({'Model' : 'LogisticReg_Halving&Grid', 'Score' : lr_scores.mean().round(3)},ignore_index = True)\n",
        "\n",
        "log_scores.mean().round(3)"
      ]
    },
    {
      "cell_type": "markdown",
      "metadata": {
        "id": "VEZ_fezbMSqO"
      },
      "source": [
        "#**KNN**"
      ]
    },
    {
      "cell_type": "code",
      "execution_count": null,
      "metadata": {
        "colab": {
          "base_uri": "https://localhost:8080/"
        },
        "id": "MtDX5emhWFf6",
        "outputId": "849d78ae-1925-488a-f208-868a83782436"
      },
      "outputs": [
        {
          "output_type": "execute_result",
          "data": {
            "text/plain": [
              "0.773"
            ]
          },
          "metadata": {},
          "execution_count": 43
        }
      ],
      "source": [
        "from sklearn.neighbors import KNeighborsClassifier\n",
        "knn_pipe = make_pipeline(preprocessing, KNeighborsClassifier())\n",
        "knn_scores = cross_val_score(knn_pipe, df_X, df_y, cv=10, scoring='balanced_accuracy')\n",
        "\n",
        "cv_mean = cv_mean.append({'Model' : 'KNN_Default', 'Score' : knn_scores.mean().round(3)},ignore_index = True)\n",
        "\n",
        "knn_scores.mean().round(3)"
      ]
    },
    {
      "cell_type": "code",
      "execution_count": null,
      "metadata": {
        "id": "MPwBifvc00s6"
      },
      "outputs": [],
      "source": [
        "full_pipeline = Pipeline([\n",
        "    ('preprocessing', preprocessing),\n",
        "    ('knn', KNeighborsClassifier()),\n",
        "])"
      ]
    },
    {
      "cell_type": "markdown",
      "metadata": {
        "id": "-VmGT1WJGuxP"
      },
      "source": [
        "## Grid Search##"
      ]
    },
    {
      "cell_type": "code",
      "execution_count": null,
      "metadata": {
        "colab": {
          "base_uri": "https://localhost:8080/"
        },
        "id": "9fAo1GU9szCi",
        "outputId": "b55b309e-6f70-4bb6-dc9d-18238340c9d2"
      },
      "outputs": [
        {
          "output_type": "stream",
          "name": "stdout",
          "text": [
            "\n",
            "\n",
            "The best parameters are  {'knn__n_neighbors': 10, 'knn__p': 2}\n"
          ]
        },
        {
          "output_type": "execute_result",
          "data": {
            "text/plain": [
              "   param_knn__n_neighbors param_knn__p  mean_test_score\n",
              "20                     10            2         0.769904\n",
              "15                      8            2         0.761599\n",
              "10                      6            2         0.750459\n",
              "5                       4            2         0.738266\n",
              "0                       2            2         0.695683"
            ],
            "text/html": [
              "\n",
              "  <div id=\"df-609e0c3e-2c94-43a8-ab30-70517df8f35b\">\n",
              "    <div class=\"colab-df-container\">\n",
              "      <div>\n",
              "<style scoped>\n",
              "    .dataframe tbody tr th:only-of-type {\n",
              "        vertical-align: middle;\n",
              "    }\n",
              "\n",
              "    .dataframe tbody tr th {\n",
              "        vertical-align: top;\n",
              "    }\n",
              "\n",
              "    .dataframe thead th {\n",
              "        text-align: right;\n",
              "    }\n",
              "</style>\n",
              "<table border=\"1\" class=\"dataframe\">\n",
              "  <thead>\n",
              "    <tr style=\"text-align: right;\">\n",
              "      <th></th>\n",
              "      <th>param_knn__n_neighbors</th>\n",
              "      <th>param_knn__p</th>\n",
              "      <th>mean_test_score</th>\n",
              "    </tr>\n",
              "  </thead>\n",
              "  <tbody>\n",
              "    <tr>\n",
              "      <th>20</th>\n",
              "      <td>10</td>\n",
              "      <td>2</td>\n",
              "      <td>0.769904</td>\n",
              "    </tr>\n",
              "    <tr>\n",
              "      <th>15</th>\n",
              "      <td>8</td>\n",
              "      <td>2</td>\n",
              "      <td>0.761599</td>\n",
              "    </tr>\n",
              "    <tr>\n",
              "      <th>10</th>\n",
              "      <td>6</td>\n",
              "      <td>2</td>\n",
              "      <td>0.750459</td>\n",
              "    </tr>\n",
              "    <tr>\n",
              "      <th>5</th>\n",
              "      <td>4</td>\n",
              "      <td>2</td>\n",
              "      <td>0.738266</td>\n",
              "    </tr>\n",
              "    <tr>\n",
              "      <th>0</th>\n",
              "      <td>2</td>\n",
              "      <td>2</td>\n",
              "      <td>0.695683</td>\n",
              "    </tr>\n",
              "  </tbody>\n",
              "</table>\n",
              "</div>\n",
              "      <button class=\"colab-df-convert\" onclick=\"convertToInteractive('df-609e0c3e-2c94-43a8-ab30-70517df8f35b')\"\n",
              "              title=\"Convert this dataframe to an interactive table.\"\n",
              "              style=\"display:none;\">\n",
              "        \n",
              "  <svg xmlns=\"http://www.w3.org/2000/svg\" height=\"24px\"viewBox=\"0 0 24 24\"\n",
              "       width=\"24px\">\n",
              "    <path d=\"M0 0h24v24H0V0z\" fill=\"none\"/>\n",
              "    <path d=\"M18.56 5.44l.94 2.06.94-2.06 2.06-.94-2.06-.94-.94-2.06-.94 2.06-2.06.94zm-11 1L8.5 8.5l.94-2.06 2.06-.94-2.06-.94L8.5 2.5l-.94 2.06-2.06.94zm10 10l.94 2.06.94-2.06 2.06-.94-2.06-.94-.94-2.06-.94 2.06-2.06.94z\"/><path d=\"M17.41 7.96l-1.37-1.37c-.4-.4-.92-.59-1.43-.59-.52 0-1.04.2-1.43.59L10.3 9.45l-7.72 7.72c-.78.78-.78 2.05 0 2.83L4 21.41c.39.39.9.59 1.41.59.51 0 1.02-.2 1.41-.59l7.78-7.78 2.81-2.81c.8-.78.8-2.07 0-2.86zM5.41 20L4 18.59l7.72-7.72 1.47 1.35L5.41 20z\"/>\n",
              "  </svg>\n",
              "      </button>\n",
              "      \n",
              "  <style>\n",
              "    .colab-df-container {\n",
              "      display:flex;\n",
              "      flex-wrap:wrap;\n",
              "      gap: 12px;\n",
              "    }\n",
              "\n",
              "    .colab-df-convert {\n",
              "      background-color: #E8F0FE;\n",
              "      border: none;\n",
              "      border-radius: 50%;\n",
              "      cursor: pointer;\n",
              "      display: none;\n",
              "      fill: #1967D2;\n",
              "      height: 32px;\n",
              "      padding: 0 0 0 0;\n",
              "      width: 32px;\n",
              "    }\n",
              "\n",
              "    .colab-df-convert:hover {\n",
              "      background-color: #E2EBFA;\n",
              "      box-shadow: 0px 1px 2px rgba(60, 64, 67, 0.3), 0px 1px 3px 1px rgba(60, 64, 67, 0.15);\n",
              "      fill: #174EA6;\n",
              "    }\n",
              "\n",
              "    [theme=dark] .colab-df-convert {\n",
              "      background-color: #3B4455;\n",
              "      fill: #D2E3FC;\n",
              "    }\n",
              "\n",
              "    [theme=dark] .colab-df-convert:hover {\n",
              "      background-color: #434B5C;\n",
              "      box-shadow: 0px 1px 3px 1px rgba(0, 0, 0, 0.15);\n",
              "      filter: drop-shadow(0px 1px 2px rgba(0, 0, 0, 0.3));\n",
              "      fill: #FFFFFF;\n",
              "    }\n",
              "  </style>\n",
              "\n",
              "      <script>\n",
              "        const buttonEl =\n",
              "          document.querySelector('#df-609e0c3e-2c94-43a8-ab30-70517df8f35b button.colab-df-convert');\n",
              "        buttonEl.style.display =\n",
              "          google.colab.kernel.accessAllowed ? 'block' : 'none';\n",
              "\n",
              "        async function convertToInteractive(key) {\n",
              "          const element = document.querySelector('#df-609e0c3e-2c94-43a8-ab30-70517df8f35b');\n",
              "          const dataTable =\n",
              "            await google.colab.kernel.invokeFunction('convertToInteractive',\n",
              "                                                     [key], {});\n",
              "          if (!dataTable) return;\n",
              "\n",
              "          const docLinkHtml = 'Like what you see? Visit the ' +\n",
              "            '<a target=\"_blank\" href=https://colab.research.google.com/notebooks/data_table.ipynb>data table notebook</a>'\n",
              "            + ' to learn more about interactive tables.';\n",
              "          element.innerHTML = '';\n",
              "          dataTable['output_type'] = 'display_data';\n",
              "          await google.colab.output.renderOutput(dataTable, element);\n",
              "          const docLink = document.createElement('div');\n",
              "          docLink.innerHTML = docLinkHtml;\n",
              "          element.appendChild(docLink);\n",
              "        }\n",
              "      </script>\n",
              "    </div>\n",
              "  </div>\n",
              "  "
            ]
          },
          "metadata": {},
          "execution_count": 45
        }
      ],
      "source": [
        "param_grid = [ \n",
        "    {'knn__n_neighbors': np.arange(2, 11, 2), \n",
        "     'knn__p': np.arange(2, 11, 2)\n",
        "     }, \n",
        "    ]\n",
        "grid_search = GridSearchCV(full_pipeline, param_grid, cv=3, \n",
        "                                 scoring='balanced_accuracy')\n",
        "grid_search.fit(df_X, df_y)\n",
        "print('\\n\\nThe best parameters are ', grid_search.best_params_)\n",
        "\n",
        "grid_cv_res = pd.DataFrame(grid_search.cv_results_) \n",
        "grid_cv_res.sort_values(by='mean_test_score', ascending=False, inplace=True)\n",
        "grid_cv_res.filter(regex = '(^param_|mean_test_score)', axis=1).head()"
      ]
    },
    {
      "cell_type": "markdown",
      "metadata": {
        "id": "Y7w4KjRbG0E2"
      },
      "source": [
        "## Halving Grid Search##"
      ]
    },
    {
      "cell_type": "code",
      "execution_count": null,
      "metadata": {
        "colab": {
          "base_uri": "https://localhost:8080/"
        },
        "id": "5LIbXwz67UZ9",
        "outputId": "bb2d44e0-dd8d-44d0-c623-f3e6ea56df3e"
      },
      "outputs": [
        {
          "output_type": "stream",
          "name": "stdout",
          "text": [
            "The best parameters are  {'knn__n_neighbors': 10, 'knn__p': 2}\n"
          ]
        },
        {
          "output_type": "execute_result",
          "data": {
            "text/plain": [
              "    iter  n_resources param_knn__n_neighbors param_knn__p  mean_test_score\n",
              "36     2         7992                     10            2         0.766693\n",
              "35     2         7992                      8            2         0.761092\n",
              "34     2         7992                      6            2         0.748680\n",
              "33     1         2664                     10            2         0.755386\n",
              "32     1         2664                      8            2         0.751694"
            ],
            "text/html": [
              "\n",
              "  <div id=\"df-0017a47e-ea89-4cdf-b504-6ba68f6fc1fe\">\n",
              "    <div class=\"colab-df-container\">\n",
              "      <div>\n",
              "<style scoped>\n",
              "    .dataframe tbody tr th:only-of-type {\n",
              "        vertical-align: middle;\n",
              "    }\n",
              "\n",
              "    .dataframe tbody tr th {\n",
              "        vertical-align: top;\n",
              "    }\n",
              "\n",
              "    .dataframe thead th {\n",
              "        text-align: right;\n",
              "    }\n",
              "</style>\n",
              "<table border=\"1\" class=\"dataframe\">\n",
              "  <thead>\n",
              "    <tr style=\"text-align: right;\">\n",
              "      <th></th>\n",
              "      <th>iter</th>\n",
              "      <th>n_resources</th>\n",
              "      <th>param_knn__n_neighbors</th>\n",
              "      <th>param_knn__p</th>\n",
              "      <th>mean_test_score</th>\n",
              "    </tr>\n",
              "  </thead>\n",
              "  <tbody>\n",
              "    <tr>\n",
              "      <th>36</th>\n",
              "      <td>2</td>\n",
              "      <td>7992</td>\n",
              "      <td>10</td>\n",
              "      <td>2</td>\n",
              "      <td>0.766693</td>\n",
              "    </tr>\n",
              "    <tr>\n",
              "      <th>35</th>\n",
              "      <td>2</td>\n",
              "      <td>7992</td>\n",
              "      <td>8</td>\n",
              "      <td>2</td>\n",
              "      <td>0.761092</td>\n",
              "    </tr>\n",
              "    <tr>\n",
              "      <th>34</th>\n",
              "      <td>2</td>\n",
              "      <td>7992</td>\n",
              "      <td>6</td>\n",
              "      <td>2</td>\n",
              "      <td>0.748680</td>\n",
              "    </tr>\n",
              "    <tr>\n",
              "      <th>33</th>\n",
              "      <td>1</td>\n",
              "      <td>2664</td>\n",
              "      <td>10</td>\n",
              "      <td>2</td>\n",
              "      <td>0.755386</td>\n",
              "    </tr>\n",
              "    <tr>\n",
              "      <th>32</th>\n",
              "      <td>1</td>\n",
              "      <td>2664</td>\n",
              "      <td>8</td>\n",
              "      <td>2</td>\n",
              "      <td>0.751694</td>\n",
              "    </tr>\n",
              "  </tbody>\n",
              "</table>\n",
              "</div>\n",
              "      <button class=\"colab-df-convert\" onclick=\"convertToInteractive('df-0017a47e-ea89-4cdf-b504-6ba68f6fc1fe')\"\n",
              "              title=\"Convert this dataframe to an interactive table.\"\n",
              "              style=\"display:none;\">\n",
              "        \n",
              "  <svg xmlns=\"http://www.w3.org/2000/svg\" height=\"24px\"viewBox=\"0 0 24 24\"\n",
              "       width=\"24px\">\n",
              "    <path d=\"M0 0h24v24H0V0z\" fill=\"none\"/>\n",
              "    <path d=\"M18.56 5.44l.94 2.06.94-2.06 2.06-.94-2.06-.94-.94-2.06-.94 2.06-2.06.94zm-11 1L8.5 8.5l.94-2.06 2.06-.94-2.06-.94L8.5 2.5l-.94 2.06-2.06.94zm10 10l.94 2.06.94-2.06 2.06-.94-2.06-.94-.94-2.06-.94 2.06-2.06.94z\"/><path d=\"M17.41 7.96l-1.37-1.37c-.4-.4-.92-.59-1.43-.59-.52 0-1.04.2-1.43.59L10.3 9.45l-7.72 7.72c-.78.78-.78 2.05 0 2.83L4 21.41c.39.39.9.59 1.41.59.51 0 1.02-.2 1.41-.59l7.78-7.78 2.81-2.81c.8-.78.8-2.07 0-2.86zM5.41 20L4 18.59l7.72-7.72 1.47 1.35L5.41 20z\"/>\n",
              "  </svg>\n",
              "      </button>\n",
              "      \n",
              "  <style>\n",
              "    .colab-df-container {\n",
              "      display:flex;\n",
              "      flex-wrap:wrap;\n",
              "      gap: 12px;\n",
              "    }\n",
              "\n",
              "    .colab-df-convert {\n",
              "      background-color: #E8F0FE;\n",
              "      border: none;\n",
              "      border-radius: 50%;\n",
              "      cursor: pointer;\n",
              "      display: none;\n",
              "      fill: #1967D2;\n",
              "      height: 32px;\n",
              "      padding: 0 0 0 0;\n",
              "      width: 32px;\n",
              "    }\n",
              "\n",
              "    .colab-df-convert:hover {\n",
              "      background-color: #E2EBFA;\n",
              "      box-shadow: 0px 1px 2px rgba(60, 64, 67, 0.3), 0px 1px 3px 1px rgba(60, 64, 67, 0.15);\n",
              "      fill: #174EA6;\n",
              "    }\n",
              "\n",
              "    [theme=dark] .colab-df-convert {\n",
              "      background-color: #3B4455;\n",
              "      fill: #D2E3FC;\n",
              "    }\n",
              "\n",
              "    [theme=dark] .colab-df-convert:hover {\n",
              "      background-color: #434B5C;\n",
              "      box-shadow: 0px 1px 3px 1px rgba(0, 0, 0, 0.15);\n",
              "      filter: drop-shadow(0px 1px 2px rgba(0, 0, 0, 0.3));\n",
              "      fill: #FFFFFF;\n",
              "    }\n",
              "  </style>\n",
              "\n",
              "      <script>\n",
              "        const buttonEl =\n",
              "          document.querySelector('#df-0017a47e-ea89-4cdf-b504-6ba68f6fc1fe button.colab-df-convert');\n",
              "        buttonEl.style.display =\n",
              "          google.colab.kernel.accessAllowed ? 'block' : 'none';\n",
              "\n",
              "        async function convertToInteractive(key) {\n",
              "          const element = document.querySelector('#df-0017a47e-ea89-4cdf-b504-6ba68f6fc1fe');\n",
              "          const dataTable =\n",
              "            await google.colab.kernel.invokeFunction('convertToInteractive',\n",
              "                                                     [key], {});\n",
              "          if (!dataTable) return;\n",
              "\n",
              "          const docLinkHtml = 'Like what you see? Visit the ' +\n",
              "            '<a target=\"_blank\" href=https://colab.research.google.com/notebooks/data_table.ipynb>data table notebook</a>'\n",
              "            + ' to learn more about interactive tables.';\n",
              "          element.innerHTML = '';\n",
              "          dataTable['output_type'] = 'display_data';\n",
              "          await google.colab.output.renderOutput(dataTable, element);\n",
              "          const docLink = document.createElement('div');\n",
              "          docLink.innerHTML = docLinkHtml;\n",
              "          element.appendChild(docLink);\n",
              "        }\n",
              "      </script>\n",
              "    </div>\n",
              "  </div>\n",
              "  "
            ]
          },
          "metadata": {},
          "execution_count": 46
        }
      ],
      "source": [
        "from sklearn.experimental import enable_halving_search_cv\n",
        "from sklearn.model_selection import HalvingGridSearchCV\n",
        "\n",
        "param_grid = [ \n",
        "    {'knn__n_neighbors': np.arange(2, 11, 2), \n",
        "     'knn__p': np.arange(2, 11, 2)\n",
        "     }, \n",
        "    ]\n",
        "\n",
        "\n",
        "halving_grid_search = HalvingGridSearchCV(full_pipeline, param_grid, cv=3, \n",
        "                                    min_resources='exhaust', \n",
        "                                    scoring='balanced_accuracy')\n",
        "halving_grid_search.fit(df_prepared_fr, df_y)\n",
        "print('The best parameters are ', halving_grid_search.best_params_)\n",
        "\n",
        "halving_grid_cv_res = pd.DataFrame(halving_grid_search.cv_results_) \n",
        "halving_grid_cv_res.sort_values(by=['iter', 'mean_test_score'], ascending=False, inplace=True)\n",
        "halving_grid_cv_res.filter(regex = '(iter|^param_|mean_test_score|n_resources)', axis=1).head()\n"
      ]
    },
    {
      "cell_type": "markdown",
      "metadata": {
        "id": "vd5olLMIG_vY"
      },
      "source": [
        "## Parameter Selection##"
      ]
    },
    {
      "cell_type": "markdown",
      "metadata": {
        "id": "8FlDSkOyPU9X"
      },
      "source": [
        "The result from grid search is  the same as the halving search."
      ]
    },
    {
      "cell_type": "code",
      "execution_count": null,
      "metadata": {
        "colab": {
          "base_uri": "https://localhost:8080/"
        },
        "id": "ziAuVKJRNiIH",
        "outputId": "52d2ea92-db29-476d-fc44-5a2ab9c18149"
      },
      "outputs": [
        {
          "output_type": "execute_result",
          "data": {
            "text/plain": [
              "KNeighborsClassifier(n_neighbors=10)"
            ],
            "text/html": [
              "<style>#sk-0f9545b7-f66f-4573-8568-b79c373838ac {color: black;background-color: white;}#sk-0f9545b7-f66f-4573-8568-b79c373838ac pre{padding: 0;}#sk-0f9545b7-f66f-4573-8568-b79c373838ac div.sk-toggleable {background-color: white;}#sk-0f9545b7-f66f-4573-8568-b79c373838ac label.sk-toggleable__label {cursor: pointer;display: block;width: 100%;margin-bottom: 0;padding: 0.3em;box-sizing: border-box;text-align: center;}#sk-0f9545b7-f66f-4573-8568-b79c373838ac label.sk-toggleable__label-arrow:before {content: \"▸\";float: left;margin-right: 0.25em;color: #696969;}#sk-0f9545b7-f66f-4573-8568-b79c373838ac label.sk-toggleable__label-arrow:hover:before {color: black;}#sk-0f9545b7-f66f-4573-8568-b79c373838ac div.sk-estimator:hover label.sk-toggleable__label-arrow:before {color: black;}#sk-0f9545b7-f66f-4573-8568-b79c373838ac div.sk-toggleable__content {max-height: 0;max-width: 0;overflow: hidden;text-align: left;background-color: #f0f8ff;}#sk-0f9545b7-f66f-4573-8568-b79c373838ac div.sk-toggleable__content pre {margin: 0.2em;color: black;border-radius: 0.25em;background-color: #f0f8ff;}#sk-0f9545b7-f66f-4573-8568-b79c373838ac input.sk-toggleable__control:checked~div.sk-toggleable__content {max-height: 200px;max-width: 100%;overflow: auto;}#sk-0f9545b7-f66f-4573-8568-b79c373838ac input.sk-toggleable__control:checked~label.sk-toggleable__label-arrow:before {content: \"▾\";}#sk-0f9545b7-f66f-4573-8568-b79c373838ac div.sk-estimator input.sk-toggleable__control:checked~label.sk-toggleable__label {background-color: #d4ebff;}#sk-0f9545b7-f66f-4573-8568-b79c373838ac div.sk-label input.sk-toggleable__control:checked~label.sk-toggleable__label {background-color: #d4ebff;}#sk-0f9545b7-f66f-4573-8568-b79c373838ac input.sk-hidden--visually {border: 0;clip: rect(1px 1px 1px 1px);clip: rect(1px, 1px, 1px, 1px);height: 1px;margin: -1px;overflow: hidden;padding: 0;position: absolute;width: 1px;}#sk-0f9545b7-f66f-4573-8568-b79c373838ac div.sk-estimator {font-family: monospace;background-color: #f0f8ff;border: 1px dotted black;border-radius: 0.25em;box-sizing: border-box;margin-bottom: 0.5em;}#sk-0f9545b7-f66f-4573-8568-b79c373838ac div.sk-estimator:hover {background-color: #d4ebff;}#sk-0f9545b7-f66f-4573-8568-b79c373838ac div.sk-parallel-item::after {content: \"\";width: 100%;border-bottom: 1px solid gray;flex-grow: 1;}#sk-0f9545b7-f66f-4573-8568-b79c373838ac div.sk-label:hover label.sk-toggleable__label {background-color: #d4ebff;}#sk-0f9545b7-f66f-4573-8568-b79c373838ac div.sk-serial::before {content: \"\";position: absolute;border-left: 1px solid gray;box-sizing: border-box;top: 2em;bottom: 0;left: 50%;}#sk-0f9545b7-f66f-4573-8568-b79c373838ac div.sk-serial {display: flex;flex-direction: column;align-items: center;background-color: white;padding-right: 0.2em;padding-left: 0.2em;}#sk-0f9545b7-f66f-4573-8568-b79c373838ac div.sk-item {z-index: 1;}#sk-0f9545b7-f66f-4573-8568-b79c373838ac div.sk-parallel {display: flex;align-items: stretch;justify-content: center;background-color: white;}#sk-0f9545b7-f66f-4573-8568-b79c373838ac div.sk-parallel::before {content: \"\";position: absolute;border-left: 1px solid gray;box-sizing: border-box;top: 2em;bottom: 0;left: 50%;}#sk-0f9545b7-f66f-4573-8568-b79c373838ac div.sk-parallel-item {display: flex;flex-direction: column;position: relative;background-color: white;}#sk-0f9545b7-f66f-4573-8568-b79c373838ac div.sk-parallel-item:first-child::after {align-self: flex-end;width: 50%;}#sk-0f9545b7-f66f-4573-8568-b79c373838ac div.sk-parallel-item:last-child::after {align-self: flex-start;width: 50%;}#sk-0f9545b7-f66f-4573-8568-b79c373838ac div.sk-parallel-item:only-child::after {width: 0;}#sk-0f9545b7-f66f-4573-8568-b79c373838ac div.sk-dashed-wrapped {border: 1px dashed gray;margin: 0 0.4em 0.5em 0.4em;box-sizing: border-box;padding-bottom: 0.4em;background-color: white;position: relative;}#sk-0f9545b7-f66f-4573-8568-b79c373838ac div.sk-label label {font-family: monospace;font-weight: bold;background-color: white;display: inline-block;line-height: 1.2em;}#sk-0f9545b7-f66f-4573-8568-b79c373838ac div.sk-label-container {position: relative;z-index: 2;text-align: center;}#sk-0f9545b7-f66f-4573-8568-b79c373838ac div.sk-container {/* jupyter's `normalize.less` sets `[hidden] { display: none; }` but bootstrap.min.css set `[hidden] { display: none !important; }` so we also need the `!important` here to be able to override the default hidden behavior on the sphinx rendered scikit-learn.org. See: https://github.com/scikit-learn/scikit-learn/issues/21755 */display: inline-block !important;position: relative;}#sk-0f9545b7-f66f-4573-8568-b79c373838ac div.sk-text-repr-fallback {display: none;}</style><div id=\"sk-0f9545b7-f66f-4573-8568-b79c373838ac\" class=\"sk-top-container\"><div class=\"sk-text-repr-fallback\"><pre>KNeighborsClassifier(n_neighbors=10)</pre><b>Please rerun this cell to show the HTML repr or trust the notebook.</b></div><div class=\"sk-container\" hidden><div class=\"sk-item\"><div class=\"sk-estimator sk-toggleable\"><input class=\"sk-toggleable__control sk-hidden--visually\" id=\"5742f90d-1266-4184-bae6-1c7cb48ddc2d\" type=\"checkbox\" checked><label for=\"5742f90d-1266-4184-bae6-1c7cb48ddc2d\" class=\"sk-toggleable__label sk-toggleable__label-arrow\">KNeighborsClassifier</label><div class=\"sk-toggleable__content\"><pre>KNeighborsClassifier(n_neighbors=10)</pre></div></div></div></div></div>"
            ]
          },
          "metadata": {},
          "execution_count": 47
        }
      ],
      "source": [
        "knn_clf = KNeighborsClassifier(n_neighbors = 10,p=2)\n",
        "knn_clf.fit(X_train, y_train)"
      ]
    },
    {
      "cell_type": "code",
      "execution_count": null,
      "metadata": {
        "colab": {
          "base_uri": "https://localhost:8080/"
        },
        "id": "g954MR0pOgny",
        "outputId": "590e74b9-805b-4652-abc4-0756e4c6e0c1"
      },
      "outputs": [
        {
          "output_type": "stream",
          "name": "stdout",
          "text": [
            "Accuracy score is:  0.8125\n",
            "balanced accuracy score is:  0.7662\n"
          ]
        }
      ],
      "source": [
        "y_pred = knn_clf.predict(X_test)\n",
        "\n",
        "acc = acc.append({'Model' : 'KNN_Halving&Grid', \n",
        "                  'Accuracy_Score' : accuracy_score(test_set[\"OUTCOME\"], y_pred), \n",
        "                  'Balanced_Accuracy_Score':balanced_accuracy_score(test_set[\"OUTCOME\"], y_pred).round(4)},\n",
        "                  ignore_index = True)\n",
        "\n",
        "print('Accuracy score is: ',accuracy_score(test_set[\"OUTCOME\"], y_pred))\n",
        "print('balanced accuracy score is: ',balanced_accuracy_score(test_set[\"OUTCOME\"], y_pred).round(4))"
      ]
    },
    {
      "cell_type": "code",
      "execution_count": null,
      "metadata": {
        "colab": {
          "base_uri": "https://localhost:8080/"
        },
        "id": "T351ZK7BOgn8",
        "outputId": "85876a4f-3e94-459c-f4f0-6d1f2c3f4b48"
      },
      "outputs": [
        {
          "output_type": "execute_result",
          "data": {
            "text/plain": [
              "0.765"
            ]
          },
          "metadata": {},
          "execution_count": 49
        }
      ],
      "source": [
        "#cross validation score\n",
        "from sklearn.model_selection import cross_val_score\n",
        "knn_scores = cross_val_score(knn_clf, X_train, y_train, cv=10, scoring='balanced_accuracy')\n",
        "\n",
        "cv_mean = cv_mean.append({'Model' : 'KNN_Halving&Grid', 'Score' : knn_scores.mean().round(3)},ignore_index = True)\n",
        "\n",
        "knn_scores.mean().round(3)"
      ]
    },
    {
      "cell_type": "markdown",
      "metadata": {
        "id": "7G0a8BSdMfl3"
      },
      "source": [
        "#**SVM**"
      ]
    },
    {
      "cell_type": "code",
      "execution_count": null,
      "metadata": {
        "colab": {
          "base_uri": "https://localhost:8080/"
        },
        "id": "u-I6eDapWNJm",
        "outputId": "67c864bf-5e45-4757-bca3-7734714976a0"
      },
      "outputs": [
        {
          "output_type": "execute_result",
          "data": {
            "text/plain": [
              "0.818"
            ]
          },
          "metadata": {},
          "execution_count": 50
        }
      ],
      "source": [
        "from sklearn.svm import SVC\n",
        "from sklearn.model_selection import cross_val_score\n",
        "svc_pipe = make_pipeline(preprocessing, SVC(C=1, kernel='poly', degree=1))\n",
        "svc_scores = cross_val_score(svc_pipe, df_X, df_y, cv=10, scoring='balanced_accuracy')\n",
        "\n",
        "cv_mean = cv_mean.append({'Model' : 'SVM_Default', 'Score' : svc_scores.mean().round(3)},ignore_index = True)\n",
        "\n",
        "svc_scores.mean().round(3)"
      ]
    },
    {
      "cell_type": "markdown",
      "metadata": {
        "id": "pljslAUrSIBs"
      },
      "source": [
        "## Grid Search##"
      ]
    },
    {
      "cell_type": "code",
      "execution_count": null,
      "metadata": {
        "id": "Oju6MN8QWQL4",
        "colab": {
          "base_uri": "https://localhost:8080/"
        },
        "outputId": "7861a07a-c20f-44dc-d5c9-c7fbbb9d5da7"
      },
      "outputs": [
        {
          "output_type": "stream",
          "name": "stdout",
          "text": [
            "The best parameters are  {'svm__C': 1000, 'svm__gamma': 0.001, 'svm__kernel': 'rbf'}\n"
          ]
        },
        {
          "output_type": "execute_result",
          "data": {
            "text/plain": [
              "   param_svm__C param_svm__kernel param_svm__gamma param_svm__degree  \\\n",
              "10         1000               rbf            0.001               NaN   \n",
              "1            10            linear              NaN               NaN   \n",
              "0             1            linear              NaN               NaN   \n",
              "2           100            linear              NaN               NaN   \n",
              "11         1000               rbf           0.0001               NaN   \n",
              "3          1000            linear              NaN               NaN   \n",
              "8           100               rbf            0.001               NaN   \n",
              "9           100               rbf           0.0001               NaN   \n",
              "6            10               rbf            0.001               NaN   \n",
              "30         1000              poly            0.001                 2   \n",
              "7            10               rbf           0.0001               NaN   \n",
              "4             1               rbf            0.001               NaN   \n",
              "24          100              poly            0.001                 2   \n",
              "32         1000              poly            0.001                 3   \n",
              "31         1000              poly           0.0001                 2   \n",
              "18           10              poly            0.001                 2   \n",
              "16            1              poly            0.001                 4   \n",
              "17            1              poly           0.0001                 4   \n",
              "34         1000              poly            0.001                 4   \n",
              "33         1000              poly           0.0001                 3   \n",
              "5             1               rbf           0.0001               NaN   \n",
              "12            1              poly            0.001                 2   \n",
              "13            1              poly           0.0001                 2   \n",
              "29          100              poly           0.0001                 4   \n",
              "28          100              poly            0.001                 4   \n",
              "27          100              poly           0.0001                 3   \n",
              "26          100              poly            0.001                 3   \n",
              "25          100              poly           0.0001                 2   \n",
              "14            1              poly            0.001                 3   \n",
              "23           10              poly           0.0001                 4   \n",
              "22           10              poly            0.001                 4   \n",
              "21           10              poly           0.0001                 3   \n",
              "20           10              poly            0.001                 3   \n",
              "19           10              poly           0.0001                 2   \n",
              "15            1              poly           0.0001                 3   \n",
              "35         1000              poly           0.0001                 4   \n",
              "\n",
              "    mean_test_score  \n",
              "10         0.853750  \n",
              "1          0.853500  \n",
              "0          0.853375  \n",
              "2          0.853125  \n",
              "11         0.853000  \n",
              "3          0.852750  \n",
              "8          0.852750  \n",
              "9          0.842000  \n",
              "6          0.841875  \n",
              "30         0.839499  \n",
              "7          0.818125  \n",
              "4          0.817875  \n",
              "24         0.814250  \n",
              "32         0.740750  \n",
              "31         0.690875  \n",
              "18         0.690875  \n",
              "16         0.690625  \n",
              "17         0.690625  \n",
              "34         0.690625  \n",
              "33         0.690625  \n",
              "5          0.690625  \n",
              "12         0.690625  \n",
              "13         0.690625  \n",
              "29         0.690625  \n",
              "28         0.690625  \n",
              "27         0.690625  \n",
              "26         0.690625  \n",
              "25         0.690625  \n",
              "14         0.690625  \n",
              "23         0.690625  \n",
              "22         0.690625  \n",
              "21         0.690625  \n",
              "20         0.690625  \n",
              "19         0.690625  \n",
              "15         0.690625  \n",
              "35         0.690625  "
            ],
            "text/html": [
              "\n",
              "  <div id=\"df-7c58c7ee-c560-4dfb-a9b0-739971b1f5b6\">\n",
              "    <div class=\"colab-df-container\">\n",
              "      <div>\n",
              "<style scoped>\n",
              "    .dataframe tbody tr th:only-of-type {\n",
              "        vertical-align: middle;\n",
              "    }\n",
              "\n",
              "    .dataframe tbody tr th {\n",
              "        vertical-align: top;\n",
              "    }\n",
              "\n",
              "    .dataframe thead th {\n",
              "        text-align: right;\n",
              "    }\n",
              "</style>\n",
              "<table border=\"1\" class=\"dataframe\">\n",
              "  <thead>\n",
              "    <tr style=\"text-align: right;\">\n",
              "      <th></th>\n",
              "      <th>param_svm__C</th>\n",
              "      <th>param_svm__kernel</th>\n",
              "      <th>param_svm__gamma</th>\n",
              "      <th>param_svm__degree</th>\n",
              "      <th>mean_test_score</th>\n",
              "    </tr>\n",
              "  </thead>\n",
              "  <tbody>\n",
              "    <tr>\n",
              "      <th>10</th>\n",
              "      <td>1000</td>\n",
              "      <td>rbf</td>\n",
              "      <td>0.001</td>\n",
              "      <td>NaN</td>\n",
              "      <td>0.853750</td>\n",
              "    </tr>\n",
              "    <tr>\n",
              "      <th>1</th>\n",
              "      <td>10</td>\n",
              "      <td>linear</td>\n",
              "      <td>NaN</td>\n",
              "      <td>NaN</td>\n",
              "      <td>0.853500</td>\n",
              "    </tr>\n",
              "    <tr>\n",
              "      <th>0</th>\n",
              "      <td>1</td>\n",
              "      <td>linear</td>\n",
              "      <td>NaN</td>\n",
              "      <td>NaN</td>\n",
              "      <td>0.853375</td>\n",
              "    </tr>\n",
              "    <tr>\n",
              "      <th>2</th>\n",
              "      <td>100</td>\n",
              "      <td>linear</td>\n",
              "      <td>NaN</td>\n",
              "      <td>NaN</td>\n",
              "      <td>0.853125</td>\n",
              "    </tr>\n",
              "    <tr>\n",
              "      <th>11</th>\n",
              "      <td>1000</td>\n",
              "      <td>rbf</td>\n",
              "      <td>0.0001</td>\n",
              "      <td>NaN</td>\n",
              "      <td>0.853000</td>\n",
              "    </tr>\n",
              "    <tr>\n",
              "      <th>3</th>\n",
              "      <td>1000</td>\n",
              "      <td>linear</td>\n",
              "      <td>NaN</td>\n",
              "      <td>NaN</td>\n",
              "      <td>0.852750</td>\n",
              "    </tr>\n",
              "    <tr>\n",
              "      <th>8</th>\n",
              "      <td>100</td>\n",
              "      <td>rbf</td>\n",
              "      <td>0.001</td>\n",
              "      <td>NaN</td>\n",
              "      <td>0.852750</td>\n",
              "    </tr>\n",
              "    <tr>\n",
              "      <th>9</th>\n",
              "      <td>100</td>\n",
              "      <td>rbf</td>\n",
              "      <td>0.0001</td>\n",
              "      <td>NaN</td>\n",
              "      <td>0.842000</td>\n",
              "    </tr>\n",
              "    <tr>\n",
              "      <th>6</th>\n",
              "      <td>10</td>\n",
              "      <td>rbf</td>\n",
              "      <td>0.001</td>\n",
              "      <td>NaN</td>\n",
              "      <td>0.841875</td>\n",
              "    </tr>\n",
              "    <tr>\n",
              "      <th>30</th>\n",
              "      <td>1000</td>\n",
              "      <td>poly</td>\n",
              "      <td>0.001</td>\n",
              "      <td>2</td>\n",
              "      <td>0.839499</td>\n",
              "    </tr>\n",
              "    <tr>\n",
              "      <th>7</th>\n",
              "      <td>10</td>\n",
              "      <td>rbf</td>\n",
              "      <td>0.0001</td>\n",
              "      <td>NaN</td>\n",
              "      <td>0.818125</td>\n",
              "    </tr>\n",
              "    <tr>\n",
              "      <th>4</th>\n",
              "      <td>1</td>\n",
              "      <td>rbf</td>\n",
              "      <td>0.001</td>\n",
              "      <td>NaN</td>\n",
              "      <td>0.817875</td>\n",
              "    </tr>\n",
              "    <tr>\n",
              "      <th>24</th>\n",
              "      <td>100</td>\n",
              "      <td>poly</td>\n",
              "      <td>0.001</td>\n",
              "      <td>2</td>\n",
              "      <td>0.814250</td>\n",
              "    </tr>\n",
              "    <tr>\n",
              "      <th>32</th>\n",
              "      <td>1000</td>\n",
              "      <td>poly</td>\n",
              "      <td>0.001</td>\n",
              "      <td>3</td>\n",
              "      <td>0.740750</td>\n",
              "    </tr>\n",
              "    <tr>\n",
              "      <th>31</th>\n",
              "      <td>1000</td>\n",
              "      <td>poly</td>\n",
              "      <td>0.0001</td>\n",
              "      <td>2</td>\n",
              "      <td>0.690875</td>\n",
              "    </tr>\n",
              "    <tr>\n",
              "      <th>18</th>\n",
              "      <td>10</td>\n",
              "      <td>poly</td>\n",
              "      <td>0.001</td>\n",
              "      <td>2</td>\n",
              "      <td>0.690875</td>\n",
              "    </tr>\n",
              "    <tr>\n",
              "      <th>16</th>\n",
              "      <td>1</td>\n",
              "      <td>poly</td>\n",
              "      <td>0.001</td>\n",
              "      <td>4</td>\n",
              "      <td>0.690625</td>\n",
              "    </tr>\n",
              "    <tr>\n",
              "      <th>17</th>\n",
              "      <td>1</td>\n",
              "      <td>poly</td>\n",
              "      <td>0.0001</td>\n",
              "      <td>4</td>\n",
              "      <td>0.690625</td>\n",
              "    </tr>\n",
              "    <tr>\n",
              "      <th>34</th>\n",
              "      <td>1000</td>\n",
              "      <td>poly</td>\n",
              "      <td>0.001</td>\n",
              "      <td>4</td>\n",
              "      <td>0.690625</td>\n",
              "    </tr>\n",
              "    <tr>\n",
              "      <th>33</th>\n",
              "      <td>1000</td>\n",
              "      <td>poly</td>\n",
              "      <td>0.0001</td>\n",
              "      <td>3</td>\n",
              "      <td>0.690625</td>\n",
              "    </tr>\n",
              "    <tr>\n",
              "      <th>5</th>\n",
              "      <td>1</td>\n",
              "      <td>rbf</td>\n",
              "      <td>0.0001</td>\n",
              "      <td>NaN</td>\n",
              "      <td>0.690625</td>\n",
              "    </tr>\n",
              "    <tr>\n",
              "      <th>12</th>\n",
              "      <td>1</td>\n",
              "      <td>poly</td>\n",
              "      <td>0.001</td>\n",
              "      <td>2</td>\n",
              "      <td>0.690625</td>\n",
              "    </tr>\n",
              "    <tr>\n",
              "      <th>13</th>\n",
              "      <td>1</td>\n",
              "      <td>poly</td>\n",
              "      <td>0.0001</td>\n",
              "      <td>2</td>\n",
              "      <td>0.690625</td>\n",
              "    </tr>\n",
              "    <tr>\n",
              "      <th>29</th>\n",
              "      <td>100</td>\n",
              "      <td>poly</td>\n",
              "      <td>0.0001</td>\n",
              "      <td>4</td>\n",
              "      <td>0.690625</td>\n",
              "    </tr>\n",
              "    <tr>\n",
              "      <th>28</th>\n",
              "      <td>100</td>\n",
              "      <td>poly</td>\n",
              "      <td>0.001</td>\n",
              "      <td>4</td>\n",
              "      <td>0.690625</td>\n",
              "    </tr>\n",
              "    <tr>\n",
              "      <th>27</th>\n",
              "      <td>100</td>\n",
              "      <td>poly</td>\n",
              "      <td>0.0001</td>\n",
              "      <td>3</td>\n",
              "      <td>0.690625</td>\n",
              "    </tr>\n",
              "    <tr>\n",
              "      <th>26</th>\n",
              "      <td>100</td>\n",
              "      <td>poly</td>\n",
              "      <td>0.001</td>\n",
              "      <td>3</td>\n",
              "      <td>0.690625</td>\n",
              "    </tr>\n",
              "    <tr>\n",
              "      <th>25</th>\n",
              "      <td>100</td>\n",
              "      <td>poly</td>\n",
              "      <td>0.0001</td>\n",
              "      <td>2</td>\n",
              "      <td>0.690625</td>\n",
              "    </tr>\n",
              "    <tr>\n",
              "      <th>14</th>\n",
              "      <td>1</td>\n",
              "      <td>poly</td>\n",
              "      <td>0.001</td>\n",
              "      <td>3</td>\n",
              "      <td>0.690625</td>\n",
              "    </tr>\n",
              "    <tr>\n",
              "      <th>23</th>\n",
              "      <td>10</td>\n",
              "      <td>poly</td>\n",
              "      <td>0.0001</td>\n",
              "      <td>4</td>\n",
              "      <td>0.690625</td>\n",
              "    </tr>\n",
              "    <tr>\n",
              "      <th>22</th>\n",
              "      <td>10</td>\n",
              "      <td>poly</td>\n",
              "      <td>0.001</td>\n",
              "      <td>4</td>\n",
              "      <td>0.690625</td>\n",
              "    </tr>\n",
              "    <tr>\n",
              "      <th>21</th>\n",
              "      <td>10</td>\n",
              "      <td>poly</td>\n",
              "      <td>0.0001</td>\n",
              "      <td>3</td>\n",
              "      <td>0.690625</td>\n",
              "    </tr>\n",
              "    <tr>\n",
              "      <th>20</th>\n",
              "      <td>10</td>\n",
              "      <td>poly</td>\n",
              "      <td>0.001</td>\n",
              "      <td>3</td>\n",
              "      <td>0.690625</td>\n",
              "    </tr>\n",
              "    <tr>\n",
              "      <th>19</th>\n",
              "      <td>10</td>\n",
              "      <td>poly</td>\n",
              "      <td>0.0001</td>\n",
              "      <td>2</td>\n",
              "      <td>0.690625</td>\n",
              "    </tr>\n",
              "    <tr>\n",
              "      <th>15</th>\n",
              "      <td>1</td>\n",
              "      <td>poly</td>\n",
              "      <td>0.0001</td>\n",
              "      <td>3</td>\n",
              "      <td>0.690625</td>\n",
              "    </tr>\n",
              "    <tr>\n",
              "      <th>35</th>\n",
              "      <td>1000</td>\n",
              "      <td>poly</td>\n",
              "      <td>0.0001</td>\n",
              "      <td>4</td>\n",
              "      <td>0.690625</td>\n",
              "    </tr>\n",
              "  </tbody>\n",
              "</table>\n",
              "</div>\n",
              "      <button class=\"colab-df-convert\" onclick=\"convertToInteractive('df-7c58c7ee-c560-4dfb-a9b0-739971b1f5b6')\"\n",
              "              title=\"Convert this dataframe to an interactive table.\"\n",
              "              style=\"display:none;\">\n",
              "        \n",
              "  <svg xmlns=\"http://www.w3.org/2000/svg\" height=\"24px\"viewBox=\"0 0 24 24\"\n",
              "       width=\"24px\">\n",
              "    <path d=\"M0 0h24v24H0V0z\" fill=\"none\"/>\n",
              "    <path d=\"M18.56 5.44l.94 2.06.94-2.06 2.06-.94-2.06-.94-.94-2.06-.94 2.06-2.06.94zm-11 1L8.5 8.5l.94-2.06 2.06-.94-2.06-.94L8.5 2.5l-.94 2.06-2.06.94zm10 10l.94 2.06.94-2.06 2.06-.94-2.06-.94-.94-2.06-.94 2.06-2.06.94z\"/><path d=\"M17.41 7.96l-1.37-1.37c-.4-.4-.92-.59-1.43-.59-.52 0-1.04.2-1.43.59L10.3 9.45l-7.72 7.72c-.78.78-.78 2.05 0 2.83L4 21.41c.39.39.9.59 1.41.59.51 0 1.02-.2 1.41-.59l7.78-7.78 2.81-2.81c.8-.78.8-2.07 0-2.86zM5.41 20L4 18.59l7.72-7.72 1.47 1.35L5.41 20z\"/>\n",
              "  </svg>\n",
              "      </button>\n",
              "      \n",
              "  <style>\n",
              "    .colab-df-container {\n",
              "      display:flex;\n",
              "      flex-wrap:wrap;\n",
              "      gap: 12px;\n",
              "    }\n",
              "\n",
              "    .colab-df-convert {\n",
              "      background-color: #E8F0FE;\n",
              "      border: none;\n",
              "      border-radius: 50%;\n",
              "      cursor: pointer;\n",
              "      display: none;\n",
              "      fill: #1967D2;\n",
              "      height: 32px;\n",
              "      padding: 0 0 0 0;\n",
              "      width: 32px;\n",
              "    }\n",
              "\n",
              "    .colab-df-convert:hover {\n",
              "      background-color: #E2EBFA;\n",
              "      box-shadow: 0px 1px 2px rgba(60, 64, 67, 0.3), 0px 1px 3px 1px rgba(60, 64, 67, 0.15);\n",
              "      fill: #174EA6;\n",
              "    }\n",
              "\n",
              "    [theme=dark] .colab-df-convert {\n",
              "      background-color: #3B4455;\n",
              "      fill: #D2E3FC;\n",
              "    }\n",
              "\n",
              "    [theme=dark] .colab-df-convert:hover {\n",
              "      background-color: #434B5C;\n",
              "      box-shadow: 0px 1px 3px 1px rgba(0, 0, 0, 0.15);\n",
              "      filter: drop-shadow(0px 1px 2px rgba(0, 0, 0, 0.3));\n",
              "      fill: #FFFFFF;\n",
              "    }\n",
              "  </style>\n",
              "\n",
              "      <script>\n",
              "        const buttonEl =\n",
              "          document.querySelector('#df-7c58c7ee-c560-4dfb-a9b0-739971b1f5b6 button.colab-df-convert');\n",
              "        buttonEl.style.display =\n",
              "          google.colab.kernel.accessAllowed ? 'block' : 'none';\n",
              "\n",
              "        async function convertToInteractive(key) {\n",
              "          const element = document.querySelector('#df-7c58c7ee-c560-4dfb-a9b0-739971b1f5b6');\n",
              "          const dataTable =\n",
              "            await google.colab.kernel.invokeFunction('convertToInteractive',\n",
              "                                                     [key], {});\n",
              "          if (!dataTable) return;\n",
              "\n",
              "          const docLinkHtml = 'Like what you see? Visit the ' +\n",
              "            '<a target=\"_blank\" href=https://colab.research.google.com/notebooks/data_table.ipynb>data table notebook</a>'\n",
              "            + ' to learn more about interactive tables.';\n",
              "          element.innerHTML = '';\n",
              "          dataTable['output_type'] = 'display_data';\n",
              "          await google.colab.output.renderOutput(dataTable, element);\n",
              "          const docLink = document.createElement('div');\n",
              "          docLink.innerHTML = docLinkHtml;\n",
              "          element.appendChild(docLink);\n",
              "        }\n",
              "      </script>\n",
              "    </div>\n",
              "  </div>\n",
              "  "
            ]
          },
          "metadata": {},
          "execution_count": 51
        }
      ],
      "source": [
        "from sklearn.model_selection import GridSearchCV\n",
        "\n",
        "svm_pipeline = Pipeline([\n",
        "    (\"preprocess_pipeline\", preprocessing),\n",
        "    (\"svm\", SVC()),\n",
        "])\n",
        "\n",
        "param_grid = [\n",
        "  {'svm__kernel': ['linear'], 'svm__C': [1, 10, 100, 1000]},\n",
        "  {'svm__kernel': ['rbf'], 'svm__C': [1, 10, 100, 1000], 'svm__gamma': [0.001, 0.0001]},\n",
        "  {'svm__kernel': ['poly'], 'svm__C': [1, 10, 100, 1000], 'svm__gamma': [0.001, 0.0001], 'svm__degree': [2, 3, 4]},\n",
        "]\n",
        "\n",
        "grid_search = GridSearchCV(svm_pipeline, param_grid, cv=3, scoring='accuracy')\n",
        "grid_search.fit(df_X, df_y)\n",
        "print('The best parameters are ', grid_search.best_params_)\n",
        "\n",
        "grid_cv_res = pd.DataFrame(grid_search.cv_results_)\n",
        "grid_cv_res.sort_values(by=\"mean_test_score\", ascending=False, inplace=True)\n",
        "grid_cv_res.filter(regex = '(^param_|mean_test_score)', axis=1)"
      ]
    },
    {
      "cell_type": "markdown",
      "metadata": {
        "id": "9oJq98isSPni"
      },
      "source": [
        "## Halving Grid Search##"
      ]
    },
    {
      "cell_type": "code",
      "execution_count": null,
      "metadata": {
        "id": "3CKa_Y5uBpSR",
        "colab": {
          "base_uri": "https://localhost:8080/"
        },
        "outputId": "2381b3ee-7878-46da-9ced-b86e120396a3"
      },
      "outputs": [
        {
          "output_type": "stream",
          "name": "stdout",
          "text": [
            "The best parameters are  {'svm__C': 10, 'svm__kernel': 'linear'}\n"
          ]
        },
        {
          "output_type": "execute_result",
          "data": {
            "text/plain": [
              "    iter  n_resources param_svm__C param_svm__kernel param_svm__gamma  \\\n",
              "53     3         7992           10            linear              NaN   \n",
              "52     3         7992          100            linear              NaN   \n",
              "49     2         2664           10            linear              NaN   \n",
              "50     2         2664          100            linear              NaN   \n",
              "48     2         2664         1000               rbf            0.001   \n",
              "51     2         2664            1            linear              NaN   \n",
              "\n",
              "   param_svm__degree  mean_test_score  \n",
              "53               NaN         0.823043  \n",
              "52               NaN         0.822973  \n",
              "49               NaN         0.815658  \n",
              "50               NaN         0.815598  \n",
              "48               NaN         0.814820  \n",
              "51               NaN         0.813836  "
            ],
            "text/html": [
              "\n",
              "  <div id=\"df-2a6374dc-21cb-4e2b-96a3-e6ab15ed86cb\">\n",
              "    <div class=\"colab-df-container\">\n",
              "      <div>\n",
              "<style scoped>\n",
              "    .dataframe tbody tr th:only-of-type {\n",
              "        vertical-align: middle;\n",
              "    }\n",
              "\n",
              "    .dataframe tbody tr th {\n",
              "        vertical-align: top;\n",
              "    }\n",
              "\n",
              "    .dataframe thead th {\n",
              "        text-align: right;\n",
              "    }\n",
              "</style>\n",
              "<table border=\"1\" class=\"dataframe\">\n",
              "  <thead>\n",
              "    <tr style=\"text-align: right;\">\n",
              "      <th></th>\n",
              "      <th>iter</th>\n",
              "      <th>n_resources</th>\n",
              "      <th>param_svm__C</th>\n",
              "      <th>param_svm__kernel</th>\n",
              "      <th>param_svm__gamma</th>\n",
              "      <th>param_svm__degree</th>\n",
              "      <th>mean_test_score</th>\n",
              "    </tr>\n",
              "  </thead>\n",
              "  <tbody>\n",
              "    <tr>\n",
              "      <th>53</th>\n",
              "      <td>3</td>\n",
              "      <td>7992</td>\n",
              "      <td>10</td>\n",
              "      <td>linear</td>\n",
              "      <td>NaN</td>\n",
              "      <td>NaN</td>\n",
              "      <td>0.823043</td>\n",
              "    </tr>\n",
              "    <tr>\n",
              "      <th>52</th>\n",
              "      <td>3</td>\n",
              "      <td>7992</td>\n",
              "      <td>100</td>\n",
              "      <td>linear</td>\n",
              "      <td>NaN</td>\n",
              "      <td>NaN</td>\n",
              "      <td>0.822973</td>\n",
              "    </tr>\n",
              "    <tr>\n",
              "      <th>49</th>\n",
              "      <td>2</td>\n",
              "      <td>2664</td>\n",
              "      <td>10</td>\n",
              "      <td>linear</td>\n",
              "      <td>NaN</td>\n",
              "      <td>NaN</td>\n",
              "      <td>0.815658</td>\n",
              "    </tr>\n",
              "    <tr>\n",
              "      <th>50</th>\n",
              "      <td>2</td>\n",
              "      <td>2664</td>\n",
              "      <td>100</td>\n",
              "      <td>linear</td>\n",
              "      <td>NaN</td>\n",
              "      <td>NaN</td>\n",
              "      <td>0.815598</td>\n",
              "    </tr>\n",
              "    <tr>\n",
              "      <th>48</th>\n",
              "      <td>2</td>\n",
              "      <td>2664</td>\n",
              "      <td>1000</td>\n",
              "      <td>rbf</td>\n",
              "      <td>0.001</td>\n",
              "      <td>NaN</td>\n",
              "      <td>0.814820</td>\n",
              "    </tr>\n",
              "    <tr>\n",
              "      <th>51</th>\n",
              "      <td>2</td>\n",
              "      <td>2664</td>\n",
              "      <td>1</td>\n",
              "      <td>linear</td>\n",
              "      <td>NaN</td>\n",
              "      <td>NaN</td>\n",
              "      <td>0.813836</td>\n",
              "    </tr>\n",
              "  </tbody>\n",
              "</table>\n",
              "</div>\n",
              "      <button class=\"colab-df-convert\" onclick=\"convertToInteractive('df-2a6374dc-21cb-4e2b-96a3-e6ab15ed86cb')\"\n",
              "              title=\"Convert this dataframe to an interactive table.\"\n",
              "              style=\"display:none;\">\n",
              "        \n",
              "  <svg xmlns=\"http://www.w3.org/2000/svg\" height=\"24px\"viewBox=\"0 0 24 24\"\n",
              "       width=\"24px\">\n",
              "    <path d=\"M0 0h24v24H0V0z\" fill=\"none\"/>\n",
              "    <path d=\"M18.56 5.44l.94 2.06.94-2.06 2.06-.94-2.06-.94-.94-2.06-.94 2.06-2.06.94zm-11 1L8.5 8.5l.94-2.06 2.06-.94-2.06-.94L8.5 2.5l-.94 2.06-2.06.94zm10 10l.94 2.06.94-2.06 2.06-.94-2.06-.94-.94-2.06-.94 2.06-2.06.94z\"/><path d=\"M17.41 7.96l-1.37-1.37c-.4-.4-.92-.59-1.43-.59-.52 0-1.04.2-1.43.59L10.3 9.45l-7.72 7.72c-.78.78-.78 2.05 0 2.83L4 21.41c.39.39.9.59 1.41.59.51 0 1.02-.2 1.41-.59l7.78-7.78 2.81-2.81c.8-.78.8-2.07 0-2.86zM5.41 20L4 18.59l7.72-7.72 1.47 1.35L5.41 20z\"/>\n",
              "  </svg>\n",
              "      </button>\n",
              "      \n",
              "  <style>\n",
              "    .colab-df-container {\n",
              "      display:flex;\n",
              "      flex-wrap:wrap;\n",
              "      gap: 12px;\n",
              "    }\n",
              "\n",
              "    .colab-df-convert {\n",
              "      background-color: #E8F0FE;\n",
              "      border: none;\n",
              "      border-radius: 50%;\n",
              "      cursor: pointer;\n",
              "      display: none;\n",
              "      fill: #1967D2;\n",
              "      height: 32px;\n",
              "      padding: 0 0 0 0;\n",
              "      width: 32px;\n",
              "    }\n",
              "\n",
              "    .colab-df-convert:hover {\n",
              "      background-color: #E2EBFA;\n",
              "      box-shadow: 0px 1px 2px rgba(60, 64, 67, 0.3), 0px 1px 3px 1px rgba(60, 64, 67, 0.15);\n",
              "      fill: #174EA6;\n",
              "    }\n",
              "\n",
              "    [theme=dark] .colab-df-convert {\n",
              "      background-color: #3B4455;\n",
              "      fill: #D2E3FC;\n",
              "    }\n",
              "\n",
              "    [theme=dark] .colab-df-convert:hover {\n",
              "      background-color: #434B5C;\n",
              "      box-shadow: 0px 1px 3px 1px rgba(0, 0, 0, 0.15);\n",
              "      filter: drop-shadow(0px 1px 2px rgba(0, 0, 0, 0.3));\n",
              "      fill: #FFFFFF;\n",
              "    }\n",
              "  </style>\n",
              "\n",
              "      <script>\n",
              "        const buttonEl =\n",
              "          document.querySelector('#df-2a6374dc-21cb-4e2b-96a3-e6ab15ed86cb button.colab-df-convert');\n",
              "        buttonEl.style.display =\n",
              "          google.colab.kernel.accessAllowed ? 'block' : 'none';\n",
              "\n",
              "        async function convertToInteractive(key) {\n",
              "          const element = document.querySelector('#df-2a6374dc-21cb-4e2b-96a3-e6ab15ed86cb');\n",
              "          const dataTable =\n",
              "            await google.colab.kernel.invokeFunction('convertToInteractive',\n",
              "                                                     [key], {});\n",
              "          if (!dataTable) return;\n",
              "\n",
              "          const docLinkHtml = 'Like what you see? Visit the ' +\n",
              "            '<a target=\"_blank\" href=https://colab.research.google.com/notebooks/data_table.ipynb>data table notebook</a>'\n",
              "            + ' to learn more about interactive tables.';\n",
              "          element.innerHTML = '';\n",
              "          dataTable['output_type'] = 'display_data';\n",
              "          await google.colab.output.renderOutput(dataTable, element);\n",
              "          const docLink = document.createElement('div');\n",
              "          docLink.innerHTML = docLinkHtml;\n",
              "          element.appendChild(docLink);\n",
              "        }\n",
              "      </script>\n",
              "    </div>\n",
              "  </div>\n",
              "  "
            ]
          },
          "metadata": {},
          "execution_count": 52
        }
      ],
      "source": [
        "from sklearn.experimental import enable_halving_search_cv\n",
        "from sklearn.model_selection import HalvingGridSearchCV\n",
        "\n",
        "svm_pipeline = Pipeline([\n",
        "    (\"preprocess_pipeline\", preprocessing),\n",
        "    (\"svm\", SVC()),\n",
        "])\n",
        "param_grid = [\n",
        "  {'svm__kernel': ['linear'], 'svm__C': [1, 10, 100, 1000]},\n",
        "  {'svm__kernel': ['rbf'], 'svm__C': [1, 10, 100, 1000], 'svm__gamma': [0.001, 0.0001]},\n",
        "  {'svm__kernel': ['poly'], 'svm__C': [1, 10, 100, 1000], 'svm__gamma': [0.001, 0.0001], 'svm__degree': [2, 3, 4]},\n",
        "]\n",
        "\n",
        "halving_grid_search = HalvingGridSearchCV(svm_pipeline, param_grid, cv=3, \n",
        "                                    min_resources='exhaust', \n",
        "                                    scoring='balanced_accuracy')\n",
        "halving_grid_search.fit(df_X, df_y)\n",
        "print('The best parameters are ', halving_grid_search.best_params_)\n",
        "\n",
        "halving_grid_cv_res = pd.DataFrame(halving_grid_search.cv_results_)  \n",
        "halving_grid_cv_res.sort_values(by=['iter', 'mean_test_score'], ascending=False, inplace=True)\n",
        "halving_grid_cv_res.filter(regex = '(iter|^param_|mean_test_score|n_resources)', axis=1).head(6)"
      ]
    },
    {
      "cell_type": "markdown",
      "metadata": {
        "id": "fKvZnmaVSYQi"
      },
      "source": [
        "## Parameter Selection##\n"
      ]
    },
    {
      "cell_type": "markdown",
      "metadata": {
        "id": "F2UKNY3zTrlp"
      },
      "source": [
        "### Top SVM Grid Search Parameter ###"
      ]
    },
    {
      "cell_type": "code",
      "execution_count": null,
      "metadata": {
        "id": "zTcKdDPNSkBL",
        "colab": {
          "base_uri": "https://localhost:8080/"
        },
        "outputId": "a99717af-14f9-433e-df96-3084e5fe381b"
      },
      "outputs": [
        {
          "output_type": "execute_result",
          "data": {
            "text/plain": [
              "SVC(C=1000, gamma=0.001)"
            ],
            "text/html": [
              "<style>#sk-e0c093e1-c2f1-4420-a303-96c46bd18130 {color: black;background-color: white;}#sk-e0c093e1-c2f1-4420-a303-96c46bd18130 pre{padding: 0;}#sk-e0c093e1-c2f1-4420-a303-96c46bd18130 div.sk-toggleable {background-color: white;}#sk-e0c093e1-c2f1-4420-a303-96c46bd18130 label.sk-toggleable__label {cursor: pointer;display: block;width: 100%;margin-bottom: 0;padding: 0.3em;box-sizing: border-box;text-align: center;}#sk-e0c093e1-c2f1-4420-a303-96c46bd18130 label.sk-toggleable__label-arrow:before {content: \"▸\";float: left;margin-right: 0.25em;color: #696969;}#sk-e0c093e1-c2f1-4420-a303-96c46bd18130 label.sk-toggleable__label-arrow:hover:before {color: black;}#sk-e0c093e1-c2f1-4420-a303-96c46bd18130 div.sk-estimator:hover label.sk-toggleable__label-arrow:before {color: black;}#sk-e0c093e1-c2f1-4420-a303-96c46bd18130 div.sk-toggleable__content {max-height: 0;max-width: 0;overflow: hidden;text-align: left;background-color: #f0f8ff;}#sk-e0c093e1-c2f1-4420-a303-96c46bd18130 div.sk-toggleable__content pre {margin: 0.2em;color: black;border-radius: 0.25em;background-color: #f0f8ff;}#sk-e0c093e1-c2f1-4420-a303-96c46bd18130 input.sk-toggleable__control:checked~div.sk-toggleable__content {max-height: 200px;max-width: 100%;overflow: auto;}#sk-e0c093e1-c2f1-4420-a303-96c46bd18130 input.sk-toggleable__control:checked~label.sk-toggleable__label-arrow:before {content: \"▾\";}#sk-e0c093e1-c2f1-4420-a303-96c46bd18130 div.sk-estimator input.sk-toggleable__control:checked~label.sk-toggleable__label {background-color: #d4ebff;}#sk-e0c093e1-c2f1-4420-a303-96c46bd18130 div.sk-label input.sk-toggleable__control:checked~label.sk-toggleable__label {background-color: #d4ebff;}#sk-e0c093e1-c2f1-4420-a303-96c46bd18130 input.sk-hidden--visually {border: 0;clip: rect(1px 1px 1px 1px);clip: rect(1px, 1px, 1px, 1px);height: 1px;margin: -1px;overflow: hidden;padding: 0;position: absolute;width: 1px;}#sk-e0c093e1-c2f1-4420-a303-96c46bd18130 div.sk-estimator {font-family: monospace;background-color: #f0f8ff;border: 1px dotted black;border-radius: 0.25em;box-sizing: border-box;margin-bottom: 0.5em;}#sk-e0c093e1-c2f1-4420-a303-96c46bd18130 div.sk-estimator:hover {background-color: #d4ebff;}#sk-e0c093e1-c2f1-4420-a303-96c46bd18130 div.sk-parallel-item::after {content: \"\";width: 100%;border-bottom: 1px solid gray;flex-grow: 1;}#sk-e0c093e1-c2f1-4420-a303-96c46bd18130 div.sk-label:hover label.sk-toggleable__label {background-color: #d4ebff;}#sk-e0c093e1-c2f1-4420-a303-96c46bd18130 div.sk-serial::before {content: \"\";position: absolute;border-left: 1px solid gray;box-sizing: border-box;top: 2em;bottom: 0;left: 50%;}#sk-e0c093e1-c2f1-4420-a303-96c46bd18130 div.sk-serial {display: flex;flex-direction: column;align-items: center;background-color: white;padding-right: 0.2em;padding-left: 0.2em;}#sk-e0c093e1-c2f1-4420-a303-96c46bd18130 div.sk-item {z-index: 1;}#sk-e0c093e1-c2f1-4420-a303-96c46bd18130 div.sk-parallel {display: flex;align-items: stretch;justify-content: center;background-color: white;}#sk-e0c093e1-c2f1-4420-a303-96c46bd18130 div.sk-parallel::before {content: \"\";position: absolute;border-left: 1px solid gray;box-sizing: border-box;top: 2em;bottom: 0;left: 50%;}#sk-e0c093e1-c2f1-4420-a303-96c46bd18130 div.sk-parallel-item {display: flex;flex-direction: column;position: relative;background-color: white;}#sk-e0c093e1-c2f1-4420-a303-96c46bd18130 div.sk-parallel-item:first-child::after {align-self: flex-end;width: 50%;}#sk-e0c093e1-c2f1-4420-a303-96c46bd18130 div.sk-parallel-item:last-child::after {align-self: flex-start;width: 50%;}#sk-e0c093e1-c2f1-4420-a303-96c46bd18130 div.sk-parallel-item:only-child::after {width: 0;}#sk-e0c093e1-c2f1-4420-a303-96c46bd18130 div.sk-dashed-wrapped {border: 1px dashed gray;margin: 0 0.4em 0.5em 0.4em;box-sizing: border-box;padding-bottom: 0.4em;background-color: white;position: relative;}#sk-e0c093e1-c2f1-4420-a303-96c46bd18130 div.sk-label label {font-family: monospace;font-weight: bold;background-color: white;display: inline-block;line-height: 1.2em;}#sk-e0c093e1-c2f1-4420-a303-96c46bd18130 div.sk-label-container {position: relative;z-index: 2;text-align: center;}#sk-e0c093e1-c2f1-4420-a303-96c46bd18130 div.sk-container {/* jupyter's `normalize.less` sets `[hidden] { display: none; }` but bootstrap.min.css set `[hidden] { display: none !important; }` so we also need the `!important` here to be able to override the default hidden behavior on the sphinx rendered scikit-learn.org. See: https://github.com/scikit-learn/scikit-learn/issues/21755 */display: inline-block !important;position: relative;}#sk-e0c093e1-c2f1-4420-a303-96c46bd18130 div.sk-text-repr-fallback {display: none;}</style><div id=\"sk-e0c093e1-c2f1-4420-a303-96c46bd18130\" class=\"sk-top-container\"><div class=\"sk-text-repr-fallback\"><pre>SVC(C=1000, gamma=0.001)</pre><b>Please rerun this cell to show the HTML repr or trust the notebook.</b></div><div class=\"sk-container\" hidden><div class=\"sk-item\"><div class=\"sk-estimator sk-toggleable\"><input class=\"sk-toggleable__control sk-hidden--visually\" id=\"1cef2fa7-4704-4150-9a96-e22c63727730\" type=\"checkbox\" checked><label for=\"1cef2fa7-4704-4150-9a96-e22c63727730\" class=\"sk-toggleable__label sk-toggleable__label-arrow\">SVC</label><div class=\"sk-toggleable__content\"><pre>SVC(C=1000, gamma=0.001)</pre></div></div></div></div></div>"
            ]
          },
          "metadata": {},
          "execution_count": 53
        }
      ],
      "source": [
        "from sklearn.svm import SVC\n",
        "SVC_g = SVC(C=1000,kernel = 'rbf',gamma = 0.001)\n",
        "SVC_g.fit(X_train, y_train)"
      ]
    },
    {
      "cell_type": "code",
      "execution_count": null,
      "metadata": {
        "id": "awJNI1zuXhtp",
        "colab": {
          "base_uri": "https://localhost:8080/"
        },
        "outputId": "1afc6f25-366a-4660-f9d8-19b462bb078a"
      },
      "outputs": [
        {
          "output_type": "stream",
          "name": "stdout",
          "text": [
            "Accuracy score is:  0.836\n",
            "balanced accuracy score is:  0.812\n"
          ]
        }
      ],
      "source": [
        "y_pred = SVC_g.predict(X_test)\n",
        "\n",
        "acc = acc.append({'Model' : 'SVM_Grid', \n",
        "                  'Accuracy_Score' : accuracy_score(test_set[\"OUTCOME\"], y_pred), \n",
        "                  'Balanced_Accuracy_Score':balanced_accuracy_score(test_set[\"OUTCOME\"], y_pred).round(4)},\n",
        "                  ignore_index = True)\n",
        "\n",
        "print('Accuracy score is: ',accuracy_score(test_set[\"OUTCOME\"], y_pred))\n",
        "print('balanced accuracy score is: ',balanced_accuracy_score(test_set[\"OUTCOME\"], y_pred).round(4))"
      ]
    },
    {
      "cell_type": "code",
      "execution_count": null,
      "metadata": {
        "id": "S-1pDNLFXvHn",
        "colab": {
          "base_uri": "https://localhost:8080/"
        },
        "outputId": "80af45dd-b0ab-4b82-ba42-c9d468daf098"
      },
      "outputs": [
        {
          "output_type": "execute_result",
          "data": {
            "text/plain": [
              "0.831"
            ]
          },
          "metadata": {},
          "execution_count": 55
        }
      ],
      "source": [
        "#cross validation score\n",
        "from sklearn.model_selection import cross_val_score\n",
        "svm_g_scores = cross_val_score(SVC_g, X_train, y_train, cv=10, scoring='balanced_accuracy')\n",
        "\n",
        "cv_mean = cv_mean.append({'Model' : 'SVM_Grid', 'Score' : svm_g_scores.mean().round(3)},ignore_index = True)\n",
        "\n",
        "svm_g_scores.mean().round(3)"
      ]
    },
    {
      "cell_type": "markdown",
      "metadata": {
        "id": "_OpKcX_LUU1x"
      },
      "source": [
        "### Top SVM Halving Grid Search Parameter ###"
      ]
    },
    {
      "cell_type": "code",
      "execution_count": null,
      "metadata": {
        "id": "HB7qqiw-YmjD",
        "colab": {
          "base_uri": "https://localhost:8080/"
        },
        "outputId": "6a26dc71-802c-4645-fd01-1717267128a1"
      },
      "outputs": [
        {
          "output_type": "execute_result",
          "data": {
            "text/plain": [
              "SVC(C=100, kernel='linear')"
            ],
            "text/html": [
              "<style>#sk-b8e7b21d-d49d-4023-9996-a73753b1ddbe {color: black;background-color: white;}#sk-b8e7b21d-d49d-4023-9996-a73753b1ddbe pre{padding: 0;}#sk-b8e7b21d-d49d-4023-9996-a73753b1ddbe div.sk-toggleable {background-color: white;}#sk-b8e7b21d-d49d-4023-9996-a73753b1ddbe label.sk-toggleable__label {cursor: pointer;display: block;width: 100%;margin-bottom: 0;padding: 0.3em;box-sizing: border-box;text-align: center;}#sk-b8e7b21d-d49d-4023-9996-a73753b1ddbe label.sk-toggleable__label-arrow:before {content: \"▸\";float: left;margin-right: 0.25em;color: #696969;}#sk-b8e7b21d-d49d-4023-9996-a73753b1ddbe label.sk-toggleable__label-arrow:hover:before {color: black;}#sk-b8e7b21d-d49d-4023-9996-a73753b1ddbe div.sk-estimator:hover label.sk-toggleable__label-arrow:before {color: black;}#sk-b8e7b21d-d49d-4023-9996-a73753b1ddbe div.sk-toggleable__content {max-height: 0;max-width: 0;overflow: hidden;text-align: left;background-color: #f0f8ff;}#sk-b8e7b21d-d49d-4023-9996-a73753b1ddbe div.sk-toggleable__content pre {margin: 0.2em;color: black;border-radius: 0.25em;background-color: #f0f8ff;}#sk-b8e7b21d-d49d-4023-9996-a73753b1ddbe input.sk-toggleable__control:checked~div.sk-toggleable__content {max-height: 200px;max-width: 100%;overflow: auto;}#sk-b8e7b21d-d49d-4023-9996-a73753b1ddbe input.sk-toggleable__control:checked~label.sk-toggleable__label-arrow:before {content: \"▾\";}#sk-b8e7b21d-d49d-4023-9996-a73753b1ddbe div.sk-estimator input.sk-toggleable__control:checked~label.sk-toggleable__label {background-color: #d4ebff;}#sk-b8e7b21d-d49d-4023-9996-a73753b1ddbe div.sk-label input.sk-toggleable__control:checked~label.sk-toggleable__label {background-color: #d4ebff;}#sk-b8e7b21d-d49d-4023-9996-a73753b1ddbe input.sk-hidden--visually {border: 0;clip: rect(1px 1px 1px 1px);clip: rect(1px, 1px, 1px, 1px);height: 1px;margin: -1px;overflow: hidden;padding: 0;position: absolute;width: 1px;}#sk-b8e7b21d-d49d-4023-9996-a73753b1ddbe div.sk-estimator {font-family: monospace;background-color: #f0f8ff;border: 1px dotted black;border-radius: 0.25em;box-sizing: border-box;margin-bottom: 0.5em;}#sk-b8e7b21d-d49d-4023-9996-a73753b1ddbe div.sk-estimator:hover {background-color: #d4ebff;}#sk-b8e7b21d-d49d-4023-9996-a73753b1ddbe div.sk-parallel-item::after {content: \"\";width: 100%;border-bottom: 1px solid gray;flex-grow: 1;}#sk-b8e7b21d-d49d-4023-9996-a73753b1ddbe div.sk-label:hover label.sk-toggleable__label {background-color: #d4ebff;}#sk-b8e7b21d-d49d-4023-9996-a73753b1ddbe div.sk-serial::before {content: \"\";position: absolute;border-left: 1px solid gray;box-sizing: border-box;top: 2em;bottom: 0;left: 50%;}#sk-b8e7b21d-d49d-4023-9996-a73753b1ddbe div.sk-serial {display: flex;flex-direction: column;align-items: center;background-color: white;padding-right: 0.2em;padding-left: 0.2em;}#sk-b8e7b21d-d49d-4023-9996-a73753b1ddbe div.sk-item {z-index: 1;}#sk-b8e7b21d-d49d-4023-9996-a73753b1ddbe div.sk-parallel {display: flex;align-items: stretch;justify-content: center;background-color: white;}#sk-b8e7b21d-d49d-4023-9996-a73753b1ddbe div.sk-parallel::before {content: \"\";position: absolute;border-left: 1px solid gray;box-sizing: border-box;top: 2em;bottom: 0;left: 50%;}#sk-b8e7b21d-d49d-4023-9996-a73753b1ddbe div.sk-parallel-item {display: flex;flex-direction: column;position: relative;background-color: white;}#sk-b8e7b21d-d49d-4023-9996-a73753b1ddbe div.sk-parallel-item:first-child::after {align-self: flex-end;width: 50%;}#sk-b8e7b21d-d49d-4023-9996-a73753b1ddbe div.sk-parallel-item:last-child::after {align-self: flex-start;width: 50%;}#sk-b8e7b21d-d49d-4023-9996-a73753b1ddbe div.sk-parallel-item:only-child::after {width: 0;}#sk-b8e7b21d-d49d-4023-9996-a73753b1ddbe div.sk-dashed-wrapped {border: 1px dashed gray;margin: 0 0.4em 0.5em 0.4em;box-sizing: border-box;padding-bottom: 0.4em;background-color: white;position: relative;}#sk-b8e7b21d-d49d-4023-9996-a73753b1ddbe div.sk-label label {font-family: monospace;font-weight: bold;background-color: white;display: inline-block;line-height: 1.2em;}#sk-b8e7b21d-d49d-4023-9996-a73753b1ddbe div.sk-label-container {position: relative;z-index: 2;text-align: center;}#sk-b8e7b21d-d49d-4023-9996-a73753b1ddbe div.sk-container {/* jupyter's `normalize.less` sets `[hidden] { display: none; }` but bootstrap.min.css set `[hidden] { display: none !important; }` so we also need the `!important` here to be able to override the default hidden behavior on the sphinx rendered scikit-learn.org. See: https://github.com/scikit-learn/scikit-learn/issues/21755 */display: inline-block !important;position: relative;}#sk-b8e7b21d-d49d-4023-9996-a73753b1ddbe div.sk-text-repr-fallback {display: none;}</style><div id=\"sk-b8e7b21d-d49d-4023-9996-a73753b1ddbe\" class=\"sk-top-container\"><div class=\"sk-text-repr-fallback\"><pre>SVC(C=100, kernel=&#x27;linear&#x27;)</pre><b>Please rerun this cell to show the HTML repr or trust the notebook.</b></div><div class=\"sk-container\" hidden><div class=\"sk-item\"><div class=\"sk-estimator sk-toggleable\"><input class=\"sk-toggleable__control sk-hidden--visually\" id=\"f62eb3a9-afca-41e2-8c09-b5d422071d37\" type=\"checkbox\" checked><label for=\"f62eb3a9-afca-41e2-8c09-b5d422071d37\" class=\"sk-toggleable__label sk-toggleable__label-arrow\">SVC</label><div class=\"sk-toggleable__content\"><pre>SVC(C=100, kernel=&#x27;linear&#x27;)</pre></div></div></div></div></div>"
            ]
          },
          "metadata": {},
          "execution_count": 56
        }
      ],
      "source": [
        "from sklearn.svm import SVC\n",
        "SVC_h = SVC(C=100,kernel = 'linear')\n",
        "SVC_h.fit(X_train, y_train)"
      ]
    },
    {
      "cell_type": "code",
      "execution_count": null,
      "metadata": {
        "id": "QlvXTKlkYmjE",
        "colab": {
          "base_uri": "https://localhost:8080/"
        },
        "outputId": "a553e492-248c-4fbf-db64-c5f393b39a36"
      },
      "outputs": [
        {
          "output_type": "stream",
          "name": "stdout",
          "text": [
            "Accuracy score is:  0.8405\n",
            "balanced accuracy score is:  0.8165\n"
          ]
        }
      ],
      "source": [
        "y_pred = SVC_h.predict(X_test)\n",
        "\n",
        "acc = acc.append({'Model' : 'SVM_Halving', \n",
        "                  'Accuracy_Score' : accuracy_score(test_set[\"OUTCOME\"], y_pred), \n",
        "                  'Balanced_Accuracy_Score':balanced_accuracy_score(test_set[\"OUTCOME\"], y_pred).round(4)},\n",
        "                  ignore_index = True)\n",
        "\n",
        "print('Accuracy score is: ',accuracy_score(test_set[\"OUTCOME\"], y_pred))\n",
        "print('balanced accuracy score is: ',balanced_accuracy_score(test_set[\"OUTCOME\"], y_pred).round(4))"
      ]
    },
    {
      "cell_type": "code",
      "execution_count": null,
      "metadata": {
        "id": "shAT4fbnYmjF",
        "colab": {
          "base_uri": "https://localhost:8080/"
        },
        "outputId": "39be5066-4e88-4e9d-a603-ed4dbca7631b"
      },
      "outputs": [
        {
          "output_type": "execute_result",
          "data": {
            "text/plain": [
              "0.827"
            ]
          },
          "metadata": {},
          "execution_count": 58
        }
      ],
      "source": [
        "#cross validation score\n",
        "from sklearn.model_selection import cross_val_score\n",
        "svm_h_scores = cross_val_score(SVC_h, X_train, y_train, cv=10, scoring='balanced_accuracy')\n",
        "\n",
        "cv_mean = cv_mean.append({'Model' : 'SVM_Halving', 'Score' : svm_h_scores.mean().round(3)},ignore_index = True)\n",
        "\n",
        "svm_h_scores.mean().round(3)"
      ]
    },
    {
      "cell_type": "markdown",
      "metadata": {
        "id": "SgSnebABMldX"
      },
      "source": [
        "#**XGB**"
      ]
    },
    {
      "cell_type": "code",
      "execution_count": null,
      "metadata": {
        "id": "DzO3VyIKWQbR",
        "colab": {
          "base_uri": "https://localhost:8080/"
        },
        "outputId": "3d3d942e-19d6-4e07-cdc4-f3c03ea37751"
      },
      "outputs": [
        {
          "output_type": "execute_result",
          "data": {
            "text/plain": [
              "0.8"
            ]
          },
          "metadata": {},
          "execution_count": 59
        }
      ],
      "source": [
        "from sklearn.ensemble import GradientBoostingClassifier\n",
        "XGB_pipe = make_pipeline(preprocessing, GradientBoostingClassifier(n_estimators=100,learning_rate=1.0))\n",
        "XGB_scores = cross_val_score(XGB_pipe, df_X, df_y, cv=10, scoring='balanced_accuracy')\n",
        "\n",
        "cv_mean = cv_mean.append({'Model' : 'XGB_Default', 'Score' : XGB_scores.mean().round(3)},ignore_index = True)\n",
        "\n",
        "XGB_scores.mean().round(2)"
      ]
    },
    {
      "cell_type": "markdown",
      "metadata": {
        "id": "hZFqBkugZ6vJ"
      },
      "source": [
        "### Grid Search###"
      ]
    },
    {
      "cell_type": "code",
      "execution_count": null,
      "metadata": {
        "id": "lL3ILf-l8gnQ",
        "colab": {
          "base_uri": "https://localhost:8080/"
        },
        "outputId": "c7a8a534-e1a4-4b83-ff47-053fc738ff80"
      },
      "outputs": [
        {
          "output_type": "stream",
          "name": "stdout",
          "text": [
            "The best parameters are  {'learning_rate': 0.1, 'max_depth': 1, 'n_estimators': 1000}\n"
          ]
        },
        {
          "output_type": "execute_result",
          "data": {
            "text/plain": [
              "   mean_fit_time  std_fit_time  mean_score_time  std_score_time  \\\n",
              "5      10.802377      0.099072         0.025603        0.000979   \n",
              "1      11.046642      0.092982         0.028065        0.000661   \n",
              "6       4.032788      0.019449         0.017443        0.001505   \n",
              "3      81.318939      0.868853         0.164426        0.003563   \n",
              "4       0.553455      0.004449         0.009574        0.000430   \n",
              "\n",
              "  param_learning_rate param_max_depth param_n_estimators  \\\n",
              "5                 0.1               1               1000   \n",
              "1                0.01               1               1000   \n",
              "6                 0.1              10                 50   \n",
              "3                0.01              10               1000   \n",
              "4                 0.1               1                 50   \n",
              "\n",
              "                                              params  split0_test_score  \\\n",
              "5  {'learning_rate': 0.1, 'max_depth': 1, 'n_esti...           0.925045   \n",
              "1  {'learning_rate': 0.01, 'max_depth': 1, 'n_est...           0.918495   \n",
              "6  {'learning_rate': 0.1, 'max_depth': 10, 'n_est...           0.918030   \n",
              "3  {'learning_rate': 0.01, 'max_depth': 10, 'n_es...           0.914013   \n",
              "4  {'learning_rate': 0.1, 'max_depth': 1, 'n_esti...           0.903960   \n",
              "\n",
              "   split1_test_score  split2_test_score  split3_test_score  split4_test_score  \\\n",
              "5           0.917478           0.914851           0.936338           0.914611   \n",
              "1           0.907123           0.906459           0.930337           0.908582   \n",
              "6           0.906328           0.893143           0.915627           0.907986   \n",
              "3           0.903089           0.894032           0.913418           0.906108   \n",
              "4           0.891460           0.893987           0.917003           0.895152   \n",
              "\n",
              "   mean_test_score  std_test_score  rank_test_score  \n",
              "5         0.921665        0.008252                1  \n",
              "1         0.914199        0.009170                2  \n",
              "6         0.908223        0.008741                3  \n",
              "3         0.906132        0.007360                4  \n",
              "4         0.900312        0.009347                5  "
            ],
            "text/html": [
              "\n",
              "  <div id=\"df-f1ec7290-79e1-48b3-9c4f-5fe37a2fbdad\">\n",
              "    <div class=\"colab-df-container\">\n",
              "      <div>\n",
              "<style scoped>\n",
              "    .dataframe tbody tr th:only-of-type {\n",
              "        vertical-align: middle;\n",
              "    }\n",
              "\n",
              "    .dataframe tbody tr th {\n",
              "        vertical-align: top;\n",
              "    }\n",
              "\n",
              "    .dataframe thead th {\n",
              "        text-align: right;\n",
              "    }\n",
              "</style>\n",
              "<table border=\"1\" class=\"dataframe\">\n",
              "  <thead>\n",
              "    <tr style=\"text-align: right;\">\n",
              "      <th></th>\n",
              "      <th>mean_fit_time</th>\n",
              "      <th>std_fit_time</th>\n",
              "      <th>mean_score_time</th>\n",
              "      <th>std_score_time</th>\n",
              "      <th>param_learning_rate</th>\n",
              "      <th>param_max_depth</th>\n",
              "      <th>param_n_estimators</th>\n",
              "      <th>params</th>\n",
              "      <th>split0_test_score</th>\n",
              "      <th>split1_test_score</th>\n",
              "      <th>split2_test_score</th>\n",
              "      <th>split3_test_score</th>\n",
              "      <th>split4_test_score</th>\n",
              "      <th>mean_test_score</th>\n",
              "      <th>std_test_score</th>\n",
              "      <th>rank_test_score</th>\n",
              "    </tr>\n",
              "  </thead>\n",
              "  <tbody>\n",
              "    <tr>\n",
              "      <th>5</th>\n",
              "      <td>10.802377</td>\n",
              "      <td>0.099072</td>\n",
              "      <td>0.025603</td>\n",
              "      <td>0.000979</td>\n",
              "      <td>0.1</td>\n",
              "      <td>1</td>\n",
              "      <td>1000</td>\n",
              "      <td>{'learning_rate': 0.1, 'max_depth': 1, 'n_esti...</td>\n",
              "      <td>0.925045</td>\n",
              "      <td>0.917478</td>\n",
              "      <td>0.914851</td>\n",
              "      <td>0.936338</td>\n",
              "      <td>0.914611</td>\n",
              "      <td>0.921665</td>\n",
              "      <td>0.008252</td>\n",
              "      <td>1</td>\n",
              "    </tr>\n",
              "    <tr>\n",
              "      <th>1</th>\n",
              "      <td>11.046642</td>\n",
              "      <td>0.092982</td>\n",
              "      <td>0.028065</td>\n",
              "      <td>0.000661</td>\n",
              "      <td>0.01</td>\n",
              "      <td>1</td>\n",
              "      <td>1000</td>\n",
              "      <td>{'learning_rate': 0.01, 'max_depth': 1, 'n_est...</td>\n",
              "      <td>0.918495</td>\n",
              "      <td>0.907123</td>\n",
              "      <td>0.906459</td>\n",
              "      <td>0.930337</td>\n",
              "      <td>0.908582</td>\n",
              "      <td>0.914199</td>\n",
              "      <td>0.009170</td>\n",
              "      <td>2</td>\n",
              "    </tr>\n",
              "    <tr>\n",
              "      <th>6</th>\n",
              "      <td>4.032788</td>\n",
              "      <td>0.019449</td>\n",
              "      <td>0.017443</td>\n",
              "      <td>0.001505</td>\n",
              "      <td>0.1</td>\n",
              "      <td>10</td>\n",
              "      <td>50</td>\n",
              "      <td>{'learning_rate': 0.1, 'max_depth': 10, 'n_est...</td>\n",
              "      <td>0.918030</td>\n",
              "      <td>0.906328</td>\n",
              "      <td>0.893143</td>\n",
              "      <td>0.915627</td>\n",
              "      <td>0.907986</td>\n",
              "      <td>0.908223</td>\n",
              "      <td>0.008741</td>\n",
              "      <td>3</td>\n",
              "    </tr>\n",
              "    <tr>\n",
              "      <th>3</th>\n",
              "      <td>81.318939</td>\n",
              "      <td>0.868853</td>\n",
              "      <td>0.164426</td>\n",
              "      <td>0.003563</td>\n",
              "      <td>0.01</td>\n",
              "      <td>10</td>\n",
              "      <td>1000</td>\n",
              "      <td>{'learning_rate': 0.01, 'max_depth': 10, 'n_es...</td>\n",
              "      <td>0.914013</td>\n",
              "      <td>0.903089</td>\n",
              "      <td>0.894032</td>\n",
              "      <td>0.913418</td>\n",
              "      <td>0.906108</td>\n",
              "      <td>0.906132</td>\n",
              "      <td>0.007360</td>\n",
              "      <td>4</td>\n",
              "    </tr>\n",
              "    <tr>\n",
              "      <th>4</th>\n",
              "      <td>0.553455</td>\n",
              "      <td>0.004449</td>\n",
              "      <td>0.009574</td>\n",
              "      <td>0.000430</td>\n",
              "      <td>0.1</td>\n",
              "      <td>1</td>\n",
              "      <td>50</td>\n",
              "      <td>{'learning_rate': 0.1, 'max_depth': 1, 'n_esti...</td>\n",
              "      <td>0.903960</td>\n",
              "      <td>0.891460</td>\n",
              "      <td>0.893987</td>\n",
              "      <td>0.917003</td>\n",
              "      <td>0.895152</td>\n",
              "      <td>0.900312</td>\n",
              "      <td>0.009347</td>\n",
              "      <td>5</td>\n",
              "    </tr>\n",
              "  </tbody>\n",
              "</table>\n",
              "</div>\n",
              "      <button class=\"colab-df-convert\" onclick=\"convertToInteractive('df-f1ec7290-79e1-48b3-9c4f-5fe37a2fbdad')\"\n",
              "              title=\"Convert this dataframe to an interactive table.\"\n",
              "              style=\"display:none;\">\n",
              "        \n",
              "  <svg xmlns=\"http://www.w3.org/2000/svg\" height=\"24px\"viewBox=\"0 0 24 24\"\n",
              "       width=\"24px\">\n",
              "    <path d=\"M0 0h24v24H0V0z\" fill=\"none\"/>\n",
              "    <path d=\"M18.56 5.44l.94 2.06.94-2.06 2.06-.94-2.06-.94-.94-2.06-.94 2.06-2.06.94zm-11 1L8.5 8.5l.94-2.06 2.06-.94-2.06-.94L8.5 2.5l-.94 2.06-2.06.94zm10 10l.94 2.06.94-2.06 2.06-.94-2.06-.94-.94-2.06-.94 2.06-2.06.94z\"/><path d=\"M17.41 7.96l-1.37-1.37c-.4-.4-.92-.59-1.43-.59-.52 0-1.04.2-1.43.59L10.3 9.45l-7.72 7.72c-.78.78-.78 2.05 0 2.83L4 21.41c.39.39.9.59 1.41.59.51 0 1.02-.2 1.41-.59l7.78-7.78 2.81-2.81c.8-.78.8-2.07 0-2.86zM5.41 20L4 18.59l7.72-7.72 1.47 1.35L5.41 20z\"/>\n",
              "  </svg>\n",
              "      </button>\n",
              "      \n",
              "  <style>\n",
              "    .colab-df-container {\n",
              "      display:flex;\n",
              "      flex-wrap:wrap;\n",
              "      gap: 12px;\n",
              "    }\n",
              "\n",
              "    .colab-df-convert {\n",
              "      background-color: #E8F0FE;\n",
              "      border: none;\n",
              "      border-radius: 50%;\n",
              "      cursor: pointer;\n",
              "      display: none;\n",
              "      fill: #1967D2;\n",
              "      height: 32px;\n",
              "      padding: 0 0 0 0;\n",
              "      width: 32px;\n",
              "    }\n",
              "\n",
              "    .colab-df-convert:hover {\n",
              "      background-color: #E2EBFA;\n",
              "      box-shadow: 0px 1px 2px rgba(60, 64, 67, 0.3), 0px 1px 3px 1px rgba(60, 64, 67, 0.15);\n",
              "      fill: #174EA6;\n",
              "    }\n",
              "\n",
              "    [theme=dark] .colab-df-convert {\n",
              "      background-color: #3B4455;\n",
              "      fill: #D2E3FC;\n",
              "    }\n",
              "\n",
              "    [theme=dark] .colab-df-convert:hover {\n",
              "      background-color: #434B5C;\n",
              "      box-shadow: 0px 1px 3px 1px rgba(0, 0, 0, 0.15);\n",
              "      filter: drop-shadow(0px 1px 2px rgba(0, 0, 0, 0.3));\n",
              "      fill: #FFFFFF;\n",
              "    }\n",
              "  </style>\n",
              "\n",
              "      <script>\n",
              "        const buttonEl =\n",
              "          document.querySelector('#df-f1ec7290-79e1-48b3-9c4f-5fe37a2fbdad button.colab-df-convert');\n",
              "        buttonEl.style.display =\n",
              "          google.colab.kernel.accessAllowed ? 'block' : 'none';\n",
              "\n",
              "        async function convertToInteractive(key) {\n",
              "          const element = document.querySelector('#df-f1ec7290-79e1-48b3-9c4f-5fe37a2fbdad');\n",
              "          const dataTable =\n",
              "            await google.colab.kernel.invokeFunction('convertToInteractive',\n",
              "                                                     [key], {});\n",
              "          if (!dataTable) return;\n",
              "\n",
              "          const docLinkHtml = 'Like what you see? Visit the ' +\n",
              "            '<a target=\"_blank\" href=https://colab.research.google.com/notebooks/data_table.ipynb>data table notebook</a>'\n",
              "            + ' to learn more about interactive tables.';\n",
              "          element.innerHTML = '';\n",
              "          dataTable['output_type'] = 'display_data';\n",
              "          await google.colab.output.renderOutput(dataTable, element);\n",
              "          const docLink = document.createElement('div');\n",
              "          docLink.innerHTML = docLinkHtml;\n",
              "          element.appendChild(docLink);\n",
              "        }\n",
              "      </script>\n",
              "    </div>\n",
              "  </div>\n",
              "  "
            ]
          },
          "metadata": {},
          "execution_count": 60
        }
      ],
      "source": [
        "param_grid = dict({'n_estimators': [50, 1000],'max_depth': [1,10],'learning_rate' : [0.01, 0.1]})\n",
        "gb = GradientBoostingClassifier(n_estimators=100,learning_rate=1.0)\n",
        "grid_search = GridSearchCV(gb, param_grid, cv = 5, scoring = 'roc_auc', n_jobs = -1)\n",
        "grid_search.fit(df_prepared_fr,df_y)\n",
        "print('The best parameters are ', grid_search.best_params_)\n",
        "cv_res = pd.DataFrame(grid_search.cv_results_)\n",
        "cv_res.sort_values(by=\"mean_test_score\", ascending=False, inplace=True)\n",
        "cv_res.head()"
      ]
    },
    {
      "cell_type": "markdown",
      "metadata": {
        "id": "lkk91ZZQaBr3"
      },
      "source": [
        "### Halving Grid Search ###"
      ]
    },
    {
      "cell_type": "code",
      "execution_count": null,
      "metadata": {
        "id": "1NJKO2_R8gxk",
        "colab": {
          "base_uri": "https://localhost:8080/"
        },
        "outputId": "f05f33c9-f3ce-47e4-dc25-c2d64dbf7956"
      },
      "outputs": [
        {
          "output_type": "stream",
          "name": "stdout",
          "text": [
            "The best parameters are  {'xgb__learning_rate': 0.1, 'xgb__max_depth': 1, 'xgb__n_estimators': 1000}\n"
          ]
        },
        {
          "output_type": "execute_result",
          "data": {
            "text/plain": [
              "    iter  n_resources param_xgb__learning_rate param_xgb__max_depth  \\\n",
              "10     1         7998                      0.1                    1   \n",
              "9      1         7998                      0.1                   10   \n",
              "8      1         7998                     0.01                   10   \n",
              "5      0         2666                      0.1                    1   \n",
              "7      0         2666                      0.1                   10   \n",
              "3      0         2666                     0.01                   10   \n",
              "\n",
              "   param_xgb__n_estimators  mean_test_score  \n",
              "10                    1000         0.816029  \n",
              "9                     1000         0.797480  \n",
              "8                     1000         0.797104  \n",
              "5                     1000         0.791277  \n",
              "7                     1000         0.775421  \n",
              "3                     1000         0.770742  "
            ],
            "text/html": [
              "\n",
              "  <div id=\"df-a460837a-b581-4975-89ae-fbc18cc7fa1f\">\n",
              "    <div class=\"colab-df-container\">\n",
              "      <div>\n",
              "<style scoped>\n",
              "    .dataframe tbody tr th:only-of-type {\n",
              "        vertical-align: middle;\n",
              "    }\n",
              "\n",
              "    .dataframe tbody tr th {\n",
              "        vertical-align: top;\n",
              "    }\n",
              "\n",
              "    .dataframe thead th {\n",
              "        text-align: right;\n",
              "    }\n",
              "</style>\n",
              "<table border=\"1\" class=\"dataframe\">\n",
              "  <thead>\n",
              "    <tr style=\"text-align: right;\">\n",
              "      <th></th>\n",
              "      <th>iter</th>\n",
              "      <th>n_resources</th>\n",
              "      <th>param_xgb__learning_rate</th>\n",
              "      <th>param_xgb__max_depth</th>\n",
              "      <th>param_xgb__n_estimators</th>\n",
              "      <th>mean_test_score</th>\n",
              "    </tr>\n",
              "  </thead>\n",
              "  <tbody>\n",
              "    <tr>\n",
              "      <th>10</th>\n",
              "      <td>1</td>\n",
              "      <td>7998</td>\n",
              "      <td>0.1</td>\n",
              "      <td>1</td>\n",
              "      <td>1000</td>\n",
              "      <td>0.816029</td>\n",
              "    </tr>\n",
              "    <tr>\n",
              "      <th>9</th>\n",
              "      <td>1</td>\n",
              "      <td>7998</td>\n",
              "      <td>0.1</td>\n",
              "      <td>10</td>\n",
              "      <td>1000</td>\n",
              "      <td>0.797480</td>\n",
              "    </tr>\n",
              "    <tr>\n",
              "      <th>8</th>\n",
              "      <td>1</td>\n",
              "      <td>7998</td>\n",
              "      <td>0.01</td>\n",
              "      <td>10</td>\n",
              "      <td>1000</td>\n",
              "      <td>0.797104</td>\n",
              "    </tr>\n",
              "    <tr>\n",
              "      <th>5</th>\n",
              "      <td>0</td>\n",
              "      <td>2666</td>\n",
              "      <td>0.1</td>\n",
              "      <td>1</td>\n",
              "      <td>1000</td>\n",
              "      <td>0.791277</td>\n",
              "    </tr>\n",
              "    <tr>\n",
              "      <th>7</th>\n",
              "      <td>0</td>\n",
              "      <td>2666</td>\n",
              "      <td>0.1</td>\n",
              "      <td>10</td>\n",
              "      <td>1000</td>\n",
              "      <td>0.775421</td>\n",
              "    </tr>\n",
              "    <tr>\n",
              "      <th>3</th>\n",
              "      <td>0</td>\n",
              "      <td>2666</td>\n",
              "      <td>0.01</td>\n",
              "      <td>10</td>\n",
              "      <td>1000</td>\n",
              "      <td>0.770742</td>\n",
              "    </tr>\n",
              "  </tbody>\n",
              "</table>\n",
              "</div>\n",
              "      <button class=\"colab-df-convert\" onclick=\"convertToInteractive('df-a460837a-b581-4975-89ae-fbc18cc7fa1f')\"\n",
              "              title=\"Convert this dataframe to an interactive table.\"\n",
              "              style=\"display:none;\">\n",
              "        \n",
              "  <svg xmlns=\"http://www.w3.org/2000/svg\" height=\"24px\"viewBox=\"0 0 24 24\"\n",
              "       width=\"24px\">\n",
              "    <path d=\"M0 0h24v24H0V0z\" fill=\"none\"/>\n",
              "    <path d=\"M18.56 5.44l.94 2.06.94-2.06 2.06-.94-2.06-.94-.94-2.06-.94 2.06-2.06.94zm-11 1L8.5 8.5l.94-2.06 2.06-.94-2.06-.94L8.5 2.5l-.94 2.06-2.06.94zm10 10l.94 2.06.94-2.06 2.06-.94-2.06-.94-.94-2.06-.94 2.06-2.06.94z\"/><path d=\"M17.41 7.96l-1.37-1.37c-.4-.4-.92-.59-1.43-.59-.52 0-1.04.2-1.43.59L10.3 9.45l-7.72 7.72c-.78.78-.78 2.05 0 2.83L4 21.41c.39.39.9.59 1.41.59.51 0 1.02-.2 1.41-.59l7.78-7.78 2.81-2.81c.8-.78.8-2.07 0-2.86zM5.41 20L4 18.59l7.72-7.72 1.47 1.35L5.41 20z\"/>\n",
              "  </svg>\n",
              "      </button>\n",
              "      \n",
              "  <style>\n",
              "    .colab-df-container {\n",
              "      display:flex;\n",
              "      flex-wrap:wrap;\n",
              "      gap: 12px;\n",
              "    }\n",
              "\n",
              "    .colab-df-convert {\n",
              "      background-color: #E8F0FE;\n",
              "      border: none;\n",
              "      border-radius: 50%;\n",
              "      cursor: pointer;\n",
              "      display: none;\n",
              "      fill: #1967D2;\n",
              "      height: 32px;\n",
              "      padding: 0 0 0 0;\n",
              "      width: 32px;\n",
              "    }\n",
              "\n",
              "    .colab-df-convert:hover {\n",
              "      background-color: #E2EBFA;\n",
              "      box-shadow: 0px 1px 2px rgba(60, 64, 67, 0.3), 0px 1px 3px 1px rgba(60, 64, 67, 0.15);\n",
              "      fill: #174EA6;\n",
              "    }\n",
              "\n",
              "    [theme=dark] .colab-df-convert {\n",
              "      background-color: #3B4455;\n",
              "      fill: #D2E3FC;\n",
              "    }\n",
              "\n",
              "    [theme=dark] .colab-df-convert:hover {\n",
              "      background-color: #434B5C;\n",
              "      box-shadow: 0px 1px 3px 1px rgba(0, 0, 0, 0.15);\n",
              "      filter: drop-shadow(0px 1px 2px rgba(0, 0, 0, 0.3));\n",
              "      fill: #FFFFFF;\n",
              "    }\n",
              "  </style>\n",
              "\n",
              "      <script>\n",
              "        const buttonEl =\n",
              "          document.querySelector('#df-a460837a-b581-4975-89ae-fbc18cc7fa1f button.colab-df-convert');\n",
              "        buttonEl.style.display =\n",
              "          google.colab.kernel.accessAllowed ? 'block' : 'none';\n",
              "\n",
              "        async function convertToInteractive(key) {\n",
              "          const element = document.querySelector('#df-a460837a-b581-4975-89ae-fbc18cc7fa1f');\n",
              "          const dataTable =\n",
              "            await google.colab.kernel.invokeFunction('convertToInteractive',\n",
              "                                                     [key], {});\n",
              "          if (!dataTable) return;\n",
              "\n",
              "          const docLinkHtml = 'Like what you see? Visit the ' +\n",
              "            '<a target=\"_blank\" href=https://colab.research.google.com/notebooks/data_table.ipynb>data table notebook</a>'\n",
              "            + ' to learn more about interactive tables.';\n",
              "          element.innerHTML = '';\n",
              "          dataTable['output_type'] = 'display_data';\n",
              "          await google.colab.output.renderOutput(dataTable, element);\n",
              "          const docLink = document.createElement('div');\n",
              "          docLink.innerHTML = docLinkHtml;\n",
              "          element.appendChild(docLink);\n",
              "        }\n",
              "      </script>\n",
              "    </div>\n",
              "  </div>\n",
              "  "
            ]
          },
          "metadata": {},
          "execution_count": 61
        }
      ],
      "source": [
        "from sklearn.experimental import enable_halving_search_cv\n",
        "from sklearn.model_selection import HalvingGridSearchCV\n",
        "\n",
        "xgb_pipeline = Pipeline([\n",
        "    (\"preprocess_pipeline\", preprocessing),\n",
        "    (\"xgb\", GradientBoostingClassifier(n_estimators=100,learning_rate=1.0)),\n",
        "])\n",
        "param_grid = dict({'xgb__n_estimators': [50, 1000],'xgb__max_depth': [1,10],'xgb__learning_rate' : [0.01, 0.1]})\n",
        "\n",
        "\n",
        "halving_grid_search = HalvingGridSearchCV(xgb_pipeline, param_grid, cv=3, \n",
        "                                    min_resources='exhaust', \n",
        "                                    scoring='balanced_accuracy')\n",
        "halving_grid_search.fit(df_X,df_y)\n",
        "print('The best parameters are ', halving_grid_search.best_params_)\n",
        "\n",
        "halving_grid_cv_res = pd.DataFrame(halving_grid_search.cv_results_)  \n",
        "halving_grid_cv_res.sort_values(by=['iter', 'mean_test_score'], ascending=False, inplace=True)\n",
        "halving_grid_cv_res.filter(regex = '(iter|^param_|mean_test_score|n_resources)', axis=1).head(6)"
      ]
    },
    {
      "cell_type": "markdown",
      "metadata": {
        "id": "j06e_NUJoQNk"
      },
      "source": [
        "The result from grid search is the same as halving grid search."
      ]
    },
    {
      "cell_type": "markdown",
      "metadata": {
        "id": "-g-KT7N-aHUw"
      },
      "source": [
        "### Parameter Selection###"
      ]
    },
    {
      "cell_type": "code",
      "execution_count": null,
      "metadata": {
        "id": "3tXqCNJqct10",
        "colab": {
          "base_uri": "https://localhost:8080/"
        },
        "outputId": "5b03fe38-bfbc-45bf-bf2d-7a26ee2c106a"
      },
      "outputs": [
        {
          "output_type": "execute_result",
          "data": {
            "text/plain": [
              "GradientBoostingClassifier(max_depth=1, n_estimators=1000)"
            ],
            "text/html": [
              "<style>#sk-f976a2dc-f017-48c4-86b5-ea5115912dc7 {color: black;background-color: white;}#sk-f976a2dc-f017-48c4-86b5-ea5115912dc7 pre{padding: 0;}#sk-f976a2dc-f017-48c4-86b5-ea5115912dc7 div.sk-toggleable {background-color: white;}#sk-f976a2dc-f017-48c4-86b5-ea5115912dc7 label.sk-toggleable__label {cursor: pointer;display: block;width: 100%;margin-bottom: 0;padding: 0.3em;box-sizing: border-box;text-align: center;}#sk-f976a2dc-f017-48c4-86b5-ea5115912dc7 label.sk-toggleable__label-arrow:before {content: \"▸\";float: left;margin-right: 0.25em;color: #696969;}#sk-f976a2dc-f017-48c4-86b5-ea5115912dc7 label.sk-toggleable__label-arrow:hover:before {color: black;}#sk-f976a2dc-f017-48c4-86b5-ea5115912dc7 div.sk-estimator:hover label.sk-toggleable__label-arrow:before {color: black;}#sk-f976a2dc-f017-48c4-86b5-ea5115912dc7 div.sk-toggleable__content {max-height: 0;max-width: 0;overflow: hidden;text-align: left;background-color: #f0f8ff;}#sk-f976a2dc-f017-48c4-86b5-ea5115912dc7 div.sk-toggleable__content pre {margin: 0.2em;color: black;border-radius: 0.25em;background-color: #f0f8ff;}#sk-f976a2dc-f017-48c4-86b5-ea5115912dc7 input.sk-toggleable__control:checked~div.sk-toggleable__content {max-height: 200px;max-width: 100%;overflow: auto;}#sk-f976a2dc-f017-48c4-86b5-ea5115912dc7 input.sk-toggleable__control:checked~label.sk-toggleable__label-arrow:before {content: \"▾\";}#sk-f976a2dc-f017-48c4-86b5-ea5115912dc7 div.sk-estimator input.sk-toggleable__control:checked~label.sk-toggleable__label {background-color: #d4ebff;}#sk-f976a2dc-f017-48c4-86b5-ea5115912dc7 div.sk-label input.sk-toggleable__control:checked~label.sk-toggleable__label {background-color: #d4ebff;}#sk-f976a2dc-f017-48c4-86b5-ea5115912dc7 input.sk-hidden--visually {border: 0;clip: rect(1px 1px 1px 1px);clip: rect(1px, 1px, 1px, 1px);height: 1px;margin: -1px;overflow: hidden;padding: 0;position: absolute;width: 1px;}#sk-f976a2dc-f017-48c4-86b5-ea5115912dc7 div.sk-estimator {font-family: monospace;background-color: #f0f8ff;border: 1px dotted black;border-radius: 0.25em;box-sizing: border-box;margin-bottom: 0.5em;}#sk-f976a2dc-f017-48c4-86b5-ea5115912dc7 div.sk-estimator:hover {background-color: #d4ebff;}#sk-f976a2dc-f017-48c4-86b5-ea5115912dc7 div.sk-parallel-item::after {content: \"\";width: 100%;border-bottom: 1px solid gray;flex-grow: 1;}#sk-f976a2dc-f017-48c4-86b5-ea5115912dc7 div.sk-label:hover label.sk-toggleable__label {background-color: #d4ebff;}#sk-f976a2dc-f017-48c4-86b5-ea5115912dc7 div.sk-serial::before {content: \"\";position: absolute;border-left: 1px solid gray;box-sizing: border-box;top: 2em;bottom: 0;left: 50%;}#sk-f976a2dc-f017-48c4-86b5-ea5115912dc7 div.sk-serial {display: flex;flex-direction: column;align-items: center;background-color: white;padding-right: 0.2em;padding-left: 0.2em;}#sk-f976a2dc-f017-48c4-86b5-ea5115912dc7 div.sk-item {z-index: 1;}#sk-f976a2dc-f017-48c4-86b5-ea5115912dc7 div.sk-parallel {display: flex;align-items: stretch;justify-content: center;background-color: white;}#sk-f976a2dc-f017-48c4-86b5-ea5115912dc7 div.sk-parallel::before {content: \"\";position: absolute;border-left: 1px solid gray;box-sizing: border-box;top: 2em;bottom: 0;left: 50%;}#sk-f976a2dc-f017-48c4-86b5-ea5115912dc7 div.sk-parallel-item {display: flex;flex-direction: column;position: relative;background-color: white;}#sk-f976a2dc-f017-48c4-86b5-ea5115912dc7 div.sk-parallel-item:first-child::after {align-self: flex-end;width: 50%;}#sk-f976a2dc-f017-48c4-86b5-ea5115912dc7 div.sk-parallel-item:last-child::after {align-self: flex-start;width: 50%;}#sk-f976a2dc-f017-48c4-86b5-ea5115912dc7 div.sk-parallel-item:only-child::after {width: 0;}#sk-f976a2dc-f017-48c4-86b5-ea5115912dc7 div.sk-dashed-wrapped {border: 1px dashed gray;margin: 0 0.4em 0.5em 0.4em;box-sizing: border-box;padding-bottom: 0.4em;background-color: white;position: relative;}#sk-f976a2dc-f017-48c4-86b5-ea5115912dc7 div.sk-label label {font-family: monospace;font-weight: bold;background-color: white;display: inline-block;line-height: 1.2em;}#sk-f976a2dc-f017-48c4-86b5-ea5115912dc7 div.sk-label-container {position: relative;z-index: 2;text-align: center;}#sk-f976a2dc-f017-48c4-86b5-ea5115912dc7 div.sk-container {/* jupyter's `normalize.less` sets `[hidden] { display: none; }` but bootstrap.min.css set `[hidden] { display: none !important; }` so we also need the `!important` here to be able to override the default hidden behavior on the sphinx rendered scikit-learn.org. See: https://github.com/scikit-learn/scikit-learn/issues/21755 */display: inline-block !important;position: relative;}#sk-f976a2dc-f017-48c4-86b5-ea5115912dc7 div.sk-text-repr-fallback {display: none;}</style><div id=\"sk-f976a2dc-f017-48c4-86b5-ea5115912dc7\" class=\"sk-top-container\"><div class=\"sk-text-repr-fallback\"><pre>GradientBoostingClassifier(max_depth=1, n_estimators=1000)</pre><b>Please rerun this cell to show the HTML repr or trust the notebook.</b></div><div class=\"sk-container\" hidden><div class=\"sk-item\"><div class=\"sk-estimator sk-toggleable\"><input class=\"sk-toggleable__control sk-hidden--visually\" id=\"04f087df-d165-4482-8d10-d68ac0f039a7\" type=\"checkbox\" checked><label for=\"04f087df-d165-4482-8d10-d68ac0f039a7\" class=\"sk-toggleable__label sk-toggleable__label-arrow\">GradientBoostingClassifier</label><div class=\"sk-toggleable__content\"><pre>GradientBoostingClassifier(max_depth=1, n_estimators=1000)</pre></div></div></div></div></div>"
            ]
          },
          "metadata": {},
          "execution_count": 62
        }
      ],
      "source": [
        "gb_clf = GradientBoostingClassifier(n_estimators=1000,learning_rate=0.1,max_depth=1)\n",
        "gb_clf.fit(X_train, y_train)"
      ]
    },
    {
      "cell_type": "code",
      "execution_count": null,
      "metadata": {
        "id": "2txCT-I3dUMU",
        "colab": {
          "base_uri": "https://localhost:8080/"
        },
        "outputId": "de73d1d1-bb39-4c1a-cf15-a8c2652b6c08"
      },
      "outputs": [
        {
          "output_type": "stream",
          "name": "stdout",
          "text": [
            "Accuracy score is:  0.834\n",
            "balanced accuracy score is:  0.8047\n"
          ]
        }
      ],
      "source": [
        "y_pred = gb_clf.predict(X_test)\n",
        "\n",
        "acc = acc.append({'Model' : 'XGB_Halving&Grid', \n",
        "                  'Accuracy_Score' : accuracy_score(test_set[\"OUTCOME\"], y_pred), \n",
        "                  'Balanced_Accuracy_Score':balanced_accuracy_score(test_set[\"OUTCOME\"], y_pred).round(4)},\n",
        "                  ignore_index = True)\n",
        "\n",
        "print('Accuracy score is: ',accuracy_score(test_set[\"OUTCOME\"], y_pred))\n",
        "print('balanced accuracy score is: ',balanced_accuracy_score(test_set[\"OUTCOME\"], y_pred).round(4))"
      ]
    },
    {
      "cell_type": "code",
      "execution_count": null,
      "metadata": {
        "id": "KXqlhkfqdUMV",
        "colab": {
          "base_uri": "https://localhost:8080/"
        },
        "outputId": "67af9f62-b4be-475e-9ac5-60662afc8593"
      },
      "outputs": [
        {
          "output_type": "execute_result",
          "data": {
            "text/plain": [
              "0.818"
            ]
          },
          "metadata": {},
          "execution_count": 64
        }
      ],
      "source": [
        "#cross validation score\n",
        "from sklearn.model_selection import cross_val_score\n",
        "xgb_clf_scores = cross_val_score(gb_clf, X_train, y_train, cv=10, scoring='balanced_accuracy')\n",
        "\n",
        "cv_mean = cv_mean.append({'Model' : 'XGB_Halving&Grid', 'Score' : xgb_clf_scores.mean().round(3)},ignore_index = True)\n",
        "\n",
        "xgb_clf_scores.mean().round(3)"
      ]
    },
    {
      "cell_type": "markdown",
      "metadata": {
        "id": "3-5tHBAC7XdB"
      },
      "source": [
        "#**Fit ROC**"
      ]
    },
    {
      "cell_type": "code",
      "execution_count": null,
      "metadata": {
        "id": "6rRYIGvwurmm",
        "colab": {
          "base_uri": "https://localhost:8080/"
        },
        "outputId": "7d380a9e-0e65-4662-a1ea-07a76b2fad9c"
      },
      "outputs": [
        {
          "output_type": "stream",
          "name": "stdout",
          "text": [
            "                          Model  Score\n",
            "8                      SVM_Grid  0.831\n",
            "9                   SVM_Halving  0.827\n",
            "1      RandomForest_Grid_Search  0.822\n",
            "3           LogisticReg_Default  0.821\n",
            "4      LogisticReg_Halving&Grid  0.821\n",
            "2   RandomForest_Halving_Search  0.820\n",
            "7                   SVM_Default  0.818\n",
            "11             XGB_Halving&Grid  0.818\n",
            "10                  XGB_Default  0.803\n",
            "0          RandomForest_Default  0.797\n",
            "5                   KNN_Default  0.773\n",
            "6              KNN_Halving&Grid  0.765\n",
            "\n",
            "\n",
            "                         Model  Accuracy_Score  Balanced_Accuracy_Score\n",
            "5                  SVM_Halving          0.8405                   0.8165\n",
            "0     RandomForest_Grid_Search          0.8405                   0.8130\n",
            "4                     SVM_Grid          0.8360                   0.8120\n",
            "1  RandomForest_Halving_Search          0.8380                   0.8096\n",
            "6             XGB_Halving&Grid          0.8340                   0.8047\n",
            "2     LogisticReg_Halving&Grid          0.8250                   0.7910\n",
            "3             KNN_Halving&Grid          0.8125                   0.7662\n"
          ]
        }
      ],
      "source": [
        "print(cv_mean.sort_values(by=['Score'],ascending=False))\n",
        "print('\\n')\n",
        "print(acc.sort_values(by=['Balanced_Accuracy_Score'],ascending=False))"
      ]
    },
    {
      "cell_type": "code",
      "execution_count": null,
      "metadata": {
        "id": "KYgxgoTTh8Sb",
        "colab": {
          "base_uri": "https://localhost:8080/"
        },
        "outputId": "0f96b498-6897-48a8-e5a8-f20039d8493e"
      },
      "outputs": [
        {
          "output_type": "execute_result",
          "data": {
            "text/plain": [
              "<matplotlib.legend.Legend at 0x7f71cda18f70>"
            ]
          },
          "metadata": {},
          "execution_count": 66
        },
        {
          "output_type": "display_data",
          "data": {
            "text/plain": [
              "<Figure size 432x288 with 1 Axes>"
            ],
            "image/png": "[encoded data removed]"
          },
          "metadata": {
            "needs_background": "light"
          }
        }
      ],
      "source": [
        "from sklearn import metrics\n",
        "import numpy as np\n",
        "import matplotlib.pyplot as plt\n",
        "\n",
        "plt.figure(0).clf()\n",
        "\n",
        "#fit Random Forest model and plot ROC curve\n",
        "model = RandomForestClassifier(max_depth= 10, min_samples_leaf = 5,max_features = None, n_estimators=100, random_state=42)\n",
        "model.fit(X_train, y_train)\n",
        "y_pred = model.predict_proba(X_test)[:, 1]\n",
        "fpr, tpr, _ = metrics.roc_curve(y_test, y_pred)\n",
        "auc = round(metrics.roc_auc_score(y_test, y_pred), 4)\n",
        "plt.plot(fpr,tpr,label=\"RandomForest, AUC=\"+str(auc))\n",
        "\n",
        "# #fit logistic regression model and plot ROC curve\n",
        "scaler = StandardScaler(with_mean=False)\n",
        "log_g = LogisticRegression(C = 10000, max_iter=10000, tol=0.1)\n",
        "pca = PCA(n_components = 60)\n",
        "log_pipe = Pipeline(steps=[(\"scaler\", scaler), (\"pca\", pca), (\"logistic\", logistic)])\n",
        "log_pipe.fit(X_train.toarray(), y_train)\n",
        "y_pred = log_pipe.predict_proba(X_test.toarray())[:, 1]\n",
        "fpr, tpr, _ = metrics.roc_curve(y_test, y_pred)\n",
        "auc = round(metrics.roc_auc_score(y_test, y_pred), 4)\n",
        "plt.plot(fpr,tpr,label=\"Logistic Regression, AUC=\"+str(auc))\n",
        "\n",
        "#fit KNN regression model and plot ROC curve\n",
        "model = KNeighborsClassifier(n_neighbors = 10,p=2)\n",
        "model.fit(X_train, y_train)\n",
        "y_pred = model.predict_proba(X_test)[:, 1]\n",
        "fpr, tpr, _ = metrics.roc_curve(y_test, y_pred)\n",
        "auc = round(metrics.roc_auc_score(y_test, y_pred), 4)\n",
        "plt.plot(fpr,tpr,label=\"KNN, AUC=\"+str(auc))\n",
        "\n",
        "\n",
        "#fit SVM model and plot ROC curve\n",
        "model = SVC(C=100,kernel = 'linear',probability=True)\n",
        "model.fit(X_train, y_train)\n",
        "y_pred = model.predict_proba(X_test)[:, 1]\n",
        "fpr, tpr, _ = metrics.roc_curve(y_test, y_pred)\n",
        "auc = round(metrics.roc_auc_score(y_test, y_pred), 4)\n",
        "plt.plot(fpr,tpr,label=\"SVC, AUC=\"+str(auc))\n",
        "\n",
        "#fit gradient boosted model and plot ROC curve\n",
        "model = GradientBoostingClassifier(n_estimators=1000,learning_rate=0.1,max_depth=1)\n",
        "model.fit(X_train, y_train)\n",
        "y_pred = model.predict_proba(X_test)[:, 1]\n",
        "fpr, tpr, _ = metrics.roc_curve(y_test, y_pred)\n",
        "auc = round(metrics.roc_auc_score(y_test, y_pred), 4)\n",
        "plt.plot(fpr,tpr,label=\"Gradient Boosting, AUC=\"+str(auc))\n",
        "\n",
        "#add legend\n",
        "plt.legend()"
      ]
    },
    {
      "cell_type": "code",
      "execution_count": null,
      "metadata": {
        "id": "lcMroUjWinP-",
        "colab": {
          "base_uri": "https://localhost:8080/"
        },
        "outputId": "8633920a-8f88-4a37-9253-86b3b0315dfb"
      },
      "outputs": [
        {
          "output_type": "execute_result",
          "data": {
            "text/plain": [
              "GradientBoostingClassifier(learning_rate=1.0)"
            ],
            "text/html": [
              "<style>#sk-0bc0c921-53b0-459f-bcfd-4eecdda3db42 {color: black;background-color: white;}#sk-0bc0c921-53b0-459f-bcfd-4eecdda3db42 pre{padding: 0;}#sk-0bc0c921-53b0-459f-bcfd-4eecdda3db42 div.sk-toggleable {background-color: white;}#sk-0bc0c921-53b0-459f-bcfd-4eecdda3db42 label.sk-toggleable__label {cursor: pointer;display: block;width: 100%;margin-bottom: 0;padding: 0.3em;box-sizing: border-box;text-align: center;}#sk-0bc0c921-53b0-459f-bcfd-4eecdda3db42 label.sk-toggleable__label-arrow:before {content: \"▸\";float: left;margin-right: 0.25em;color: #696969;}#sk-0bc0c921-53b0-459f-bcfd-4eecdda3db42 label.sk-toggleable__label-arrow:hover:before {color: black;}#sk-0bc0c921-53b0-459f-bcfd-4eecdda3db42 div.sk-estimator:hover label.sk-toggleable__label-arrow:before {color: black;}#sk-0bc0c921-53b0-459f-bcfd-4eecdda3db42 div.sk-toggleable__content {max-height: 0;max-width: 0;overflow: hidden;text-align: left;background-color: #f0f8ff;}#sk-0bc0c921-53b0-459f-bcfd-4eecdda3db42 div.sk-toggleable__content pre {margin: 0.2em;color: black;border-radius: 0.25em;background-color: #f0f8ff;}#sk-0bc0c921-53b0-459f-bcfd-4eecdda3db42 input.sk-toggleable__control:checked~div.sk-toggleable__content {max-height: 200px;max-width: 100%;overflow: auto;}#sk-0bc0c921-53b0-459f-bcfd-4eecdda3db42 input.sk-toggleable__control:checked~label.sk-toggleable__label-arrow:before {content: \"▾\";}#sk-0bc0c921-53b0-459f-bcfd-4eecdda3db42 div.sk-estimator input.sk-toggleable__control:checked~label.sk-toggleable__label {background-color: #d4ebff;}#sk-0bc0c921-53b0-459f-bcfd-4eecdda3db42 div.sk-label input.sk-toggleable__control:checked~label.sk-toggleable__label {background-color: #d4ebff;}#sk-0bc0c921-53b0-459f-bcfd-4eecdda3db42 input.sk-hidden--visually {border: 0;clip: rect(1px 1px 1px 1px);clip: rect(1px, 1px, 1px, 1px);height: 1px;margin: -1px;overflow: hidden;padding: 0;position: absolute;width: 1px;}#sk-0bc0c921-53b0-459f-bcfd-4eecdda3db42 div.sk-estimator {font-family: monospace;background-color: #f0f8ff;border: 1px dotted black;border-radius: 0.25em;box-sizing: border-box;margin-bottom: 0.5em;}#sk-0bc0c921-53b0-459f-bcfd-4eecdda3db42 div.sk-estimator:hover {background-color: #d4ebff;}#sk-0bc0c921-53b0-459f-bcfd-4eecdda3db42 div.sk-parallel-item::after {content: \"\";width: 100%;border-bottom: 1px solid gray;flex-grow: 1;}#sk-0bc0c921-53b0-459f-bcfd-4eecdda3db42 div.sk-label:hover label.sk-toggleable__label {background-color: #d4ebff;}#sk-0bc0c921-53b0-459f-bcfd-4eecdda3db42 div.sk-serial::before {content: \"\";position: absolute;border-left: 1px solid gray;box-sizing: border-box;top: 2em;bottom: 0;left: 50%;}#sk-0bc0c921-53b0-459f-bcfd-4eecdda3db42 div.sk-serial {display: flex;flex-direction: column;align-items: center;background-color: white;padding-right: 0.2em;padding-left: 0.2em;}#sk-0bc0c921-53b0-459f-bcfd-4eecdda3db42 div.sk-item {z-index: 1;}#sk-0bc0c921-53b0-459f-bcfd-4eecdda3db42 div.sk-parallel {display: flex;align-items: stretch;justify-content: center;background-color: white;}#sk-0bc0c921-53b0-459f-bcfd-4eecdda3db42 div.sk-parallel::before {content: \"\";position: absolute;border-left: 1px solid gray;box-sizing: border-box;top: 2em;bottom: 0;left: 50%;}#sk-0bc0c921-53b0-459f-bcfd-4eecdda3db42 div.sk-parallel-item {display: flex;flex-direction: column;position: relative;background-color: white;}#sk-0bc0c921-53b0-459f-bcfd-4eecdda3db42 div.sk-parallel-item:first-child::after {align-self: flex-end;width: 50%;}#sk-0bc0c921-53b0-459f-bcfd-4eecdda3db42 div.sk-parallel-item:last-child::after {align-self: flex-start;width: 50%;}#sk-0bc0c921-53b0-459f-bcfd-4eecdda3db42 div.sk-parallel-item:only-child::after {width: 0;}#sk-0bc0c921-53b0-459f-bcfd-4eecdda3db42 div.sk-dashed-wrapped {border: 1px dashed gray;margin: 0 0.4em 0.5em 0.4em;box-sizing: border-box;padding-bottom: 0.4em;background-color: white;position: relative;}#sk-0bc0c921-53b0-459f-bcfd-4eecdda3db42 div.sk-label label {font-family: monospace;font-weight: bold;background-color: white;display: inline-block;line-height: 1.2em;}#sk-0bc0c921-53b0-459f-bcfd-4eecdda3db42 div.sk-label-container {position: relative;z-index: 2;text-align: center;}#sk-0bc0c921-53b0-459f-bcfd-4eecdda3db42 div.sk-container {/* jupyter's `normalize.less` sets `[hidden] { display: none; }` but bootstrap.min.css set `[hidden] { display: none !important; }` so we also need the `!important` here to be able to override the default hidden behavior on the sphinx rendered scikit-learn.org. See: https://github.com/scikit-learn/scikit-learn/issues/21755 */display: inline-block !important;position: relative;}#sk-0bc0c921-53b0-459f-bcfd-4eecdda3db42 div.sk-text-repr-fallback {display: none;}</style><div id=\"sk-0bc0c921-53b0-459f-bcfd-4eecdda3db42\" class=\"sk-top-container\"><div class=\"sk-text-repr-fallback\"><pre>GradientBoostingClassifier(learning_rate=1.0)</pre><b>Please rerun this cell to show the HTML repr or trust the notebook.</b></div><div class=\"sk-container\" hidden><div class=\"sk-item\"><div class=\"sk-estimator sk-toggleable\"><input class=\"sk-toggleable__control sk-hidden--visually\" id=\"1457ec53-3634-4b82-9d91-2f4c9ba51b13\" type=\"checkbox\" checked><label for=\"1457ec53-3634-4b82-9d91-2f4c9ba51b13\" class=\"sk-toggleable__label sk-toggleable__label-arrow\">GradientBoostingClassifier</label><div class=\"sk-toggleable__content\"><pre>GradientBoostingClassifier(learning_rate=1.0)</pre></div></div></div></div></div>"
            ]
          },
          "metadata": {},
          "execution_count": 67
        }
      ],
      "source": [
        "from sklearn.ensemble import GradientBoostingClassifier\n",
        "model = GradientBoostingClassifier(n_estimators=100,learning_rate=1.0)\n",
        "model.fit(X_train, y_train)\n"
      ]
    },
    {
      "cell_type": "code",
      "execution_count": null,
      "metadata": {
        "id": "07w5B9BVlX3k",
        "colab": {
          "base_uri": "https://localhost:8080/"
        },
        "outputId": "4feb96d3-42da-4f10-dbd8-89b94a32076a"
      },
      "outputs": [
        {
          "output_type": "stream",
          "name": "stdout",
          "text": [
            "[0. 0. 0. 0.]\n"
          ]
        }
      ],
      "source": [
        "#Load ourseleves inthe dataset and fit on a svm to see our outcome result\n",
        "raw_ex = pd.read_csv(data_folder + 'Car_Insurance_Claim_Example.csv')\n",
        "df_X = df_X.append(raw_ex)\n",
        "df_X = df_X.tail(4)\n",
        "X_train1 = preprocessing.transform(df_X)\n",
        "\n",
        "y_pred = model.predict(X_train1)\n",
        "y_pred_prob = model.predict_proba(X_train1)[:, 1]\n",
        "print(y_pred)"
      ]
    },
    {
      "cell_type": "code",
      "execution_count": null,
      "metadata": {
        "id": "mQipHO4kPG8O",
        "colab": {
          "base_uri": "https://localhost:8080/"
        },
        "outputId": "444767ce-f2ba-4c0d-8587-6e75e3778bf2"
      },
      "outputs": [
        {
          "output_type": "stream",
          "name": "stdout",
          "text": [
            "       ID    AGE GENDER      RACE DRIVING_EXPERIENCE   EDUCATION       INCOME  \\\n",
            "0  111111  16-25   male  minority               0-9y  university  upper class   \n",
            "1  222222  16-25   male  minority               0-9y  university  upper class   \n",
            "2  333333  16-25   male  minority               0-9y  university  upper class   \n",
            "3  444444  16-25   male  minority               0-9y  university  upper class   \n",
            "\n",
            "   CREDIT_SCORE  VEHICLE_OWNERSHIP VEHICLE_YEAR  MARRIED  CHILDREN  \\\n",
            "0           NaN                  1   after 2015        0         0   \n",
            "1           NaN                  1   after 2015        0         0   \n",
            "2           NaN                  0   after 2015        0         0   \n",
            "3           NaN                  1   after 2015        0         0   \n",
            "\n",
            "   POSTAL_CODE  ANNUAL_MILEAGE VEHICLE_TYPE  SPEEDING_VIOLATIONS  DUIS  \\\n",
            "0          NaN           10000   sports car                    1     0   \n",
            "1          NaN           20000        sedan                    0     0   \n",
            "2          NaN            5000        sedan                    0     1   \n",
            "3          NaN           25000        sedan                    1     0   \n",
            "\n",
            "   PAST_ACCIDENTS  \n",
            "0               0  \n",
            "1               1  \n",
            "2               1  \n",
            "3               1  \n"
          ]
        }
      ],
      "source": [
        "print(raw_ex)"
      ]
    },
    {
      "cell_type": "markdown",
      "metadata": {
        "id": "C-A3ikgOpcvW"
      },
      "source": [
        "#**Reference**\n"
      ]
    },
    {
      "cell_type": "markdown",
      "metadata": {
        "id": "jC3axlkzpgvc"
      },
      "source": [
        "https://scikit-learn.org/stable/tutorial/statistical_inference/putting_together.html\n",
        "https://www.statology.org/plot-multiple-roc-curves-python/\n",
        "https://colab.research.google.com/drive/1sLPqMnYzr5blGzNAUSpkQ3PK8IJ4Y_Mc?usp=sharing#scrollTo=laKnvuqbfS7A\n",
        "https://colab.research.google.com/drive/1Sk8UJK9R9vYiJR2vLrEe1niexNCYcOKh?usp=sharing\n"
      ]
    }
  ],
  "metadata": {
    "colab": {
      "collapsed_sections": [
        "L3_6HyYRF0-k",
        "1aPux2EMGJiS",
        "8MX9joOSL9TM",
        "obY3cjYqMZd4",
        "qwJT3OW2MNr2",
        "VEZ_fezbMSqO",
        "vd5olLMIG_vY",
        "7G0a8BSdMfl3"
      ],
      "provenance": [],
      "include_colab_link": true
    },
    "kernelspec": {
      "display_name": "Python 3",
      "name": "python3"
    },
    "language_info": {
      "name": "python"
    }
  },
  "nbformat": 4,
  "nbformat_minor": 0
}